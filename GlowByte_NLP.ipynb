{
  "cells": [
    {
      "cell_type": "code",
      "execution_count": 1,
      "metadata": {
        "colab": {
          "base_uri": "https://localhost:8080/"
        },
        "id": "f06b9722",
        "outputId": "945ab38f-8334-4864-ec5a-58c599653cbb"
      },
      "outputs": [
        {
          "output_type": "stream",
          "name": "stdout",
          "text": [
            "Requirement already satisfied: catboost in /usr/local/lib/python3.10/dist-packages (1.2.2)\n",
            "Requirement already satisfied: graphviz in /usr/local/lib/python3.10/dist-packages (from catboost) (0.20.1)\n",
            "Requirement already satisfied: matplotlib in /usr/local/lib/python3.10/dist-packages (from catboost) (3.7.1)\n",
            "Requirement already satisfied: numpy>=1.16.0 in /usr/local/lib/python3.10/dist-packages (from catboost) (1.23.5)\n",
            "Requirement already satisfied: pandas>=0.24 in /usr/local/lib/python3.10/dist-packages (from catboost) (1.5.3)\n",
            "Requirement already satisfied: scipy in /usr/local/lib/python3.10/dist-packages (from catboost) (1.11.4)\n",
            "Requirement already satisfied: plotly in /usr/local/lib/python3.10/dist-packages (from catboost) (5.15.0)\n",
            "Requirement already satisfied: six in /usr/local/lib/python3.10/dist-packages (from catboost) (1.16.0)\n",
            "Requirement already satisfied: python-dateutil>=2.8.1 in /usr/local/lib/python3.10/dist-packages (from pandas>=0.24->catboost) (2.8.2)\n",
            "Requirement already satisfied: pytz>=2020.1 in /usr/local/lib/python3.10/dist-packages (from pandas>=0.24->catboost) (2023.3.post1)\n",
            "Requirement already satisfied: contourpy>=1.0.1 in /usr/local/lib/python3.10/dist-packages (from matplotlib->catboost) (1.2.0)\n",
            "Requirement already satisfied: cycler>=0.10 in /usr/local/lib/python3.10/dist-packages (from matplotlib->catboost) (0.12.1)\n",
            "Requirement already satisfied: fonttools>=4.22.0 in /usr/local/lib/python3.10/dist-packages (from matplotlib->catboost) (4.45.1)\n",
            "Requirement already satisfied: kiwisolver>=1.0.1 in /usr/local/lib/python3.10/dist-packages (from matplotlib->catboost) (1.4.5)\n",
            "Requirement already satisfied: packaging>=20.0 in /usr/local/lib/python3.10/dist-packages (from matplotlib->catboost) (23.2)\n",
            "Requirement already satisfied: pillow>=6.2.0 in /usr/local/lib/python3.10/dist-packages (from matplotlib->catboost) (9.4.0)\n",
            "Requirement already satisfied: pyparsing>=2.3.1 in /usr/local/lib/python3.10/dist-packages (from matplotlib->catboost) (3.1.1)\n",
            "Requirement already satisfied: tenacity>=6.2.0 in /usr/local/lib/python3.10/dist-packages (from plotly->catboost) (8.2.3)\n",
            "Requirement already satisfied: transformers in /usr/local/lib/python3.10/dist-packages (4.35.2)\n",
            "Requirement already satisfied: filelock in /usr/local/lib/python3.10/dist-packages (from transformers) (3.13.1)\n",
            "Requirement already satisfied: huggingface-hub<1.0,>=0.16.4 in /usr/local/lib/python3.10/dist-packages (from transformers) (0.19.4)\n",
            "Requirement already satisfied: numpy>=1.17 in /usr/local/lib/python3.10/dist-packages (from transformers) (1.23.5)\n",
            "Requirement already satisfied: packaging>=20.0 in /usr/local/lib/python3.10/dist-packages (from transformers) (23.2)\n",
            "Requirement already satisfied: pyyaml>=5.1 in /usr/local/lib/python3.10/dist-packages (from transformers) (6.0.1)\n",
            "Requirement already satisfied: regex!=2019.12.17 in /usr/local/lib/python3.10/dist-packages (from transformers) (2023.6.3)\n",
            "Requirement already satisfied: requests in /usr/local/lib/python3.10/dist-packages (from transformers) (2.31.0)\n",
            "Requirement already satisfied: tokenizers<0.19,>=0.14 in /usr/local/lib/python3.10/dist-packages (from transformers) (0.15.0)\n",
            "Requirement already satisfied: safetensors>=0.3.1 in /usr/local/lib/python3.10/dist-packages (from transformers) (0.4.1)\n",
            "Requirement already satisfied: tqdm>=4.27 in /usr/local/lib/python3.10/dist-packages (from transformers) (4.66.1)\n",
            "Requirement already satisfied: fsspec>=2023.5.0 in /usr/local/lib/python3.10/dist-packages (from huggingface-hub<1.0,>=0.16.4->transformers) (2023.6.0)\n",
            "Requirement already satisfied: typing-extensions>=3.7.4.3 in /usr/local/lib/python3.10/dist-packages (from huggingface-hub<1.0,>=0.16.4->transformers) (4.5.0)\n",
            "Requirement already satisfied: charset-normalizer<4,>=2 in /usr/local/lib/python3.10/dist-packages (from requests->transformers) (3.3.2)\n",
            "Requirement already satisfied: idna<4,>=2.5 in /usr/local/lib/python3.10/dist-packages (from requests->transformers) (3.6)\n",
            "Requirement already satisfied: urllib3<3,>=1.21.1 in /usr/local/lib/python3.10/dist-packages (from requests->transformers) (2.0.7)\n",
            "Requirement already satisfied: certifi>=2017.4.17 in /usr/local/lib/python3.10/dist-packages (from requests->transformers) (2023.11.17)\n",
            "Requirement already satisfied: nltk in /usr/local/lib/python3.10/dist-packages (3.8.1)\n",
            "Requirement already satisfied: click in /usr/local/lib/python3.10/dist-packages (from nltk) (8.1.7)\n",
            "Requirement already satisfied: joblib in /usr/local/lib/python3.10/dist-packages (from nltk) (1.3.2)\n",
            "Requirement already satisfied: regex>=2021.8.3 in /usr/local/lib/python3.10/dist-packages (from nltk) (2023.6.3)\n",
            "Requirement already satisfied: tqdm in /usr/local/lib/python3.10/dist-packages (from nltk) (4.66.1)\n",
            "Requirement already satisfied: nlpaug in /usr/local/lib/python3.10/dist-packages (1.1.11)\n",
            "Requirement already satisfied: numpy>=1.16.2 in /usr/local/lib/python3.10/dist-packages (from nlpaug) (1.23.5)\n",
            "Requirement already satisfied: pandas>=1.2.0 in /usr/local/lib/python3.10/dist-packages (from nlpaug) (1.5.3)\n",
            "Requirement already satisfied: requests>=2.22.0 in /usr/local/lib/python3.10/dist-packages (from nlpaug) (2.31.0)\n",
            "Requirement already satisfied: gdown>=4.0.0 in /usr/local/lib/python3.10/dist-packages (from nlpaug) (4.6.6)\n",
            "Requirement already satisfied: filelock in /usr/local/lib/python3.10/dist-packages (from gdown>=4.0.0->nlpaug) (3.13.1)\n",
            "Requirement already satisfied: six in /usr/local/lib/python3.10/dist-packages (from gdown>=4.0.0->nlpaug) (1.16.0)\n",
            "Requirement already satisfied: tqdm in /usr/local/lib/python3.10/dist-packages (from gdown>=4.0.0->nlpaug) (4.66.1)\n",
            "Requirement already satisfied: beautifulsoup4 in /usr/local/lib/python3.10/dist-packages (from gdown>=4.0.0->nlpaug) (4.11.2)\n",
            "Requirement already satisfied: python-dateutil>=2.8.1 in /usr/local/lib/python3.10/dist-packages (from pandas>=1.2.0->nlpaug) (2.8.2)\n",
            "Requirement already satisfied: pytz>=2020.1 in /usr/local/lib/python3.10/dist-packages (from pandas>=1.2.0->nlpaug) (2023.3.post1)\n",
            "Requirement already satisfied: charset-normalizer<4,>=2 in /usr/local/lib/python3.10/dist-packages (from requests>=2.22.0->nlpaug) (3.3.2)\n",
            "Requirement already satisfied: idna<4,>=2.5 in /usr/local/lib/python3.10/dist-packages (from requests>=2.22.0->nlpaug) (3.6)\n",
            "Requirement already satisfied: urllib3<3,>=1.21.1 in /usr/local/lib/python3.10/dist-packages (from requests>=2.22.0->nlpaug) (2.0.7)\n",
            "Requirement already satisfied: certifi>=2017.4.17 in /usr/local/lib/python3.10/dist-packages (from requests>=2.22.0->nlpaug) (2023.11.17)\n",
            "Requirement already satisfied: soupsieve>1.2 in /usr/local/lib/python3.10/dist-packages (from beautifulsoup4->gdown>=4.0.0->nlpaug) (2.5)\n",
            "Requirement already satisfied: PySocks!=1.5.7,>=1.5.6 in /usr/local/lib/python3.10/dist-packages (from requests>=2.22.0->nlpaug) (1.7.1)\n",
            "Requirement already satisfied: evaluate in /usr/local/lib/python3.10/dist-packages (0.4.1)\n",
            "Requirement already satisfied: datasets>=2.0.0 in /usr/local/lib/python3.10/dist-packages (from evaluate) (2.15.0)\n",
            "Requirement already satisfied: numpy>=1.17 in /usr/local/lib/python3.10/dist-packages (from evaluate) (1.23.5)\n",
            "Requirement already satisfied: dill in /usr/local/lib/python3.10/dist-packages (from evaluate) (0.3.7)\n",
            "Requirement already satisfied: pandas in /usr/local/lib/python3.10/dist-packages (from evaluate) (1.5.3)\n",
            "Requirement already satisfied: requests>=2.19.0 in /usr/local/lib/python3.10/dist-packages (from evaluate) (2.31.0)\n",
            "Requirement already satisfied: tqdm>=4.62.1 in /usr/local/lib/python3.10/dist-packages (from evaluate) (4.66.1)\n",
            "Requirement already satisfied: xxhash in /usr/local/lib/python3.10/dist-packages (from evaluate) (3.4.1)\n",
            "Requirement already satisfied: multiprocess in /usr/local/lib/python3.10/dist-packages (from evaluate) (0.70.15)\n",
            "Requirement already satisfied: fsspec[http]>=2021.05.0 in /usr/local/lib/python3.10/dist-packages (from evaluate) (2023.6.0)\n",
            "Requirement already satisfied: huggingface-hub>=0.7.0 in /usr/local/lib/python3.10/dist-packages (from evaluate) (0.19.4)\n",
            "Requirement already satisfied: packaging in /usr/local/lib/python3.10/dist-packages (from evaluate) (23.2)\n",
            "Requirement already satisfied: responses<0.19 in /usr/local/lib/python3.10/dist-packages (from evaluate) (0.18.0)\n",
            "Requirement already satisfied: pyarrow>=8.0.0 in /usr/local/lib/python3.10/dist-packages (from datasets>=2.0.0->evaluate) (9.0.0)\n",
            "Requirement already satisfied: pyarrow-hotfix in /usr/local/lib/python3.10/dist-packages (from datasets>=2.0.0->evaluate) (0.6)\n",
            "Requirement already satisfied: aiohttp in /usr/local/lib/python3.10/dist-packages (from datasets>=2.0.0->evaluate) (3.9.1)\n",
            "Requirement already satisfied: pyyaml>=5.1 in /usr/local/lib/python3.10/dist-packages (from datasets>=2.0.0->evaluate) (6.0.1)\n",
            "Requirement already satisfied: filelock in /usr/local/lib/python3.10/dist-packages (from huggingface-hub>=0.7.0->evaluate) (3.13.1)\n",
            "Requirement already satisfied: typing-extensions>=3.7.4.3 in /usr/local/lib/python3.10/dist-packages (from huggingface-hub>=0.7.0->evaluate) (4.5.0)\n",
            "Requirement already satisfied: charset-normalizer<4,>=2 in /usr/local/lib/python3.10/dist-packages (from requests>=2.19.0->evaluate) (3.3.2)\n",
            "Requirement already satisfied: idna<4,>=2.5 in /usr/local/lib/python3.10/dist-packages (from requests>=2.19.0->evaluate) (3.6)\n",
            "Requirement already satisfied: urllib3<3,>=1.21.1 in /usr/local/lib/python3.10/dist-packages (from requests>=2.19.0->evaluate) (2.0.7)\n",
            "Requirement already satisfied: certifi>=2017.4.17 in /usr/local/lib/python3.10/dist-packages (from requests>=2.19.0->evaluate) (2023.11.17)\n",
            "Requirement already satisfied: python-dateutil>=2.8.1 in /usr/local/lib/python3.10/dist-packages (from pandas->evaluate) (2.8.2)\n",
            "Requirement already satisfied: pytz>=2020.1 in /usr/local/lib/python3.10/dist-packages (from pandas->evaluate) (2023.3.post1)\n",
            "Requirement already satisfied: attrs>=17.3.0 in /usr/local/lib/python3.10/dist-packages (from aiohttp->datasets>=2.0.0->evaluate) (23.1.0)\n",
            "Requirement already satisfied: multidict<7.0,>=4.5 in /usr/local/lib/python3.10/dist-packages (from aiohttp->datasets>=2.0.0->evaluate) (6.0.4)\n",
            "Requirement already satisfied: yarl<2.0,>=1.0 in /usr/local/lib/python3.10/dist-packages (from aiohttp->datasets>=2.0.0->evaluate) (1.9.3)\n",
            "Requirement already satisfied: frozenlist>=1.1.1 in /usr/local/lib/python3.10/dist-packages (from aiohttp->datasets>=2.0.0->evaluate) (1.4.0)\n",
            "Requirement already satisfied: aiosignal>=1.1.2 in /usr/local/lib/python3.10/dist-packages (from aiohttp->datasets>=2.0.0->evaluate) (1.3.1)\n",
            "Requirement already satisfied: async-timeout<5.0,>=4.0 in /usr/local/lib/python3.10/dist-packages (from aiohttp->datasets>=2.0.0->evaluate) (4.0.3)\n",
            "Requirement already satisfied: six>=1.5 in /usr/local/lib/python3.10/dist-packages (from python-dateutil>=2.8.1->pandas->evaluate) (1.16.0)\n"
          ]
        }
      ],
      "source": [
        "#!pip install catboost\n",
        "#!pip install transformers\n",
        "#!pip install nltk\n",
        "#!pip install nlpaug\n",
        "#!pip install evaluate"
      ],
      "id": "f06b9722"
    },
    {
      "cell_type": "code",
      "source": [
        "! pip install -r requirements.txt"
      ],
      "metadata": {
        "colab": {
          "base_uri": "https://localhost:8080/"
        },
        "id": "c0JEjLNyB9V8",
        "outputId": "808aaa26-e469-42b8-a199-448dad9d7a99"
      },
      "id": "c0JEjLNyB9V8",
      "execution_count": 2,
      "outputs": [
        {
          "output_type": "stream",
          "name": "stdout",
          "text": [
            "Collecting en-core-web-sm@ https://github.com/explosion/spacy-models/releases/download/en_core_web_sm-3.6.0/en_core_web_sm-3.6.0-py3-none-any.whl#sha256=83276fc78a70045627144786b52e1f2728ad5e29e5e43916ec37ea9c26a11212 (from -r requirements.txt (line 86))\n",
            "  Downloading https://github.com/explosion/spacy-models/releases/download/en_core_web_sm-3.6.0/en_core_web_sm-3.6.0-py3-none-any.whl (12.8 MB)\n",
            "\u001b[2K     \u001b[90m━━━━━━━━━━━━━━━━━━━━━━━━━━━━━━━━━━━━━━━━\u001b[0m \u001b[32m12.8/12.8 MB\u001b[0m \u001b[31m23.6 MB/s\u001b[0m eta \u001b[36m0:00:00\u001b[0m\n",
            "\u001b[?25hProcessing /colabtools/dist/google-colab-1.0.0.tar.gz (from -r requirements.txt (line 143))\n",
            "\u001b[31mERROR: Could not install packages due to an OSError: [Errno 2] No such file or directory: '/colabtools/dist/google-colab-1.0.0.tar.gz'\n",
            "\u001b[0m\u001b[31m\n",
            "\u001b[0m"
          ]
        }
      ]
    },
    {
      "cell_type": "code",
      "source": [
        "import json\n",
        "import gc\n",
        "import random\n",
        "import re\n",
        "from copy import deepcopy\n",
        "import matplotlib.pyplot as plt\n",
        "import numpy as np\n",
        "import pandas as pd\n",
        "import seaborn as sns\n",
        "import torch\n",
        "\n",
        "from copy import deepcopy\n",
        "from IPython.display import clear_output\n",
        "from nltk.corpus import stopwords\n",
        "from nltk.stem import WordNetLemmatizer\n",
        "import nltk\n",
        "from scipy.sparse import coo_matrix, hstack\n",
        "from sklearn.decomposition import PCA\n",
        "from sklearn.dummy import DummyClassifier\n",
        "from sklearn.feature_extraction.text import TfidfVectorizer, CountVectorizer\n",
        "from sklearn.linear_model import LogisticRegression\n",
        "from sklearn.metrics import (\n",
        "    f1_score,\n",
        "    multilabel_confusion_matrix,\n",
        "    classification_report,\n",
        "    confusion_matrix,\n",
        ")\n",
        "from sklearn.model_selection import cross_val_score, StratifiedKFold, train_test_split\n",
        "from sklearn.preprocessing import StandardScaler\n",
        "from sklearn.utils.class_weight import compute_class_weight\n",
        "import catboost\n",
        "from catboost import CatBoostClassifier, Pool\n",
        "from transformers import (\n",
        "    AutoModel,\n",
        "    AutoModelForSequenceClassification,\n",
        "    AutoTokenizer,\n",
        "    BertForSequenceClassification,\n",
        "    BertTokenizer,\n",
        "    AdamW,\n",
        "    DistilBertForSequenceClassification,\n",
        "    DistilBertTokenizer,\n",
        "    RobertaForSequenceClassification,\n",
        "    RobertaTokenizer,\n",
        "    Trainer,\n",
        "    TrainingArguments,\n",
        "    get_linear_schedule_with_warmup,\n",
        ")\n",
        "from torch import nn\n",
        "from torch.nn import functional as F\n",
        "from torch.optim import Adam\n",
        "from torch.optim.lr_scheduler import ExponentialLR, ReduceLROnPlateau\n",
        "from torch.utils.data import DataLoader, RandomSampler, SequentialSampler, TensorDataset\n",
        "from tqdm.notebook import tqdm\n",
        "from transformers import get_linear_schedule_with_warmup\n",
        "\n",
        "import nlpaug.augmenter.char as nac\n",
        "import nlpaug.augmenter.sentence as nas\n",
        "import nlpaug.augmenter.word as naw\n",
        "import nlpaug.flow as nafc\n",
        "from nlpaug.util import Action"
      ],
      "metadata": {
        "id": "bLSB1iFe5gS_"
      },
      "id": "bLSB1iFe5gS_",
      "execution_count": 3,
      "outputs": []
    },
    {
      "cell_type": "code",
      "source": [
        "from src.functions_bert import dataset, inference, f1_score_func_m, trainer, evaluate, trainer_pipeline\n",
        "from src.functions_LR import count_words, text2emb_bert, dataset_pipeline"
      ],
      "metadata": {
        "id": "8_ZMMvzWBQct"
      },
      "id": "8_ZMMvzWBQct",
      "execution_count": 4,
      "outputs": []
    },
    {
      "cell_type": "code",
      "source": [
        "seed = 42\n",
        "random.seed(seed)\n",
        "np.random.seed(seed)\n",
        "torch.manual_seed(seed)\n",
        "torch.cuda.manual_seed(seed)\n",
        "torch.backends.cudnn.deterministic = True"
      ],
      "metadata": {
        "id": "pGDvFHbWWyoF"
      },
      "id": "pGDvFHbWWyoF",
      "execution_count": 5,
      "outputs": []
    },
    {
      "cell_type": "markdown",
      "source": [
        "Загрузим данные"
      ],
      "metadata": {
        "id": "Xi-5atxO6US0"
      },
      "id": "Xi-5atxO6US0"
    },
    {
      "cell_type": "code",
      "execution_count": 6,
      "metadata": {
        "id": "65e339cf"
      },
      "outputs": [],
      "source": [
        "PATH = 'GBC_NLP_test_news_sample.json'\n",
        "texts = []\n",
        "labels = []\n",
        "\n",
        "with open(PATH) as f:\n",
        "    data = json.load(f)\n",
        "\n",
        "for row in data:\n",
        "    texts.append(row['content'])\n",
        "    labels.append(row['classification'])\n",
        "\n",
        "f.close()"
      ],
      "id": "65e339cf"
    },
    {
      "cell_type": "code",
      "execution_count": 7,
      "metadata": {
        "colab": {
          "base_uri": "https://localhost:8080/",
          "height": 206
        },
        "id": "72045e61",
        "outputId": "41ba33b0-14e0-4aa7-d456-89c811d6853a"
      },
      "outputs": [
        {
          "output_type": "execute_result",
          "data": {
            "text/plain": [
              "                                                text                   label\n",
              "0  The Mines of Dalarnia Update 1.4: Rechained is...  development, specified\n",
              "1    Mines of Dalarnia Mainnet—Update 1.4: Rechained  development, specified\n",
              "2  Kava in the news [kava 14 accelerates cosmos e...  development, specified\n",
              "3  SEC responsed: We are pleased that the court f...                     sec\n",
              "4                    Build on Base Mainnet with 1RPC  development, specified"
            ],
            "text/html": [
              "\n",
              "  <div id=\"df-dfa80e52-244b-4776-89d9-84199dd1ce76\" class=\"colab-df-container\">\n",
              "    <div>\n",
              "<style scoped>\n",
              "    .dataframe tbody tr th:only-of-type {\n",
              "        vertical-align: middle;\n",
              "    }\n",
              "\n",
              "    .dataframe tbody tr th {\n",
              "        vertical-align: top;\n",
              "    }\n",
              "\n",
              "    .dataframe thead th {\n",
              "        text-align: right;\n",
              "    }\n",
              "</style>\n",
              "<table border=\"1\" class=\"dataframe\">\n",
              "  <thead>\n",
              "    <tr style=\"text-align: right;\">\n",
              "      <th></th>\n",
              "      <th>text</th>\n",
              "      <th>label</th>\n",
              "    </tr>\n",
              "  </thead>\n",
              "  <tbody>\n",
              "    <tr>\n",
              "      <th>0</th>\n",
              "      <td>The Mines of Dalarnia Update 1.4: Rechained is...</td>\n",
              "      <td>development, specified</td>\n",
              "    </tr>\n",
              "    <tr>\n",
              "      <th>1</th>\n",
              "      <td>Mines of Dalarnia Mainnet—Update 1.4: Rechained</td>\n",
              "      <td>development, specified</td>\n",
              "    </tr>\n",
              "    <tr>\n",
              "      <th>2</th>\n",
              "      <td>Kava in the news [kava 14 accelerates cosmos e...</td>\n",
              "      <td>development, specified</td>\n",
              "    </tr>\n",
              "    <tr>\n",
              "      <th>3</th>\n",
              "      <td>SEC responsed: We are pleased that the court f...</td>\n",
              "      <td>sec</td>\n",
              "    </tr>\n",
              "    <tr>\n",
              "      <th>4</th>\n",
              "      <td>Build on Base Mainnet with 1RPC</td>\n",
              "      <td>development, specified</td>\n",
              "    </tr>\n",
              "  </tbody>\n",
              "</table>\n",
              "</div>\n",
              "    <div class=\"colab-df-buttons\">\n",
              "\n",
              "  <div class=\"colab-df-container\">\n",
              "    <button class=\"colab-df-convert\" onclick=\"convertToInteractive('df-dfa80e52-244b-4776-89d9-84199dd1ce76')\"\n",
              "            title=\"Convert this dataframe to an interactive table.\"\n",
              "            style=\"display:none;\">\n",
              "\n",
              "  <svg xmlns=\"http://www.w3.org/2000/svg\" height=\"24px\" viewBox=\"0 -960 960 960\">\n",
              "    <path d=\"M120-120v-720h720v720H120Zm60-500h600v-160H180v160Zm220 220h160v-160H400v160Zm0 220h160v-160H400v160ZM180-400h160v-160H180v160Zm440 0h160v-160H620v160ZM180-180h160v-160H180v160Zm440 0h160v-160H620v160Z\"/>\n",
              "  </svg>\n",
              "    </button>\n",
              "\n",
              "  <style>\n",
              "    .colab-df-container {\n",
              "      display:flex;\n",
              "      gap: 12px;\n",
              "    }\n",
              "\n",
              "    .colab-df-convert {\n",
              "      background-color: #E8F0FE;\n",
              "      border: none;\n",
              "      border-radius: 50%;\n",
              "      cursor: pointer;\n",
              "      display: none;\n",
              "      fill: #1967D2;\n",
              "      height: 32px;\n",
              "      padding: 0 0 0 0;\n",
              "      width: 32px;\n",
              "    }\n",
              "\n",
              "    .colab-df-convert:hover {\n",
              "      background-color: #E2EBFA;\n",
              "      box-shadow: 0px 1px 2px rgba(60, 64, 67, 0.3), 0px 1px 3px 1px rgba(60, 64, 67, 0.15);\n",
              "      fill: #174EA6;\n",
              "    }\n",
              "\n",
              "    .colab-df-buttons div {\n",
              "      margin-bottom: 4px;\n",
              "    }\n",
              "\n",
              "    [theme=dark] .colab-df-convert {\n",
              "      background-color: #3B4455;\n",
              "      fill: #D2E3FC;\n",
              "    }\n",
              "\n",
              "    [theme=dark] .colab-df-convert:hover {\n",
              "      background-color: #434B5C;\n",
              "      box-shadow: 0px 1px 3px 1px rgba(0, 0, 0, 0.15);\n",
              "      filter: drop-shadow(0px 1px 2px rgba(0, 0, 0, 0.3));\n",
              "      fill: #FFFFFF;\n",
              "    }\n",
              "  </style>\n",
              "\n",
              "    <script>\n",
              "      const buttonEl =\n",
              "        document.querySelector('#df-dfa80e52-244b-4776-89d9-84199dd1ce76 button.colab-df-convert');\n",
              "      buttonEl.style.display =\n",
              "        google.colab.kernel.accessAllowed ? 'block' : 'none';\n",
              "\n",
              "      async function convertToInteractive(key) {\n",
              "        const element = document.querySelector('#df-dfa80e52-244b-4776-89d9-84199dd1ce76');\n",
              "        const dataTable =\n",
              "          await google.colab.kernel.invokeFunction('convertToInteractive',\n",
              "                                                    [key], {});\n",
              "        if (!dataTable) return;\n",
              "\n",
              "        const docLinkHtml = 'Like what you see? Visit the ' +\n",
              "          '<a target=\"_blank\" href=https://colab.research.google.com/notebooks/data_table.ipynb>data table notebook</a>'\n",
              "          + ' to learn more about interactive tables.';\n",
              "        element.innerHTML = '';\n",
              "        dataTable['output_type'] = 'display_data';\n",
              "        await google.colab.output.renderOutput(dataTable, element);\n",
              "        const docLink = document.createElement('div');\n",
              "        docLink.innerHTML = docLinkHtml;\n",
              "        element.appendChild(docLink);\n",
              "      }\n",
              "    </script>\n",
              "  </div>\n",
              "\n",
              "\n",
              "<div id=\"df-7ff35d4c-d012-4633-aaae-b5b6dfaf72aa\">\n",
              "  <button class=\"colab-df-quickchart\" onclick=\"quickchart('df-7ff35d4c-d012-4633-aaae-b5b6dfaf72aa')\"\n",
              "            title=\"Suggest charts\"\n",
              "            style=\"display:none;\">\n",
              "\n",
              "<svg xmlns=\"http://www.w3.org/2000/svg\" height=\"24px\"viewBox=\"0 0 24 24\"\n",
              "     width=\"24px\">\n",
              "    <g>\n",
              "        <path d=\"M19 3H5c-1.1 0-2 .9-2 2v14c0 1.1.9 2 2 2h14c1.1 0 2-.9 2-2V5c0-1.1-.9-2-2-2zM9 17H7v-7h2v7zm4 0h-2V7h2v10zm4 0h-2v-4h2v4z\"/>\n",
              "    </g>\n",
              "</svg>\n",
              "  </button>\n",
              "\n",
              "<style>\n",
              "  .colab-df-quickchart {\n",
              "      --bg-color: #E8F0FE;\n",
              "      --fill-color: #1967D2;\n",
              "      --hover-bg-color: #E2EBFA;\n",
              "      --hover-fill-color: #174EA6;\n",
              "      --disabled-fill-color: #AAA;\n",
              "      --disabled-bg-color: #DDD;\n",
              "  }\n",
              "\n",
              "  [theme=dark] .colab-df-quickchart {\n",
              "      --bg-color: #3B4455;\n",
              "      --fill-color: #D2E3FC;\n",
              "      --hover-bg-color: #434B5C;\n",
              "      --hover-fill-color: #FFFFFF;\n",
              "      --disabled-bg-color: #3B4455;\n",
              "      --disabled-fill-color: #666;\n",
              "  }\n",
              "\n",
              "  .colab-df-quickchart {\n",
              "    background-color: var(--bg-color);\n",
              "    border: none;\n",
              "    border-radius: 50%;\n",
              "    cursor: pointer;\n",
              "    display: none;\n",
              "    fill: var(--fill-color);\n",
              "    height: 32px;\n",
              "    padding: 0;\n",
              "    width: 32px;\n",
              "  }\n",
              "\n",
              "  .colab-df-quickchart:hover {\n",
              "    background-color: var(--hover-bg-color);\n",
              "    box-shadow: 0 1px 2px rgba(60, 64, 67, 0.3), 0 1px 3px 1px rgba(60, 64, 67, 0.15);\n",
              "    fill: var(--button-hover-fill-color);\n",
              "  }\n",
              "\n",
              "  .colab-df-quickchart-complete:disabled,\n",
              "  .colab-df-quickchart-complete:disabled:hover {\n",
              "    background-color: var(--disabled-bg-color);\n",
              "    fill: var(--disabled-fill-color);\n",
              "    box-shadow: none;\n",
              "  }\n",
              "\n",
              "  .colab-df-spinner {\n",
              "    border: 2px solid var(--fill-color);\n",
              "    border-color: transparent;\n",
              "    border-bottom-color: var(--fill-color);\n",
              "    animation:\n",
              "      spin 1s steps(1) infinite;\n",
              "  }\n",
              "\n",
              "  @keyframes spin {\n",
              "    0% {\n",
              "      border-color: transparent;\n",
              "      border-bottom-color: var(--fill-color);\n",
              "      border-left-color: var(--fill-color);\n",
              "    }\n",
              "    20% {\n",
              "      border-color: transparent;\n",
              "      border-left-color: var(--fill-color);\n",
              "      border-top-color: var(--fill-color);\n",
              "    }\n",
              "    30% {\n",
              "      border-color: transparent;\n",
              "      border-left-color: var(--fill-color);\n",
              "      border-top-color: var(--fill-color);\n",
              "      border-right-color: var(--fill-color);\n",
              "    }\n",
              "    40% {\n",
              "      border-color: transparent;\n",
              "      border-right-color: var(--fill-color);\n",
              "      border-top-color: var(--fill-color);\n",
              "    }\n",
              "    60% {\n",
              "      border-color: transparent;\n",
              "      border-right-color: var(--fill-color);\n",
              "    }\n",
              "    80% {\n",
              "      border-color: transparent;\n",
              "      border-right-color: var(--fill-color);\n",
              "      border-bottom-color: var(--fill-color);\n",
              "    }\n",
              "    90% {\n",
              "      border-color: transparent;\n",
              "      border-bottom-color: var(--fill-color);\n",
              "    }\n",
              "  }\n",
              "</style>\n",
              "\n",
              "  <script>\n",
              "    async function quickchart(key) {\n",
              "      const quickchartButtonEl =\n",
              "        document.querySelector('#' + key + ' button');\n",
              "      quickchartButtonEl.disabled = true;  // To prevent multiple clicks.\n",
              "      quickchartButtonEl.classList.add('colab-df-spinner');\n",
              "      try {\n",
              "        const charts = await google.colab.kernel.invokeFunction(\n",
              "            'suggestCharts', [key], {});\n",
              "      } catch (error) {\n",
              "        console.error('Error during call to suggestCharts:', error);\n",
              "      }\n",
              "      quickchartButtonEl.classList.remove('colab-df-spinner');\n",
              "      quickchartButtonEl.classList.add('colab-df-quickchart-complete');\n",
              "    }\n",
              "    (() => {\n",
              "      let quickchartButtonEl =\n",
              "        document.querySelector('#df-7ff35d4c-d012-4633-aaae-b5b6dfaf72aa button');\n",
              "      quickchartButtonEl.style.display =\n",
              "        google.colab.kernel.accessAllowed ? 'block' : 'none';\n",
              "    })();\n",
              "  </script>\n",
              "</div>\n",
              "\n",
              "    </div>\n",
              "  </div>\n"
            ]
          },
          "metadata": {},
          "execution_count": 7
        }
      ],
      "source": [
        "df = pd.DataFrame({'text' : texts, 'label' : labels})\n",
        "df.head()"
      ],
      "id": "72045e61"
    },
    {
      "cell_type": "markdown",
      "source": [
        "### EDA"
      ],
      "metadata": {
        "id": "l3PLYOVS6eGf"
      },
      "id": "l3PLYOVS6eGf"
    },
    {
      "cell_type": "code",
      "execution_count": 8,
      "metadata": {
        "colab": {
          "base_uri": "https://localhost:8080/"
        },
        "id": "b90ab28f",
        "outputId": "e64ea41c-f2d9-43f8-d7ac-7530bfc08bb9"
      },
      "outputs": [
        {
          "output_type": "stream",
          "name": "stdout",
          "text": [
            "<class 'pandas.core.frame.DataFrame'>\n",
            "RangeIndex: 835 entries, 0 to 834\n",
            "Data columns (total 2 columns):\n",
            " #   Column  Non-Null Count  Dtype \n",
            "---  ------  --------------  ----- \n",
            " 0   text    835 non-null    object\n",
            " 1   label   835 non-null    object\n",
            "dtypes: object(2)\n",
            "memory usage: 13.2+ KB\n"
          ]
        }
      ],
      "source": [
        "df.info()"
      ],
      "id": "b90ab28f"
    },
    {
      "cell_type": "markdown",
      "source": [
        "У нас 835 объектов без пропусков"
      ],
      "metadata": {
        "id": "NmM27Kl96loo"
      },
      "id": "NmM27Kl96loo"
    },
    {
      "cell_type": "code",
      "execution_count": 9,
      "metadata": {
        "colab": {
          "base_uri": "https://localhost:8080/"
        },
        "id": "ae48bea6",
        "outputId": "00bc01bd-b4b2-493f-bc5b-acfd53dafb84"
      },
      "outputs": [
        {
          "output_type": "execute_result",
          "data": {
            "text/plain": [
              "development, specified     280\n",
              "partnership, non-crypto    264\n",
              "development                 66\n",
              "announcement promise        59\n",
              "legal, negative             39\n",
              "start of burn/buyback       32\n",
              "legal, positive             21\n",
              "exploit                     17\n",
              "raise                       16\n",
              "negative                    12\n",
              "selling                     12\n",
              "ripple                      10\n",
              "positive                     4\n",
              "sec                          1\n",
              "negative rebuttal            1\n",
              "interested                   1\n",
              "Name: label, dtype: int64"
            ]
          },
          "metadata": {},
          "execution_count": 9
        }
      ],
      "source": [
        "\n",
        "df['label'].value_counts()"
      ],
      "id": "ae48bea6"
    },
    {
      "cell_type": "markdown",
      "source": [
        "16 классов с сильным дисбалансом"
      ],
      "metadata": {
        "id": "i6P7maO26vU3"
      },
      "id": "i6P7maO26vU3"
    },
    {
      "cell_type": "markdown",
      "metadata": {
        "id": "c43cc52b"
      },
      "source": [
        "##### Дубликаты"
      ],
      "id": "c43cc52b"
    },
    {
      "cell_type": "code",
      "execution_count": 10,
      "metadata": {
        "colab": {
          "base_uri": "https://localhost:8080/",
          "height": 1000
        },
        "id": "c9deda01",
        "outputId": "62525dc3-ad80-47ff-df19-eb428a3bbd72"
      },
      "outputs": [
        {
          "output_type": "execute_result",
          "data": {
            "text/plain": [
              "                                                  text  \\\n",
              "13   It is with great excitement that we announce t...   \n",
              "14   It is with great excitement that we announce t...   \n",
              "112  MULTICHAIN FANTOM BRIDGE POSSIBLY DRAINED, AFF...   \n",
              "113  MULTICHAIN FANTOM BRIDGE POSSIBLY DRAINED, AFF...   \n",
              "121  EMURGO Ventures Invests in Magic Square To Fur...   \n",
              "122  EMURGO Ventures Invests in Magic Square To Fur...   \n",
              "126  Multichain Team Confirms Exploit Across Fantom...   \n",
              "127  Multichain Team Confirms Exploit Across Fantom...   \n",
              "226  Optimism, Aptos and ApeCoin set for largest to...   \n",
              "227  Optimism, Aptos and ApeCoin set for largest to...   \n",
              "228  Revolut to Delist Solana, Polygon, And Cardano...   \n",
              "229  Revolut to Delist Solana, Polygon, And Cardano...   \n",
              "271  Buckle up! Nairobi, the 14th protocol upgrade ...   \n",
              "272  Buckle up! Nairobi, the 14th protocol upgrade ...   \n",
              "334  Frax Finance to launch Ethereum Layer 2 named ...   \n",
              "335  Frax Finance to launch Ethereum Layer 2 named ...   \n",
              "337  Bakkt delists Solana, Polygon and Cardano amid...   \n",
              "338  Bakkt delists Solana, Polygon and Cardano amid...   \n",
              "342  Bakkt to Delist Solana, Cardano and Polygon Fo...   \n",
              "343  Bakkt to Delist Solana, Cardano and Polygon Fo...   \n",
              "360  Alchemy Pay Collaborates with aelf to Provide ...   \n",
              "380  The Graph Starts Migrating its Settlement Laye...   \n",
              "381  The Graph Starts Migrating its Settlement Laye...   \n",
              "398  Alchemy Pay Collaborates with aelf to Provide ...   \n",
              "461  Optimism, Sui set for large token unlocks, wor...   \n",
              "478  Algorand and Flow Crash to All-Time Lows Follo...   \n",
              "479  Algorand and Flow Crash to All-Time Lows Follo...   \n",
              "481  Solana, Cardano, Polygon Fight Back Against SE...   \n",
              "482  Solana, Cardano, Polygon Fight Back Against SE...   \n",
              "483  Solana, Cardano, Polygon Fight Back Against SE...   \n",
              "509  Optimism, Sui set for large token unlocks, wor...   \n",
              "511  By combining @dapdapio's community-driven iden...   \n",
              "512  By combining @dapdapio's community-driven iden...   \n",
              "568  SEC Allege the Following Coins Are Securities ...   \n",
              "569  SEC Allege the Following Coins Are Securities ...   \n",
              "785  In anticipation of the Optimism Bedrock upgrad...   \n",
              "786  In anticipation of the Optimism Bedrock upgrad...   \n",
              "805  LDO staking and a warrant canary [proposal int...   \n",
              "806  LDO staking and a warrant canary [proposal int...   \n",
              "807  Exciting news for !   introduces Advanced Anal...   \n",
              "808  Exciting news for !   introduces Advanced Anal...   \n",
              "815  Congratulations to  for shipping V2! Lido is k...   \n",
              "816  Congratulations to  for shipping V2! Lido is k...   \n",
              "832  Under the new proposal process, we are delight...   \n",
              "833  Under the new proposal process, we are delight...   \n",
              "\n",
              "                       label  \n",
              "13   partnership, non-crypto  \n",
              "14   partnership, non-crypto  \n",
              "112                  exploit  \n",
              "113                  exploit  \n",
              "121  partnership, non-crypto  \n",
              "122  partnership, non-crypto  \n",
              "126                  exploit  \n",
              "127                  exploit  \n",
              "226                  selling  \n",
              "227   development, specified  \n",
              "228          legal, negative  \n",
              "229          legal, negative  \n",
              "271   development, specified  \n",
              "272   development, specified  \n",
              "334   development, specified  \n",
              "335   development, specified  \n",
              "337          legal, negative  \n",
              "338          legal, negative  \n",
              "342          legal, negative  \n",
              "343          legal, negative  \n",
              "360  partnership, non-crypto  \n",
              "380   development, specified  \n",
              "381   development, specified  \n",
              "398  partnership, non-crypto  \n",
              "461                  selling  \n",
              "478          legal, negative  \n",
              "479          legal, negative  \n",
              "481          legal, negative  \n",
              "482          legal, negative  \n",
              "483          legal, negative  \n",
              "509                    raise  \n",
              "511  partnership, non-crypto  \n",
              "512  partnership, non-crypto  \n",
              "568          legal, negative  \n",
              "569          legal, negative  \n",
              "785              development  \n",
              "786              development  \n",
              "805              development  \n",
              "806              development  \n",
              "807              development  \n",
              "808              development  \n",
              "815              development  \n",
              "816              development  \n",
              "832              development  \n",
              "833              development  "
            ],
            "text/html": [
              "\n",
              "  <div id=\"df-c321b1a9-b981-48c5-8f7f-a27b1d441d50\" class=\"colab-df-container\">\n",
              "    <div>\n",
              "<style scoped>\n",
              "    .dataframe tbody tr th:only-of-type {\n",
              "        vertical-align: middle;\n",
              "    }\n",
              "\n",
              "    .dataframe tbody tr th {\n",
              "        vertical-align: top;\n",
              "    }\n",
              "\n",
              "    .dataframe thead th {\n",
              "        text-align: right;\n",
              "    }\n",
              "</style>\n",
              "<table border=\"1\" class=\"dataframe\">\n",
              "  <thead>\n",
              "    <tr style=\"text-align: right;\">\n",
              "      <th></th>\n",
              "      <th>text</th>\n",
              "      <th>label</th>\n",
              "    </tr>\n",
              "  </thead>\n",
              "  <tbody>\n",
              "    <tr>\n",
              "      <th>13</th>\n",
              "      <td>It is with great excitement that we announce t...</td>\n",
              "      <td>partnership, non-crypto</td>\n",
              "    </tr>\n",
              "    <tr>\n",
              "      <th>14</th>\n",
              "      <td>It is with great excitement that we announce t...</td>\n",
              "      <td>partnership, non-crypto</td>\n",
              "    </tr>\n",
              "    <tr>\n",
              "      <th>112</th>\n",
              "      <td>MULTICHAIN FANTOM BRIDGE POSSIBLY DRAINED, AFF...</td>\n",
              "      <td>exploit</td>\n",
              "    </tr>\n",
              "    <tr>\n",
              "      <th>113</th>\n",
              "      <td>MULTICHAIN FANTOM BRIDGE POSSIBLY DRAINED, AFF...</td>\n",
              "      <td>exploit</td>\n",
              "    </tr>\n",
              "    <tr>\n",
              "      <th>121</th>\n",
              "      <td>EMURGO Ventures Invests in Magic Square To Fur...</td>\n",
              "      <td>partnership, non-crypto</td>\n",
              "    </tr>\n",
              "    <tr>\n",
              "      <th>122</th>\n",
              "      <td>EMURGO Ventures Invests in Magic Square To Fur...</td>\n",
              "      <td>partnership, non-crypto</td>\n",
              "    </tr>\n",
              "    <tr>\n",
              "      <th>126</th>\n",
              "      <td>Multichain Team Confirms Exploit Across Fantom...</td>\n",
              "      <td>exploit</td>\n",
              "    </tr>\n",
              "    <tr>\n",
              "      <th>127</th>\n",
              "      <td>Multichain Team Confirms Exploit Across Fantom...</td>\n",
              "      <td>exploit</td>\n",
              "    </tr>\n",
              "    <tr>\n",
              "      <th>226</th>\n",
              "      <td>Optimism, Aptos and ApeCoin set for largest to...</td>\n",
              "      <td>selling</td>\n",
              "    </tr>\n",
              "    <tr>\n",
              "      <th>227</th>\n",
              "      <td>Optimism, Aptos and ApeCoin set for largest to...</td>\n",
              "      <td>development, specified</td>\n",
              "    </tr>\n",
              "    <tr>\n",
              "      <th>228</th>\n",
              "      <td>Revolut to Delist Solana, Polygon, And Cardano...</td>\n",
              "      <td>legal, negative</td>\n",
              "    </tr>\n",
              "    <tr>\n",
              "      <th>229</th>\n",
              "      <td>Revolut to Delist Solana, Polygon, And Cardano...</td>\n",
              "      <td>legal, negative</td>\n",
              "    </tr>\n",
              "    <tr>\n",
              "      <th>271</th>\n",
              "      <td>Buckle up! Nairobi, the 14th protocol upgrade ...</td>\n",
              "      <td>development, specified</td>\n",
              "    </tr>\n",
              "    <tr>\n",
              "      <th>272</th>\n",
              "      <td>Buckle up! Nairobi, the 14th protocol upgrade ...</td>\n",
              "      <td>development, specified</td>\n",
              "    </tr>\n",
              "    <tr>\n",
              "      <th>334</th>\n",
              "      <td>Frax Finance to launch Ethereum Layer 2 named ...</td>\n",
              "      <td>development, specified</td>\n",
              "    </tr>\n",
              "    <tr>\n",
              "      <th>335</th>\n",
              "      <td>Frax Finance to launch Ethereum Layer 2 named ...</td>\n",
              "      <td>development, specified</td>\n",
              "    </tr>\n",
              "    <tr>\n",
              "      <th>337</th>\n",
              "      <td>Bakkt delists Solana, Polygon and Cardano amid...</td>\n",
              "      <td>legal, negative</td>\n",
              "    </tr>\n",
              "    <tr>\n",
              "      <th>338</th>\n",
              "      <td>Bakkt delists Solana, Polygon and Cardano amid...</td>\n",
              "      <td>legal, negative</td>\n",
              "    </tr>\n",
              "    <tr>\n",
              "      <th>342</th>\n",
              "      <td>Bakkt to Delist Solana, Cardano and Polygon Fo...</td>\n",
              "      <td>legal, negative</td>\n",
              "    </tr>\n",
              "    <tr>\n",
              "      <th>343</th>\n",
              "      <td>Bakkt to Delist Solana, Cardano and Polygon Fo...</td>\n",
              "      <td>legal, negative</td>\n",
              "    </tr>\n",
              "    <tr>\n",
              "      <th>360</th>\n",
              "      <td>Alchemy Pay Collaborates with aelf to Provide ...</td>\n",
              "      <td>partnership, non-crypto</td>\n",
              "    </tr>\n",
              "    <tr>\n",
              "      <th>380</th>\n",
              "      <td>The Graph Starts Migrating its Settlement Laye...</td>\n",
              "      <td>development, specified</td>\n",
              "    </tr>\n",
              "    <tr>\n",
              "      <th>381</th>\n",
              "      <td>The Graph Starts Migrating its Settlement Laye...</td>\n",
              "      <td>development, specified</td>\n",
              "    </tr>\n",
              "    <tr>\n",
              "      <th>398</th>\n",
              "      <td>Alchemy Pay Collaborates with aelf to Provide ...</td>\n",
              "      <td>partnership, non-crypto</td>\n",
              "    </tr>\n",
              "    <tr>\n",
              "      <th>461</th>\n",
              "      <td>Optimism, Sui set for large token unlocks, wor...</td>\n",
              "      <td>selling</td>\n",
              "    </tr>\n",
              "    <tr>\n",
              "      <th>478</th>\n",
              "      <td>Algorand and Flow Crash to All-Time Lows Follo...</td>\n",
              "      <td>legal, negative</td>\n",
              "    </tr>\n",
              "    <tr>\n",
              "      <th>479</th>\n",
              "      <td>Algorand and Flow Crash to All-Time Lows Follo...</td>\n",
              "      <td>legal, negative</td>\n",
              "    </tr>\n",
              "    <tr>\n",
              "      <th>481</th>\n",
              "      <td>Solana, Cardano, Polygon Fight Back Against SE...</td>\n",
              "      <td>legal, negative</td>\n",
              "    </tr>\n",
              "    <tr>\n",
              "      <th>482</th>\n",
              "      <td>Solana, Cardano, Polygon Fight Back Against SE...</td>\n",
              "      <td>legal, negative</td>\n",
              "    </tr>\n",
              "    <tr>\n",
              "      <th>483</th>\n",
              "      <td>Solana, Cardano, Polygon Fight Back Against SE...</td>\n",
              "      <td>legal, negative</td>\n",
              "    </tr>\n",
              "    <tr>\n",
              "      <th>509</th>\n",
              "      <td>Optimism, Sui set for large token unlocks, wor...</td>\n",
              "      <td>raise</td>\n",
              "    </tr>\n",
              "    <tr>\n",
              "      <th>511</th>\n",
              "      <td>By combining @dapdapio's community-driven iden...</td>\n",
              "      <td>partnership, non-crypto</td>\n",
              "    </tr>\n",
              "    <tr>\n",
              "      <th>512</th>\n",
              "      <td>By combining @dapdapio's community-driven iden...</td>\n",
              "      <td>partnership, non-crypto</td>\n",
              "    </tr>\n",
              "    <tr>\n",
              "      <th>568</th>\n",
              "      <td>SEC Allege the Following Coins Are Securities ...</td>\n",
              "      <td>legal, negative</td>\n",
              "    </tr>\n",
              "    <tr>\n",
              "      <th>569</th>\n",
              "      <td>SEC Allege the Following Coins Are Securities ...</td>\n",
              "      <td>legal, negative</td>\n",
              "    </tr>\n",
              "    <tr>\n",
              "      <th>785</th>\n",
              "      <td>In anticipation of the Optimism Bedrock upgrad...</td>\n",
              "      <td>development</td>\n",
              "    </tr>\n",
              "    <tr>\n",
              "      <th>786</th>\n",
              "      <td>In anticipation of the Optimism Bedrock upgrad...</td>\n",
              "      <td>development</td>\n",
              "    </tr>\n",
              "    <tr>\n",
              "      <th>805</th>\n",
              "      <td>LDO staking and a warrant canary [proposal int...</td>\n",
              "      <td>development</td>\n",
              "    </tr>\n",
              "    <tr>\n",
              "      <th>806</th>\n",
              "      <td>LDO staking and a warrant canary [proposal int...</td>\n",
              "      <td>development</td>\n",
              "    </tr>\n",
              "    <tr>\n",
              "      <th>807</th>\n",
              "      <td>Exciting news for !   introduces Advanced Anal...</td>\n",
              "      <td>development</td>\n",
              "    </tr>\n",
              "    <tr>\n",
              "      <th>808</th>\n",
              "      <td>Exciting news for !   introduces Advanced Anal...</td>\n",
              "      <td>development</td>\n",
              "    </tr>\n",
              "    <tr>\n",
              "      <th>815</th>\n",
              "      <td>Congratulations to  for shipping V2! Lido is k...</td>\n",
              "      <td>development</td>\n",
              "    </tr>\n",
              "    <tr>\n",
              "      <th>816</th>\n",
              "      <td>Congratulations to  for shipping V2! Lido is k...</td>\n",
              "      <td>development</td>\n",
              "    </tr>\n",
              "    <tr>\n",
              "      <th>832</th>\n",
              "      <td>Under the new proposal process, we are delight...</td>\n",
              "      <td>development</td>\n",
              "    </tr>\n",
              "    <tr>\n",
              "      <th>833</th>\n",
              "      <td>Under the new proposal process, we are delight...</td>\n",
              "      <td>development</td>\n",
              "    </tr>\n",
              "  </tbody>\n",
              "</table>\n",
              "</div>\n",
              "    <div class=\"colab-df-buttons\">\n",
              "\n",
              "  <div class=\"colab-df-container\">\n",
              "    <button class=\"colab-df-convert\" onclick=\"convertToInteractive('df-c321b1a9-b981-48c5-8f7f-a27b1d441d50')\"\n",
              "            title=\"Convert this dataframe to an interactive table.\"\n",
              "            style=\"display:none;\">\n",
              "\n",
              "  <svg xmlns=\"http://www.w3.org/2000/svg\" height=\"24px\" viewBox=\"0 -960 960 960\">\n",
              "    <path d=\"M120-120v-720h720v720H120Zm60-500h600v-160H180v160Zm220 220h160v-160H400v160Zm0 220h160v-160H400v160ZM180-400h160v-160H180v160Zm440 0h160v-160H620v160ZM180-180h160v-160H180v160Zm440 0h160v-160H620v160Z\"/>\n",
              "  </svg>\n",
              "    </button>\n",
              "\n",
              "  <style>\n",
              "    .colab-df-container {\n",
              "      display:flex;\n",
              "      gap: 12px;\n",
              "    }\n",
              "\n",
              "    .colab-df-convert {\n",
              "      background-color: #E8F0FE;\n",
              "      border: none;\n",
              "      border-radius: 50%;\n",
              "      cursor: pointer;\n",
              "      display: none;\n",
              "      fill: #1967D2;\n",
              "      height: 32px;\n",
              "      padding: 0 0 0 0;\n",
              "      width: 32px;\n",
              "    }\n",
              "\n",
              "    .colab-df-convert:hover {\n",
              "      background-color: #E2EBFA;\n",
              "      box-shadow: 0px 1px 2px rgba(60, 64, 67, 0.3), 0px 1px 3px 1px rgba(60, 64, 67, 0.15);\n",
              "      fill: #174EA6;\n",
              "    }\n",
              "\n",
              "    .colab-df-buttons div {\n",
              "      margin-bottom: 4px;\n",
              "    }\n",
              "\n",
              "    [theme=dark] .colab-df-convert {\n",
              "      background-color: #3B4455;\n",
              "      fill: #D2E3FC;\n",
              "    }\n",
              "\n",
              "    [theme=dark] .colab-df-convert:hover {\n",
              "      background-color: #434B5C;\n",
              "      box-shadow: 0px 1px 3px 1px rgba(0, 0, 0, 0.15);\n",
              "      filter: drop-shadow(0px 1px 2px rgba(0, 0, 0, 0.3));\n",
              "      fill: #FFFFFF;\n",
              "    }\n",
              "  </style>\n",
              "\n",
              "    <script>\n",
              "      const buttonEl =\n",
              "        document.querySelector('#df-c321b1a9-b981-48c5-8f7f-a27b1d441d50 button.colab-df-convert');\n",
              "      buttonEl.style.display =\n",
              "        google.colab.kernel.accessAllowed ? 'block' : 'none';\n",
              "\n",
              "      async function convertToInteractive(key) {\n",
              "        const element = document.querySelector('#df-c321b1a9-b981-48c5-8f7f-a27b1d441d50');\n",
              "        const dataTable =\n",
              "          await google.colab.kernel.invokeFunction('convertToInteractive',\n",
              "                                                    [key], {});\n",
              "        if (!dataTable) return;\n",
              "\n",
              "        const docLinkHtml = 'Like what you see? Visit the ' +\n",
              "          '<a target=\"_blank\" href=https://colab.research.google.com/notebooks/data_table.ipynb>data table notebook</a>'\n",
              "          + ' to learn more about interactive tables.';\n",
              "        element.innerHTML = '';\n",
              "        dataTable['output_type'] = 'display_data';\n",
              "        await google.colab.output.renderOutput(dataTable, element);\n",
              "        const docLink = document.createElement('div');\n",
              "        docLink.innerHTML = docLinkHtml;\n",
              "        element.appendChild(docLink);\n",
              "      }\n",
              "    </script>\n",
              "  </div>\n",
              "\n",
              "\n",
              "<div id=\"df-d3e28bd8-627a-47c2-b8b6-111874e4905b\">\n",
              "  <button class=\"colab-df-quickchart\" onclick=\"quickchart('df-d3e28bd8-627a-47c2-b8b6-111874e4905b')\"\n",
              "            title=\"Suggest charts\"\n",
              "            style=\"display:none;\">\n",
              "\n",
              "<svg xmlns=\"http://www.w3.org/2000/svg\" height=\"24px\"viewBox=\"0 0 24 24\"\n",
              "     width=\"24px\">\n",
              "    <g>\n",
              "        <path d=\"M19 3H5c-1.1 0-2 .9-2 2v14c0 1.1.9 2 2 2h14c1.1 0 2-.9 2-2V5c0-1.1-.9-2-2-2zM9 17H7v-7h2v7zm4 0h-2V7h2v10zm4 0h-2v-4h2v4z\"/>\n",
              "    </g>\n",
              "</svg>\n",
              "  </button>\n",
              "\n",
              "<style>\n",
              "  .colab-df-quickchart {\n",
              "      --bg-color: #E8F0FE;\n",
              "      --fill-color: #1967D2;\n",
              "      --hover-bg-color: #E2EBFA;\n",
              "      --hover-fill-color: #174EA6;\n",
              "      --disabled-fill-color: #AAA;\n",
              "      --disabled-bg-color: #DDD;\n",
              "  }\n",
              "\n",
              "  [theme=dark] .colab-df-quickchart {\n",
              "      --bg-color: #3B4455;\n",
              "      --fill-color: #D2E3FC;\n",
              "      --hover-bg-color: #434B5C;\n",
              "      --hover-fill-color: #FFFFFF;\n",
              "      --disabled-bg-color: #3B4455;\n",
              "      --disabled-fill-color: #666;\n",
              "  }\n",
              "\n",
              "  .colab-df-quickchart {\n",
              "    background-color: var(--bg-color);\n",
              "    border: none;\n",
              "    border-radius: 50%;\n",
              "    cursor: pointer;\n",
              "    display: none;\n",
              "    fill: var(--fill-color);\n",
              "    height: 32px;\n",
              "    padding: 0;\n",
              "    width: 32px;\n",
              "  }\n",
              "\n",
              "  .colab-df-quickchart:hover {\n",
              "    background-color: var(--hover-bg-color);\n",
              "    box-shadow: 0 1px 2px rgba(60, 64, 67, 0.3), 0 1px 3px 1px rgba(60, 64, 67, 0.15);\n",
              "    fill: var(--button-hover-fill-color);\n",
              "  }\n",
              "\n",
              "  .colab-df-quickchart-complete:disabled,\n",
              "  .colab-df-quickchart-complete:disabled:hover {\n",
              "    background-color: var(--disabled-bg-color);\n",
              "    fill: var(--disabled-fill-color);\n",
              "    box-shadow: none;\n",
              "  }\n",
              "\n",
              "  .colab-df-spinner {\n",
              "    border: 2px solid var(--fill-color);\n",
              "    border-color: transparent;\n",
              "    border-bottom-color: var(--fill-color);\n",
              "    animation:\n",
              "      spin 1s steps(1) infinite;\n",
              "  }\n",
              "\n",
              "  @keyframes spin {\n",
              "    0% {\n",
              "      border-color: transparent;\n",
              "      border-bottom-color: var(--fill-color);\n",
              "      border-left-color: var(--fill-color);\n",
              "    }\n",
              "    20% {\n",
              "      border-color: transparent;\n",
              "      border-left-color: var(--fill-color);\n",
              "      border-top-color: var(--fill-color);\n",
              "    }\n",
              "    30% {\n",
              "      border-color: transparent;\n",
              "      border-left-color: var(--fill-color);\n",
              "      border-top-color: var(--fill-color);\n",
              "      border-right-color: var(--fill-color);\n",
              "    }\n",
              "    40% {\n",
              "      border-color: transparent;\n",
              "      border-right-color: var(--fill-color);\n",
              "      border-top-color: var(--fill-color);\n",
              "    }\n",
              "    60% {\n",
              "      border-color: transparent;\n",
              "      border-right-color: var(--fill-color);\n",
              "    }\n",
              "    80% {\n",
              "      border-color: transparent;\n",
              "      border-right-color: var(--fill-color);\n",
              "      border-bottom-color: var(--fill-color);\n",
              "    }\n",
              "    90% {\n",
              "      border-color: transparent;\n",
              "      border-bottom-color: var(--fill-color);\n",
              "    }\n",
              "  }\n",
              "</style>\n",
              "\n",
              "  <script>\n",
              "    async function quickchart(key) {\n",
              "      const quickchartButtonEl =\n",
              "        document.querySelector('#' + key + ' button');\n",
              "      quickchartButtonEl.disabled = true;  // To prevent multiple clicks.\n",
              "      quickchartButtonEl.classList.add('colab-df-spinner');\n",
              "      try {\n",
              "        const charts = await google.colab.kernel.invokeFunction(\n",
              "            'suggestCharts', [key], {});\n",
              "      } catch (error) {\n",
              "        console.error('Error during call to suggestCharts:', error);\n",
              "      }\n",
              "      quickchartButtonEl.classList.remove('colab-df-spinner');\n",
              "      quickchartButtonEl.classList.add('colab-df-quickchart-complete');\n",
              "    }\n",
              "    (() => {\n",
              "      let quickchartButtonEl =\n",
              "        document.querySelector('#df-d3e28bd8-627a-47c2-b8b6-111874e4905b button');\n",
              "      quickchartButtonEl.style.display =\n",
              "        google.colab.kernel.accessAllowed ? 'block' : 'none';\n",
              "    })();\n",
              "  </script>\n",
              "</div>\n",
              "\n",
              "    </div>\n",
              "  </div>\n"
            ]
          },
          "metadata": {},
          "execution_count": 10
        }
      ],
      "source": [
        "df[df.duplicated(subset=['text'], keep=False)==True]"
      ],
      "id": "c9deda01"
    },
    {
      "cell_type": "markdown",
      "source": [
        "В данных есть дубликаты.  \n",
        "Несколько дубликатов принадлежат к разным классам.  \n",
        "Удалим их из нашей выборки."
      ],
      "metadata": {
        "id": "am0BYIBd8Gwi"
      },
      "id": "am0BYIBd8Gwi"
    },
    {
      "cell_type": "code",
      "source": [
        "df = df.drop_duplicates(subset=['text']).reset_index(drop=True)\n",
        "print(f'Кол-во дубликатов после отчистки: {df.duplicated(subset=[\"text\"]).sum()}')\n",
        "print()\n",
        "df.info()"
      ],
      "metadata": {
        "colab": {
          "base_uri": "https://localhost:8080/"
        },
        "id": "W4OzidUu7Qhj",
        "outputId": "8610f7cc-fc5b-49b8-ed33-9802b91d63fb"
      },
      "id": "W4OzidUu7Qhj",
      "execution_count": 11,
      "outputs": [
        {
          "output_type": "stream",
          "name": "stdout",
          "text": [
            "Кол-во дубликатов после отчистки: 0\n",
            "\n",
            "<class 'pandas.core.frame.DataFrame'>\n",
            "RangeIndex: 812 entries, 0 to 811\n",
            "Data columns (total 2 columns):\n",
            " #   Column  Non-Null Count  Dtype \n",
            "---  ------  --------------  ----- \n",
            " 0   text    812 non-null    object\n",
            " 1   label   812 non-null    object\n",
            "dtypes: object(2)\n",
            "memory usage: 12.8+ KB\n"
          ]
        }
      ]
    },
    {
      "cell_type": "markdown",
      "metadata": {
        "id": "bf913ede"
      },
      "source": [
        "Нашли и удалили 33 дубликатов"
      ],
      "id": "bf913ede"
    },
    {
      "cell_type": "markdown",
      "source": [
        "#### Распределение длин текстов"
      ],
      "metadata": {
        "id": "9l1I1mW29JzG"
      },
      "id": "9l1I1mW29JzG"
    },
    {
      "cell_type": "code",
      "execution_count": 12,
      "metadata": {
        "id": "1e64d368"
      },
      "outputs": [],
      "source": [
        "df['text_len'] = df.text.str.len()"
      ],
      "id": "1e64d368"
    },
    {
      "cell_type": "code",
      "execution_count": 13,
      "metadata": {
        "colab": {
          "base_uri": "https://localhost:8080/",
          "height": 447
        },
        "id": "343ed865",
        "outputId": "1ce17d5c-e2b6-46c2-d827-9504a2e4fb1b"
      },
      "outputs": [
        {
          "output_type": "execute_result",
          "data": {
            "text/plain": [
              "<Axes: >"
            ]
          },
          "metadata": {},
          "execution_count": 13
        },
        {
          "output_type": "display_data",
          "data": {
            "text/plain": [
              "<Figure size 640x480 with 1 Axes>"
            ],
            "image/png": "[encoded data removed]"
          },
          "metadata": {}
        }
      ],
      "source": [
        "df['text_len'].hist(bins=50)"
      ],
      "id": "343ed865"
    },
    {
      "cell_type": "markdown",
      "source": [
        "Распределение бимодальное с модой в 80 и 250.  \n",
        "Можно сказать, что большая часть текста лежит в диапазоне 280 символов"
      ],
      "metadata": {
        "id": "Ljr7SxoV9S1w"
      },
      "id": "Ljr7SxoV9S1w"
    },
    {
      "cell_type": "code",
      "source": [
        "df.groupby('label')['text_len'].agg(['count', 'mean', 'median', 'std'])"
      ],
      "metadata": {
        "colab": {
          "base_uri": "https://localhost:8080/",
          "height": 582
        },
        "id": "oitDFMCAwy0k",
        "outputId": "7e5478d0-dc37-4458-eeaf-679dcfb149c0"
      },
      "id": "oitDFMCAwy0k",
      "execution_count": 14,
      "outputs": [
        {
          "output_type": "execute_result",
          "data": {
            "text/plain": [
              "                         count        mean  median         std\n",
              "label                                                         \n",
              "announcement promise        59  191.898305   164.0  138.749799\n",
              "development                 61  259.557377   255.0  157.355492\n",
              "development, specified     276  213.865942   223.5  110.722685\n",
              "exploit                     15   72.333333    70.0   11.962242\n",
              "interested                   1  228.000000   228.0         NaN\n",
              "legal, negative             32  136.937500    81.0  103.748125\n",
              "legal, positive             21  223.190476   225.0  148.468050\n",
              "negative                    12   86.166667    76.5   31.871427\n",
              "negative rebuttal            1  160.000000   160.0         NaN\n",
              "partnership, non-crypto    260  223.203846   226.0  104.958756\n",
              "positive                     4   81.500000    75.5   48.308039\n",
              "raise                       15  173.333333   165.0  101.898175\n",
              "ripple                      10  151.100000   119.5   99.051558\n",
              "sec                          1  276.000000   276.0         NaN\n",
              "selling                     12  147.416667    78.5  116.715239\n",
              "start of burn/buyback       32  209.250000   198.0  104.550651"
            ],
            "text/html": [
              "\n",
              "  <div id=\"df-a3e324b3-49e4-42fc-a65a-0fd437501bd1\" class=\"colab-df-container\">\n",
              "    <div>\n",
              "<style scoped>\n",
              "    .dataframe tbody tr th:only-of-type {\n",
              "        vertical-align: middle;\n",
              "    }\n",
              "\n",
              "    .dataframe tbody tr th {\n",
              "        vertical-align: top;\n",
              "    }\n",
              "\n",
              "    .dataframe thead th {\n",
              "        text-align: right;\n",
              "    }\n",
              "</style>\n",
              "<table border=\"1\" class=\"dataframe\">\n",
              "  <thead>\n",
              "    <tr style=\"text-align: right;\">\n",
              "      <th></th>\n",
              "      <th>count</th>\n",
              "      <th>mean</th>\n",
              "      <th>median</th>\n",
              "      <th>std</th>\n",
              "    </tr>\n",
              "    <tr>\n",
              "      <th>label</th>\n",
              "      <th></th>\n",
              "      <th></th>\n",
              "      <th></th>\n",
              "      <th></th>\n",
              "    </tr>\n",
              "  </thead>\n",
              "  <tbody>\n",
              "    <tr>\n",
              "      <th>announcement promise</th>\n",
              "      <td>59</td>\n",
              "      <td>191.898305</td>\n",
              "      <td>164.0</td>\n",
              "      <td>138.749799</td>\n",
              "    </tr>\n",
              "    <tr>\n",
              "      <th>development</th>\n",
              "      <td>61</td>\n",
              "      <td>259.557377</td>\n",
              "      <td>255.0</td>\n",
              "      <td>157.355492</td>\n",
              "    </tr>\n",
              "    <tr>\n",
              "      <th>development, specified</th>\n",
              "      <td>276</td>\n",
              "      <td>213.865942</td>\n",
              "      <td>223.5</td>\n",
              "      <td>110.722685</td>\n",
              "    </tr>\n",
              "    <tr>\n",
              "      <th>exploit</th>\n",
              "      <td>15</td>\n",
              "      <td>72.333333</td>\n",
              "      <td>70.0</td>\n",
              "      <td>11.962242</td>\n",
              "    </tr>\n",
              "    <tr>\n",
              "      <th>interested</th>\n",
              "      <td>1</td>\n",
              "      <td>228.000000</td>\n",
              "      <td>228.0</td>\n",
              "      <td>NaN</td>\n",
              "    </tr>\n",
              "    <tr>\n",
              "      <th>legal, negative</th>\n",
              "      <td>32</td>\n",
              "      <td>136.937500</td>\n",
              "      <td>81.0</td>\n",
              "      <td>103.748125</td>\n",
              "    </tr>\n",
              "    <tr>\n",
              "      <th>legal, positive</th>\n",
              "      <td>21</td>\n",
              "      <td>223.190476</td>\n",
              "      <td>225.0</td>\n",
              "      <td>148.468050</td>\n",
              "    </tr>\n",
              "    <tr>\n",
              "      <th>negative</th>\n",
              "      <td>12</td>\n",
              "      <td>86.166667</td>\n",
              "      <td>76.5</td>\n",
              "      <td>31.871427</td>\n",
              "    </tr>\n",
              "    <tr>\n",
              "      <th>negative rebuttal</th>\n",
              "      <td>1</td>\n",
              "      <td>160.000000</td>\n",
              "      <td>160.0</td>\n",
              "      <td>NaN</td>\n",
              "    </tr>\n",
              "    <tr>\n",
              "      <th>partnership, non-crypto</th>\n",
              "      <td>260</td>\n",
              "      <td>223.203846</td>\n",
              "      <td>226.0</td>\n",
              "      <td>104.958756</td>\n",
              "    </tr>\n",
              "    <tr>\n",
              "      <th>positive</th>\n",
              "      <td>4</td>\n",
              "      <td>81.500000</td>\n",
              "      <td>75.5</td>\n",
              "      <td>48.308039</td>\n",
              "    </tr>\n",
              "    <tr>\n",
              "      <th>raise</th>\n",
              "      <td>15</td>\n",
              "      <td>173.333333</td>\n",
              "      <td>165.0</td>\n",
              "      <td>101.898175</td>\n",
              "    </tr>\n",
              "    <tr>\n",
              "      <th>ripple</th>\n",
              "      <td>10</td>\n",
              "      <td>151.100000</td>\n",
              "      <td>119.5</td>\n",
              "      <td>99.051558</td>\n",
              "    </tr>\n",
              "    <tr>\n",
              "      <th>sec</th>\n",
              "      <td>1</td>\n",
              "      <td>276.000000</td>\n",
              "      <td>276.0</td>\n",
              "      <td>NaN</td>\n",
              "    </tr>\n",
              "    <tr>\n",
              "      <th>selling</th>\n",
              "      <td>12</td>\n",
              "      <td>147.416667</td>\n",
              "      <td>78.5</td>\n",
              "      <td>116.715239</td>\n",
              "    </tr>\n",
              "    <tr>\n",
              "      <th>start of burn/buyback</th>\n",
              "      <td>32</td>\n",
              "      <td>209.250000</td>\n",
              "      <td>198.0</td>\n",
              "      <td>104.550651</td>\n",
              "    </tr>\n",
              "  </tbody>\n",
              "</table>\n",
              "</div>\n",
              "    <div class=\"colab-df-buttons\">\n",
              "\n",
              "  <div class=\"colab-df-container\">\n",
              "    <button class=\"colab-df-convert\" onclick=\"convertToInteractive('df-a3e324b3-49e4-42fc-a65a-0fd437501bd1')\"\n",
              "            title=\"Convert this dataframe to an interactive table.\"\n",
              "            style=\"display:none;\">\n",
              "\n",
              "  <svg xmlns=\"http://www.w3.org/2000/svg\" height=\"24px\" viewBox=\"0 -960 960 960\">\n",
              "    <path d=\"M120-120v-720h720v720H120Zm60-500h600v-160H180v160Zm220 220h160v-160H400v160Zm0 220h160v-160H400v160ZM180-400h160v-160H180v160Zm440 0h160v-160H620v160ZM180-180h160v-160H180v160Zm440 0h160v-160H620v160Z\"/>\n",
              "  </svg>\n",
              "    </button>\n",
              "\n",
              "  <style>\n",
              "    .colab-df-container {\n",
              "      display:flex;\n",
              "      gap: 12px;\n",
              "    }\n",
              "\n",
              "    .colab-df-convert {\n",
              "      background-color: #E8F0FE;\n",
              "      border: none;\n",
              "      border-radius: 50%;\n",
              "      cursor: pointer;\n",
              "      display: none;\n",
              "      fill: #1967D2;\n",
              "      height: 32px;\n",
              "      padding: 0 0 0 0;\n",
              "      width: 32px;\n",
              "    }\n",
              "\n",
              "    .colab-df-convert:hover {\n",
              "      background-color: #E2EBFA;\n",
              "      box-shadow: 0px 1px 2px rgba(60, 64, 67, 0.3), 0px 1px 3px 1px rgba(60, 64, 67, 0.15);\n",
              "      fill: #174EA6;\n",
              "    }\n",
              "\n",
              "    .colab-df-buttons div {\n",
              "      margin-bottom: 4px;\n",
              "    }\n",
              "\n",
              "    [theme=dark] .colab-df-convert {\n",
              "      background-color: #3B4455;\n",
              "      fill: #D2E3FC;\n",
              "    }\n",
              "\n",
              "    [theme=dark] .colab-df-convert:hover {\n",
              "      background-color: #434B5C;\n",
              "      box-shadow: 0px 1px 3px 1px rgba(0, 0, 0, 0.15);\n",
              "      filter: drop-shadow(0px 1px 2px rgba(0, 0, 0, 0.3));\n",
              "      fill: #FFFFFF;\n",
              "    }\n",
              "  </style>\n",
              "\n",
              "    <script>\n",
              "      const buttonEl =\n",
              "        document.querySelector('#df-a3e324b3-49e4-42fc-a65a-0fd437501bd1 button.colab-df-convert');\n",
              "      buttonEl.style.display =\n",
              "        google.colab.kernel.accessAllowed ? 'block' : 'none';\n",
              "\n",
              "      async function convertToInteractive(key) {\n",
              "        const element = document.querySelector('#df-a3e324b3-49e4-42fc-a65a-0fd437501bd1');\n",
              "        const dataTable =\n",
              "          await google.colab.kernel.invokeFunction('convertToInteractive',\n",
              "                                                    [key], {});\n",
              "        if (!dataTable) return;\n",
              "\n",
              "        const docLinkHtml = 'Like what you see? Visit the ' +\n",
              "          '<a target=\"_blank\" href=https://colab.research.google.com/notebooks/data_table.ipynb>data table notebook</a>'\n",
              "          + ' to learn more about interactive tables.';\n",
              "        element.innerHTML = '';\n",
              "        dataTable['output_type'] = 'display_data';\n",
              "        await google.colab.output.renderOutput(dataTable, element);\n",
              "        const docLink = document.createElement('div');\n",
              "        docLink.innerHTML = docLinkHtml;\n",
              "        element.appendChild(docLink);\n",
              "      }\n",
              "    </script>\n",
              "  </div>\n",
              "\n",
              "\n",
              "<div id=\"df-973e739d-9e57-4285-9f83-a04839d281cf\">\n",
              "  <button class=\"colab-df-quickchart\" onclick=\"quickchart('df-973e739d-9e57-4285-9f83-a04839d281cf')\"\n",
              "            title=\"Suggest charts\"\n",
              "            style=\"display:none;\">\n",
              "\n",
              "<svg xmlns=\"http://www.w3.org/2000/svg\" height=\"24px\"viewBox=\"0 0 24 24\"\n",
              "     width=\"24px\">\n",
              "    <g>\n",
              "        <path d=\"M19 3H5c-1.1 0-2 .9-2 2v14c0 1.1.9 2 2 2h14c1.1 0 2-.9 2-2V5c0-1.1-.9-2-2-2zM9 17H7v-7h2v7zm4 0h-2V7h2v10zm4 0h-2v-4h2v4z\"/>\n",
              "    </g>\n",
              "</svg>\n",
              "  </button>\n",
              "\n",
              "<style>\n",
              "  .colab-df-quickchart {\n",
              "      --bg-color: #E8F0FE;\n",
              "      --fill-color: #1967D2;\n",
              "      --hover-bg-color: #E2EBFA;\n",
              "      --hover-fill-color: #174EA6;\n",
              "      --disabled-fill-color: #AAA;\n",
              "      --disabled-bg-color: #DDD;\n",
              "  }\n",
              "\n",
              "  [theme=dark] .colab-df-quickchart {\n",
              "      --bg-color: #3B4455;\n",
              "      --fill-color: #D2E3FC;\n",
              "      --hover-bg-color: #434B5C;\n",
              "      --hover-fill-color: #FFFFFF;\n",
              "      --disabled-bg-color: #3B4455;\n",
              "      --disabled-fill-color: #666;\n",
              "  }\n",
              "\n",
              "  .colab-df-quickchart {\n",
              "    background-color: var(--bg-color);\n",
              "    border: none;\n",
              "    border-radius: 50%;\n",
              "    cursor: pointer;\n",
              "    display: none;\n",
              "    fill: var(--fill-color);\n",
              "    height: 32px;\n",
              "    padding: 0;\n",
              "    width: 32px;\n",
              "  }\n",
              "\n",
              "  .colab-df-quickchart:hover {\n",
              "    background-color: var(--hover-bg-color);\n",
              "    box-shadow: 0 1px 2px rgba(60, 64, 67, 0.3), 0 1px 3px 1px rgba(60, 64, 67, 0.15);\n",
              "    fill: var(--button-hover-fill-color);\n",
              "  }\n",
              "\n",
              "  .colab-df-quickchart-complete:disabled,\n",
              "  .colab-df-quickchart-complete:disabled:hover {\n",
              "    background-color: var(--disabled-bg-color);\n",
              "    fill: var(--disabled-fill-color);\n",
              "    box-shadow: none;\n",
              "  }\n",
              "\n",
              "  .colab-df-spinner {\n",
              "    border: 2px solid var(--fill-color);\n",
              "    border-color: transparent;\n",
              "    border-bottom-color: var(--fill-color);\n",
              "    animation:\n",
              "      spin 1s steps(1) infinite;\n",
              "  }\n",
              "\n",
              "  @keyframes spin {\n",
              "    0% {\n",
              "      border-color: transparent;\n",
              "      border-bottom-color: var(--fill-color);\n",
              "      border-left-color: var(--fill-color);\n",
              "    }\n",
              "    20% {\n",
              "      border-color: transparent;\n",
              "      border-left-color: var(--fill-color);\n",
              "      border-top-color: var(--fill-color);\n",
              "    }\n",
              "    30% {\n",
              "      border-color: transparent;\n",
              "      border-left-color: var(--fill-color);\n",
              "      border-top-color: var(--fill-color);\n",
              "      border-right-color: var(--fill-color);\n",
              "    }\n",
              "    40% {\n",
              "      border-color: transparent;\n",
              "      border-right-color: var(--fill-color);\n",
              "      border-top-color: var(--fill-color);\n",
              "    }\n",
              "    60% {\n",
              "      border-color: transparent;\n",
              "      border-right-color: var(--fill-color);\n",
              "    }\n",
              "    80% {\n",
              "      border-color: transparent;\n",
              "      border-right-color: var(--fill-color);\n",
              "      border-bottom-color: var(--fill-color);\n",
              "    }\n",
              "    90% {\n",
              "      border-color: transparent;\n",
              "      border-bottom-color: var(--fill-color);\n",
              "    }\n",
              "  }\n",
              "</style>\n",
              "\n",
              "  <script>\n",
              "    async function quickchart(key) {\n",
              "      const quickchartButtonEl =\n",
              "        document.querySelector('#' + key + ' button');\n",
              "      quickchartButtonEl.disabled = true;  // To prevent multiple clicks.\n",
              "      quickchartButtonEl.classList.add('colab-df-spinner');\n",
              "      try {\n",
              "        const charts = await google.colab.kernel.invokeFunction(\n",
              "            'suggestCharts', [key], {});\n",
              "      } catch (error) {\n",
              "        console.error('Error during call to suggestCharts:', error);\n",
              "      }\n",
              "      quickchartButtonEl.classList.remove('colab-df-spinner');\n",
              "      quickchartButtonEl.classList.add('colab-df-quickchart-complete');\n",
              "    }\n",
              "    (() => {\n",
              "      let quickchartButtonEl =\n",
              "        document.querySelector('#df-973e739d-9e57-4285-9f83-a04839d281cf button');\n",
              "      quickchartButtonEl.style.display =\n",
              "        google.colab.kernel.accessAllowed ? 'block' : 'none';\n",
              "    })();\n",
              "  </script>\n",
              "</div>\n",
              "\n",
              "    </div>\n",
              "  </div>\n"
            ]
          },
          "metadata": {},
          "execution_count": 14
        }
      ]
    },
    {
      "cell_type": "code",
      "execution_count": 15,
      "metadata": {
        "colab": {
          "base_uri": "https://localhost:8080/",
          "height": 447
        },
        "id": "3fe17a8e",
        "outputId": "7eaf5eb5-204f-4a93-e413-fd3ea2e911f1"
      },
      "outputs": [
        {
          "output_type": "execute_result",
          "data": {
            "text/plain": [
              "<Axes: >"
            ]
          },
          "metadata": {},
          "execution_count": 15
        },
        {
          "output_type": "display_data",
          "data": {
            "text/plain": [
              "<Figure size 640x480 with 1 Axes>"
            ],
            "image/png": "[encoded data removed]"
          },
          "metadata": {}
        }
      ],
      "source": [
        "df.query('text_len < 100')['text_len'].hist(bins=50)"
      ],
      "id": "3fe17a8e"
    },
    {
      "cell_type": "code",
      "execution_count": 16,
      "metadata": {
        "colab": {
          "base_uri": "https://localhost:8080/",
          "height": 206
        },
        "id": "572c0566",
        "outputId": "e5f70c8c-c8ae-446c-b6fb-7d63f399b52f"
      },
      "outputs": [
        {
          "output_type": "execute_result",
          "data": {
            "text/plain": [
              "                              text                    label  text_len\n",
              "107                           Soon     announcement promise         4\n",
              "415    Synthetix lists stETH Perps   development, specified        27\n",
              "530  Flux partners with Octominer!  partnership, non-crypto        29\n",
              "545  DeFining news: June 9th, 2023     announcement promise        29\n",
              "19   Open Exchange Adds FTX Claims                 positive        29"
            ],
            "text/html": [
              "\n",
              "  <div id=\"df-a05894c6-c83a-4c86-b13f-548cddc7d947\" class=\"colab-df-container\">\n",
              "    <div>\n",
              "<style scoped>\n",
              "    .dataframe tbody tr th:only-of-type {\n",
              "        vertical-align: middle;\n",
              "    }\n",
              "\n",
              "    .dataframe tbody tr th {\n",
              "        vertical-align: top;\n",
              "    }\n",
              "\n",
              "    .dataframe thead th {\n",
              "        text-align: right;\n",
              "    }\n",
              "</style>\n",
              "<table border=\"1\" class=\"dataframe\">\n",
              "  <thead>\n",
              "    <tr style=\"text-align: right;\">\n",
              "      <th></th>\n",
              "      <th>text</th>\n",
              "      <th>label</th>\n",
              "      <th>text_len</th>\n",
              "    </tr>\n",
              "  </thead>\n",
              "  <tbody>\n",
              "    <tr>\n",
              "      <th>107</th>\n",
              "      <td>Soon</td>\n",
              "      <td>announcement promise</td>\n",
              "      <td>4</td>\n",
              "    </tr>\n",
              "    <tr>\n",
              "      <th>415</th>\n",
              "      <td>Synthetix lists stETH Perps</td>\n",
              "      <td>development, specified</td>\n",
              "      <td>27</td>\n",
              "    </tr>\n",
              "    <tr>\n",
              "      <th>530</th>\n",
              "      <td>Flux partners with Octominer!</td>\n",
              "      <td>partnership, non-crypto</td>\n",
              "      <td>29</td>\n",
              "    </tr>\n",
              "    <tr>\n",
              "      <th>545</th>\n",
              "      <td>DeFining news: June 9th, 2023</td>\n",
              "      <td>announcement promise</td>\n",
              "      <td>29</td>\n",
              "    </tr>\n",
              "    <tr>\n",
              "      <th>19</th>\n",
              "      <td>Open Exchange Adds FTX Claims</td>\n",
              "      <td>positive</td>\n",
              "      <td>29</td>\n",
              "    </tr>\n",
              "  </tbody>\n",
              "</table>\n",
              "</div>\n",
              "    <div class=\"colab-df-buttons\">\n",
              "\n",
              "  <div class=\"colab-df-container\">\n",
              "    <button class=\"colab-df-convert\" onclick=\"convertToInteractive('df-a05894c6-c83a-4c86-b13f-548cddc7d947')\"\n",
              "            title=\"Convert this dataframe to an interactive table.\"\n",
              "            style=\"display:none;\">\n",
              "\n",
              "  <svg xmlns=\"http://www.w3.org/2000/svg\" height=\"24px\" viewBox=\"0 -960 960 960\">\n",
              "    <path d=\"M120-120v-720h720v720H120Zm60-500h600v-160H180v160Zm220 220h160v-160H400v160Zm0 220h160v-160H400v160ZM180-400h160v-160H180v160Zm440 0h160v-160H620v160ZM180-180h160v-160H180v160Zm440 0h160v-160H620v160Z\"/>\n",
              "  </svg>\n",
              "    </button>\n",
              "\n",
              "  <style>\n",
              "    .colab-df-container {\n",
              "      display:flex;\n",
              "      gap: 12px;\n",
              "    }\n",
              "\n",
              "    .colab-df-convert {\n",
              "      background-color: #E8F0FE;\n",
              "      border: none;\n",
              "      border-radius: 50%;\n",
              "      cursor: pointer;\n",
              "      display: none;\n",
              "      fill: #1967D2;\n",
              "      height: 32px;\n",
              "      padding: 0 0 0 0;\n",
              "      width: 32px;\n",
              "    }\n",
              "\n",
              "    .colab-df-convert:hover {\n",
              "      background-color: #E2EBFA;\n",
              "      box-shadow: 0px 1px 2px rgba(60, 64, 67, 0.3), 0px 1px 3px 1px rgba(60, 64, 67, 0.15);\n",
              "      fill: #174EA6;\n",
              "    }\n",
              "\n",
              "    .colab-df-buttons div {\n",
              "      margin-bottom: 4px;\n",
              "    }\n",
              "\n",
              "    [theme=dark] .colab-df-convert {\n",
              "      background-color: #3B4455;\n",
              "      fill: #D2E3FC;\n",
              "    }\n",
              "\n",
              "    [theme=dark] .colab-df-convert:hover {\n",
              "      background-color: #434B5C;\n",
              "      box-shadow: 0px 1px 3px 1px rgba(0, 0, 0, 0.15);\n",
              "      filter: drop-shadow(0px 1px 2px rgba(0, 0, 0, 0.3));\n",
              "      fill: #FFFFFF;\n",
              "    }\n",
              "  </style>\n",
              "\n",
              "    <script>\n",
              "      const buttonEl =\n",
              "        document.querySelector('#df-a05894c6-c83a-4c86-b13f-548cddc7d947 button.colab-df-convert');\n",
              "      buttonEl.style.display =\n",
              "        google.colab.kernel.accessAllowed ? 'block' : 'none';\n",
              "\n",
              "      async function convertToInteractive(key) {\n",
              "        const element = document.querySelector('#df-a05894c6-c83a-4c86-b13f-548cddc7d947');\n",
              "        const dataTable =\n",
              "          await google.colab.kernel.invokeFunction('convertToInteractive',\n",
              "                                                    [key], {});\n",
              "        if (!dataTable) return;\n",
              "\n",
              "        const docLinkHtml = 'Like what you see? Visit the ' +\n",
              "          '<a target=\"_blank\" href=https://colab.research.google.com/notebooks/data_table.ipynb>data table notebook</a>'\n",
              "          + ' to learn more about interactive tables.';\n",
              "        element.innerHTML = '';\n",
              "        dataTable['output_type'] = 'display_data';\n",
              "        await google.colab.output.renderOutput(dataTable, element);\n",
              "        const docLink = document.createElement('div');\n",
              "        docLink.innerHTML = docLinkHtml;\n",
              "        element.appendChild(docLink);\n",
              "      }\n",
              "    </script>\n",
              "  </div>\n",
              "\n",
              "\n",
              "<div id=\"df-c10f210e-6454-4573-aaab-9e9995e737ca\">\n",
              "  <button class=\"colab-df-quickchart\" onclick=\"quickchart('df-c10f210e-6454-4573-aaab-9e9995e737ca')\"\n",
              "            title=\"Suggest charts\"\n",
              "            style=\"display:none;\">\n",
              "\n",
              "<svg xmlns=\"http://www.w3.org/2000/svg\" height=\"24px\"viewBox=\"0 0 24 24\"\n",
              "     width=\"24px\">\n",
              "    <g>\n",
              "        <path d=\"M19 3H5c-1.1 0-2 .9-2 2v14c0 1.1.9 2 2 2h14c1.1 0 2-.9 2-2V5c0-1.1-.9-2-2-2zM9 17H7v-7h2v7zm4 0h-2V7h2v10zm4 0h-2v-4h2v4z\"/>\n",
              "    </g>\n",
              "</svg>\n",
              "  </button>\n",
              "\n",
              "<style>\n",
              "  .colab-df-quickchart {\n",
              "      --bg-color: #E8F0FE;\n",
              "      --fill-color: #1967D2;\n",
              "      --hover-bg-color: #E2EBFA;\n",
              "      --hover-fill-color: #174EA6;\n",
              "      --disabled-fill-color: #AAA;\n",
              "      --disabled-bg-color: #DDD;\n",
              "  }\n",
              "\n",
              "  [theme=dark] .colab-df-quickchart {\n",
              "      --bg-color: #3B4455;\n",
              "      --fill-color: #D2E3FC;\n",
              "      --hover-bg-color: #434B5C;\n",
              "      --hover-fill-color: #FFFFFF;\n",
              "      --disabled-bg-color: #3B4455;\n",
              "      --disabled-fill-color: #666;\n",
              "  }\n",
              "\n",
              "  .colab-df-quickchart {\n",
              "    background-color: var(--bg-color);\n",
              "    border: none;\n",
              "    border-radius: 50%;\n",
              "    cursor: pointer;\n",
              "    display: none;\n",
              "    fill: var(--fill-color);\n",
              "    height: 32px;\n",
              "    padding: 0;\n",
              "    width: 32px;\n",
              "  }\n",
              "\n",
              "  .colab-df-quickchart:hover {\n",
              "    background-color: var(--hover-bg-color);\n",
              "    box-shadow: 0 1px 2px rgba(60, 64, 67, 0.3), 0 1px 3px 1px rgba(60, 64, 67, 0.15);\n",
              "    fill: var(--button-hover-fill-color);\n",
              "  }\n",
              "\n",
              "  .colab-df-quickchart-complete:disabled,\n",
              "  .colab-df-quickchart-complete:disabled:hover {\n",
              "    background-color: var(--disabled-bg-color);\n",
              "    fill: var(--disabled-fill-color);\n",
              "    box-shadow: none;\n",
              "  }\n",
              "\n",
              "  .colab-df-spinner {\n",
              "    border: 2px solid var(--fill-color);\n",
              "    border-color: transparent;\n",
              "    border-bottom-color: var(--fill-color);\n",
              "    animation:\n",
              "      spin 1s steps(1) infinite;\n",
              "  }\n",
              "\n",
              "  @keyframes spin {\n",
              "    0% {\n",
              "      border-color: transparent;\n",
              "      border-bottom-color: var(--fill-color);\n",
              "      border-left-color: var(--fill-color);\n",
              "    }\n",
              "    20% {\n",
              "      border-color: transparent;\n",
              "      border-left-color: var(--fill-color);\n",
              "      border-top-color: var(--fill-color);\n",
              "    }\n",
              "    30% {\n",
              "      border-color: transparent;\n",
              "      border-left-color: var(--fill-color);\n",
              "      border-top-color: var(--fill-color);\n",
              "      border-right-color: var(--fill-color);\n",
              "    }\n",
              "    40% {\n",
              "      border-color: transparent;\n",
              "      border-right-color: var(--fill-color);\n",
              "      border-top-color: var(--fill-color);\n",
              "    }\n",
              "    60% {\n",
              "      border-color: transparent;\n",
              "      border-right-color: var(--fill-color);\n",
              "    }\n",
              "    80% {\n",
              "      border-color: transparent;\n",
              "      border-right-color: var(--fill-color);\n",
              "      border-bottom-color: var(--fill-color);\n",
              "    }\n",
              "    90% {\n",
              "      border-color: transparent;\n",
              "      border-bottom-color: var(--fill-color);\n",
              "    }\n",
              "  }\n",
              "</style>\n",
              "\n",
              "  <script>\n",
              "    async function quickchart(key) {\n",
              "      const quickchartButtonEl =\n",
              "        document.querySelector('#' + key + ' button');\n",
              "      quickchartButtonEl.disabled = true;  // To prevent multiple clicks.\n",
              "      quickchartButtonEl.classList.add('colab-df-spinner');\n",
              "      try {\n",
              "        const charts = await google.colab.kernel.invokeFunction(\n",
              "            'suggestCharts', [key], {});\n",
              "      } catch (error) {\n",
              "        console.error('Error during call to suggestCharts:', error);\n",
              "      }\n",
              "      quickchartButtonEl.classList.remove('colab-df-spinner');\n",
              "      quickchartButtonEl.classList.add('colab-df-quickchart-complete');\n",
              "    }\n",
              "    (() => {\n",
              "      let quickchartButtonEl =\n",
              "        document.querySelector('#df-c10f210e-6454-4573-aaab-9e9995e737ca button');\n",
              "      quickchartButtonEl.style.display =\n",
              "        google.colab.kernel.accessAllowed ? 'block' : 'none';\n",
              "    })();\n",
              "  </script>\n",
              "</div>\n",
              "\n",
              "    </div>\n",
              "  </div>\n"
            ]
          },
          "metadata": {},
          "execution_count": 16
        }
      ],
      "source": [
        "df.query('text_len < 100').sort_values('text_len').head()"
      ],
      "id": "572c0566"
    },
    {
      "cell_type": "markdown",
      "metadata": {
        "id": "10af3649"
      },
      "source": [
        "Коротких бессмысленных текстов не замечено."
      ],
      "id": "10af3649"
    },
    {
      "cell_type": "markdown",
      "metadata": {
        "id": "aa7b3b08"
      },
      "source": [
        "#### Уберем классы с кол-вом образцов < 5"
      ],
      "id": "aa7b3b08"
    },
    {
      "cell_type": "code",
      "execution_count": 17,
      "metadata": {
        "colab": {
          "base_uri": "https://localhost:8080/"
        },
        "id": "3496fb9d",
        "outputId": "39ca117e-58dd-4e4e-d7d0-d633e23d34c4"
      },
      "outputs": [
        {
          "output_type": "execute_result",
          "data": {
            "text/plain": [
              "development, specified     276\n",
              "partnership, non-crypto    260\n",
              "development                 61\n",
              "announcement promise        59\n",
              "start of burn/buyback       32\n",
              "legal, negative             32\n",
              "legal, positive             21\n",
              "raise                       15\n",
              "exploit                     15\n",
              "negative                    12\n",
              "selling                     12\n",
              "ripple                      10\n",
              "positive                     4\n",
              "sec                          1\n",
              "negative rebuttal            1\n",
              "interested                   1\n",
              "Name: label, dtype: int64"
            ]
          },
          "metadata": {},
          "execution_count": 17
        }
      ],
      "source": [
        "df['label'].value_counts()"
      ],
      "id": "3496fb9d"
    },
    {
      "cell_type": "code",
      "execution_count": 18,
      "metadata": {
        "id": "c1a72c7b"
      },
      "outputs": [],
      "source": [
        "df['label_count'] = df.groupby('label')['label'].transform('count')\n",
        "df = df.query('label_count > 5')"
      ],
      "id": "c1a72c7b"
    },
    {
      "cell_type": "code",
      "execution_count": 19,
      "metadata": {
        "colab": {
          "base_uri": "https://localhost:8080/"
        },
        "id": "625dde6b",
        "outputId": "aad26574-08f5-4061-c94e-930c84e8a997"
      },
      "outputs": [
        {
          "output_type": "execute_result",
          "data": {
            "text/plain": [
              "development, specified     276\n",
              "partnership, non-crypto    260\n",
              "development                 61\n",
              "announcement promise        59\n",
              "start of burn/buyback       32\n",
              "legal, negative             32\n",
              "legal, positive             21\n",
              "raise                       15\n",
              "exploit                     15\n",
              "negative                    12\n",
              "selling                     12\n",
              "ripple                      10\n",
              "Name: label, dtype: int64"
            ]
          },
          "metadata": {},
          "execution_count": 19
        }
      ],
      "source": [
        "\n",
        "df['label'].value_counts()"
      ],
      "id": "625dde6b"
    },
    {
      "cell_type": "code",
      "source": [
        "df = df.reset_index(drop=True)"
      ],
      "metadata": {
        "id": "3Dtg8sjc_ui5"
      },
      "id": "3Dtg8sjc_ui5",
      "execution_count": 20,
      "outputs": []
    },
    {
      "cell_type": "markdown",
      "metadata": {
        "id": "9f4d1171"
      },
      "source": [
        "#### Оценим содержимое наших таргетов"
      ],
      "id": "9f4d1171"
    },
    {
      "cell_type": "markdown",
      "source": [
        "Сами по себе данные представляют собой заколовки новостные на различные таматики.  \n",
        "\n",
        "development, specified - разработка, уточненная  \n",
        "partnership, non-crypto - партнерство, не криптовалютное  \n",
        "development - разработка  \n",
        "announcement promise - обещание объявления  \n",
        "start of burn/buyback - начало сжигания/выкупа  \n",
        "legal, negative - юридически, негативно  \n",
        "legal, positive - юридически, позитивно  \n",
        "raise - привлечение (финансирования)  \n",
        "exploit - эксплуатировать  \n",
        "negative - негативный  \n",
        "selling - продажа  \n",
        "ripple - криптовалюта Ripple  "
      ],
      "metadata": {
        "id": "R5rYL3j5DLad"
      },
      "id": "R5rYL3j5DLad"
    },
    {
      "cell_type": "markdown",
      "source": [
        "Тут сразу видно несколько проблем:\n",
        "1. Есть категории как по содержанию заголовка (selling, development, ...), так по эмоциональному содержанию текста (negative).  \n",
        "При этом одна тема по содержанию разбита на темы по эмоциональности (legal negative, legal positive).\n",
        "2. Две большие группы development и development specified вообщем относятся к одной группе по содержанию, но различаются глубиной контекста.  \n",
        "\n",
        "Проблемы:   \n",
        "Все это в купе с дисбалансом и маленькой выборкой создаст  определенныне сложности при обучении хорошего классификаторв.\n",
        "\n",
        "Гипотезы:  \n",
        "1. Обучить несколько моделей на определение разных составляющих.  \n",
        "Допустим обучить модель для предсказания любого legit и уже потом делить их на positive и negative.  \n",
        "2. Обучить одну большую сложную модель, которая бы могла разделить классы.  \n",
        "На ум приходит какой-нибудь BERT, его даже не обязательно обучать полностью, можно дообучить только \"голову\""
      ],
      "metadata": {
        "id": "Cj-l4y6uEXAs"
      },
      "id": "Cj-l4y6uEXAs"
    },
    {
      "cell_type": "code",
      "execution_count": 21,
      "metadata": {
        "colab": {
          "base_uri": "https://localhost:8080/"
        },
        "id": "276dbb4a",
        "outputId": "fdc2dbee-bb38-4c40-b998-5a5f9fba1bcf"
      },
      "outputs": [
        {
          "output_type": "stream",
          "name": "stdout",
          "text": [
            "label: development, specified\n",
            "0: The Mines of Dalarnia Update 1.4: Rechained is now LIVE! This new version reintroduces all of the previous blockchain features along with new ones on BSC Mainnet, including: 1⃣ Off-chain and on-chain crafting. 2⃣ New competition mode. 3⃣ Spacehop. 4⃣ New monster, and…\n",
            "1: Mines of Dalarnia Mainnet—Update 1.4: Rechained\n",
            "2: Kava in the news [kava 14 accelerates cosmos ecosystem expansion]\n",
            "3: Build on Base Mainnet with 1RPC\n",
            "4: No better time than to @buildonbase with Base Mainnet now open to builders - devs, access the network with our dedicated 1RPC endpoint and start building the on-chain future today We can't wait to see what you'll get up to:\n",
            "5: Dive deep into 14! Introducing the 'internal bridge', a secure module enabling seamless interoperability between Cosmos & Ethereum ecosystems. Effortlessly convert tokens into ERC20 for use in the environment\n",
            "____\n",
            "label: partnership, non-crypto\n",
            "0: SimWin Sports and Immutable: Bringing Digital Ownership to Fantasy Sports\n",
            "1: Congrats to @O3_Labs on becoming the new member of SPACE ID Grant Program, & our proud integration partner of Web3 Name SDK. Your @SID_bnb .bnb + @SID_arb .arb names are now supported in the ecosystem of this cross-chain aggregation protocol.\n",
            "2: Sponsor Announcement We are thrilled to introduce @emurgo_io as the headline sponsor of the! EMURGO is a founding entity of the Cardano blockchain & provides products & services to drive the adoption of Cardano’s Web3 ecosystem.\n",
            "3: It is with great excitement that we announce the partnership between REI Network and @PowerBrowser, two pioneering entities in the blockchain space. The collaboration aims to combine the strengths of both platforms and revolutionize the landscape of dApps and Web3 browsing.\n",
            "4: 1/ ICP.Hub India partners with leading smart contract audit firm @QuillAudits Let's collaborate to ensure the safety of the Web3 world\n",
            "5: .@AhnLab_ABC has entered into a channel partnership with @ChainlinkLabs to help propel the adoption of secure Web3 infrastructure. Explore how Ahnlab Blockchain Company and Chainlink help individuals and enterprises conduct safe transactions across.\n",
            "____\n",
            "label: raise\n",
            "0: New AI Memecoin Shiba Memu Raises $798K in Nine Days\n",
            "1: It has received investments from Fourth Revolution Capital, ParaFi Capital, Synthetix founder Kain Warwick, Aave founder Stani Kulechov.\n",
            "2: Alex The Doge Presale Reports 14 Million Tokens Sold\n",
            "3: MakerDAO purchases $700 million in Treasury bonds, grows holdings to $1.2 billion\n",
            "4: Announcing RetroPGF Round 3! This fall, 30M OP will be distributed to builders, creators, and educators who have provided positive impact to the Optimism Collective.\n",
            "5: Mask Network and @BonfireUnion is thrilled to support Lens Protocol and help building the next-gen internet||Quoting a tweet from @tier10k:\n",
            "Today, we're excited to announce our $15 million funding round to accelerate the adoption of the next generation of the internet powered by human connection –- the people-powered social layer.\n",
            "____\n",
            "label: ripple\n",
            "0: The Ripple Effect: Crypto Market Soars $73.5B After Judge's Ruling in XRP SEC Case\n",
            "1: Kraken, Crypto.com Join Coinbase in Relisting XRP After Court Ruling\n",
            "2: RIPPLE WINS VERDICT THAT XRP IS NOT A SECURITY, JUDGE ALSO RULES THAT INSTITUTIONAL SALES OF XRP BY RIPPLE WERE SECURITIES SOURCE: @zoomerfied @SummersThings\n",
            "3: Ripple calls for investigation into former SEC official after document release\n",
            "4: What’s most important is that it’s truly the first time the SEC was forced to be transparent about their lack of internal coherence or faithful application of the law, acknowledging they may not have the jurisdiction to fill the “regulatory gap” over crypto at all.\n",
            "5: Colombia’s Central Bank Taps Ripple to Pilot CBDC\n",
            "____\n",
            "label: announcement promise\n",
            "0: Any guesses as to what's coming soon?\n",
            "1: NOTIFICATIONS ON Tomorrow is the start of @stablesummit, & Liquity founder @robert_Lauko will kick off the summit with a BIG announcement When: 9.50 CET Who: @robert_lauko Where: @stable_summit main stage The LIVE stream will be available here:\n",
            "2: The final Polygon 2.0 announcement is coming next week: A proposed governance framework for the future of all Polygon protocols and the ecosystem. Polygon 2.0 will be community-led and community-focused!\n",
            "3: Nos vemos en @EtherAegentina del 16 al 19 de Agosto. Más sorpresas pronto\n",
            "4: 12 hours to go! Join us for the with @GoPlusEco! Some exciting news will be shared then Claim your token: Claim exclusive: Set reminder\n",
            "5: We have a few surprises for lined up... Here is a sneak peak of one Can you find all the @smol_joes?\n",
            "____\n",
            "label: start of burn/buyback\n",
            "0: Real-time report of Buyback&Burn 3,272,091.4137 $SUN just burned! To date, a total of 182,318,780.18 $SUN burned Let's look forward to the bright future of SUN together! Details: [en us]\n",
            "1: Buyback&Burn Report Total burned 179,046,688.77 $SUN as of Jul 10th To be burned 4,546,225.22 $SUN in the next round Details:\n",
            "2: 17/24 On our project roadmap, we have outlined plans to introduce a mechanism within Komodo Wallet that will burn a small portion of with each trade. Essentially, the goal is to create a direct correlation between the success of Komodo Wallet and KMD's long-term value.\n",
            "3: MOBOX BURN burn has taken place! We have burned 252,560 $MBOX including MBOX from automated buyback! burn burn\n",
            "4: Exciting news, community! We're thrilled to announce that we've completed our 8th quarterly token burn, keeping our commitment to a deflationary token model.\n",
            "5: Our 120th weekly buyback & burn is completed. 50,888 $ALPACA have been sent to the fire. We are on a 63 weeks deflationary streak Total cumulative burn is now 31.8Mn+ tokens See burn breakdown here:\n",
            "____\n",
            "label: legal, positive\n",
            "0: Last month - in response to proposed amendments by @SECGov to Exchange Act Rule 3b-16 Regarding the Definition of “Exchange” - Chairman @brettmcdowell in collaboration with the Hedera Governing Council formally provided the SEC with recommendations and feedback, citing…\n",
            "1: We are proud to join forces with the global community to advocate for clarity on in the. We made it to @politico's Financial Services updateLet's keep the conversation going for better legal frameworks||Quoting a tweet from @tier10k:\n",
            "We continue advocating for clarity in the 🟣 Our open letter made waves, landing in @politico’s Morning Financial Services update. Check out the concerns we raised on legal confusion &amp; smart contracts: Need access? Ping us\n",
            "2: Alchemy Pay Listed As Mastercard Service Provider\n",
            "3: has earned recognition as a Mastercard's compliant registered service provider. Being part of trusted network, we are paving the way for wider adoption of cryptocurrencies globally through reliable fiat payment. Learn more: $ACH\n",
            "4: Sushi made the Indonesian list of legal, tradable cryptocurrencies sanctioned by their government.||Quoting a tweet from @tier10k:\n",
            "The Indonesian government has released a list of tradable cryptocurrencies, including BTC, ETH, LTC, SOL, ADA, XRP, DOT, SAND, UNI etc., a total of 501 cryptocurrencies, covering almost all tokens recognized as securities by the US SEC.\n",
            "5: The Indonesian Government has released a list of 400++ digital assets that are authorized to be tradeable in the country. It includes Chiliz and Fan Tokens.\n",
            "____\n",
            "label: exploit\n",
            "0: Arbitrum-based Rodeo Finance loses $1.5 million in latest DeFi exploit\n",
            "1: Arbitrum-based Rodeo Finance exploited for $1.53M, the second time in a week\n",
            "2: MULTICHAIN FANTOM BRIDGE POSSIBLY DRAINED, AFFECTED ASSETS ARE WBTC, USDC, DAI, ETH, LINK: ONCHAIN\n",
            "3: MULTICHAIN MOONRIVER BRIDGE ALSO BEING DRAINED: ONCHAIN\n",
            "4: Aptos Foundation Twitter account hacked to promote fake airdrop\n",
            "5: Multichain Team Confirms Exploit Across Fantom, Moonriver and Dogechain Bridges\n",
            "____\n",
            "label: negative\n",
            "0: Federal Prosecutors Investigate Former FTX Executive Over Possible Campaign Law Violations: WSJ\n",
            "1: Genesis’s $2 Billion Fight With FTX Risks Creditor-Payout Delays\n",
            "2: BlockFi Bankruptcy Plans Opposed by FTX, Three Arrows, and SEC\n",
            "3: FTX's bankruptcy process could be vastly more expensive than Enron's dollar-for-dollar. Is there a good reason for that? @davidzmorris writes. Opinion for The Node newsletter.\n",
            "4: FTX’s Fall Sets Off Guilty Pleas and Soul-Searching by Those Around Bankman-Fried\n",
            "5: FTX bankruptcy will be ‘very expensive’ but there’s a reason: Auditor\n",
            "____\n",
            "label: selling\n",
            "0: Near Foundation treasury drops to $900M as token price plunges\n",
            "1: Dimethyltryptamine.eth sold another 180B $PEPE for 149.4 $ETH an hour ago, and there are currently 2.07T $PEPE left. He spent 0.125 $ETH to buy 5.9T $PEPE very early and has sold a total of 3.83T $PEPE for 2,411 $ETH.\n",
            "2: Crypto Storage Token Storj Hits 10-Month High Overnight\n",
            "3: Optimism, Aptos and ApeCoin set for largest token unlocks in July\n",
            "4: Address 0x1497 sold all 972.84B $PEPE for 514 $ETH ~2 hrs ago, the selling price was $0.0000008718. This guy might be an inside trader. He received 0.58 $ETH from and spent 0.027 $ETH to buy 2.27T $PEPE within 10 minutes of $PEPE starting trading.\n",
            "5: BREAKING: Tether de-pegs as Curve 3Pool becomes imbalanced [tether depeg curve 3pool]\n",
            "____\n",
            "label: legal, negative\n",
            "0: The SEC is investigating the Barnbridge DAO, a cross-platform tiered derivatives protocol, and individuals associated with the DAO. Its legal counsel stated that in order to reduce potential further legal liabilities, all product work should cease, and individuals should no…\n",
            "1: BarnBridge DAO advised to halt DeFi operations amid purported SEC probe\n",
            "2: BOND Token Prices Slumps 10% as BarnBridge Faces SEC Investigation\n",
            "3: Elon Musk Calls Motion to Kick Tesla Attorneys Off Dogecoin Lawsuit an 'Insult'\n",
            "4: Centralization Comes to DeFi as Group Behind MIM, SPELL Tokens Mull Legal Shakeup\n",
            "5: Revolut to Delist Solana, Polygon, And Cardano After SEC ‘Security’ Label\n",
            "____\n",
            "label: development\n",
            "0: Avalanche hits 1 million monthly active users for the first time\n",
            "1: As Multichain Wobbles, Some Fantom-Based DeFi Projects Flee Bridged Tokens\n",
            "2: Skale Network introduces Ethereum ZK-Rollup Levitation Protocol\n",
            "3: .@MakerDAO voted for onboarding a new real-world asset vault that would invest up to $1.28 billion in short-term U.S. Treasury bonds with asset manager @BlockTower. @sndr_krisztian reports\n",
            "4: Uniswap community votes against proposal for protocol fee on trades\n",
            "5: AirDAO achieves decentralized governance with the election of AirDAO Council\n",
            "____\n"
          ]
        }
      ],
      "source": [
        "for t in df['label'].unique():\n",
        "    print(f\"label: {t}\")\n",
        "    for idx in range(6):\n",
        "        print(f'''{idx}: {df.query(f'label ==\"{t}\"')['text'].iloc[idx]}''')\n",
        "\n",
        "    print('____')"
      ],
      "id": "276dbb4a"
    },
    {
      "cell_type": "markdown",
      "metadata": {
        "id": "086e5401"
      },
      "source": [
        "Также в тексте очень много симоволов, абривиатур, чисел, ссылок.  \n",
        "Очевидно, некоторые из таких обозначений могу помогать модели определять класс заголовка, но в тоже время избыточно наращивать размеры словаря и создавать вредный шум."
      ],
      "id": "086e5401"
    },
    {
      "cell_type": "markdown",
      "source": [
        "### Подготовка данных"
      ],
      "metadata": {
        "id": "hTXK-Lrw92R-"
      },
      "id": "hTXK-Lrw92R-"
    },
    {
      "cell_type": "markdown",
      "metadata": {
        "id": "d69ed330"
      },
      "source": [
        "#### Токенизируем целевую переменную"
      ],
      "id": "d69ed330"
    },
    {
      "cell_type": "markdown",
      "metadata": {
        "id": "47f2b796"
      },
      "source": [
        "Отсортируем их по кол-ву (для воспроизводимости) и создадим словарь метки класс : токен"
      ],
      "id": "47f2b796"
    },
    {
      "cell_type": "code",
      "execution_count": 22,
      "metadata": {
        "colab": {
          "base_uri": "https://localhost:8080/"
        },
        "id": "95424e09",
        "outputId": "7eb8502f-e7dd-4647-884d-148591ad018c"
      },
      "outputs": [
        {
          "output_type": "stream",
          "name": "stdout",
          "text": [
            "{'development, specified': 0, 'partnership, non-crypto': 1, 'development': 2, 'announcement promise': 3, 'start of burn/buyback': 4, 'legal, negative': 5, 'legal, positive': 6, 'raise': 7, 'exploit': 8, 'negative': 9, 'selling': 10, 'ripple': 11}\n"
          ]
        }
      ],
      "source": [
        "lable2token = {token: idx for idx, token in enumerate(df['label'].value_counts().index)}\n",
        "print(lable2token)"
      ],
      "id": "95424e09"
    },
    {
      "cell_type": "code",
      "execution_count": 23,
      "metadata": {
        "id": "3d710bdb"
      },
      "outputs": [],
      "source": [
        "df['labels_token'] = df['label'].replace(lable2token)"
      ],
      "id": "3d710bdb"
    },
    {
      "cell_type": "code",
      "execution_count": 24,
      "metadata": {
        "colab": {
          "base_uri": "https://localhost:8080/",
          "height": 447
        },
        "id": "jWdJjCSjBBsD",
        "outputId": "90d27da9-f5dc-40ea-fafb-8959ba0c1290"
      },
      "outputs": [
        {
          "output_type": "execute_result",
          "data": {
            "text/plain": [
              "<Axes: >"
            ]
          },
          "metadata": {},
          "execution_count": 24
        },
        {
          "output_type": "display_data",
          "data": {
            "text/plain": [
              "<Figure size 640x480 with 1 Axes>"
            ],
            "image/png": "[encoded data removed]"
          },
          "metadata": {}
        }
      ],
      "source": [
        "\n",
        "df['labels_token'].hist(bins=12)"
      ],
      "id": "jWdJjCSjBBsD"
    },
    {
      "cell_type": "markdown",
      "source": [
        "#### Отчистим и подготовим данные"
      ],
      "metadata": {
        "id": "aQutod_zATIL"
      },
      "id": "aQutod_zATIL"
    },
    {
      "cell_type": "markdown",
      "source": [
        "Напишем несколько функций для разного типа отчистки данных.  \n",
        "Сохраним отчищенный текст в новой переменной."
      ],
      "metadata": {
        "id": "PL87Qi4jAi9K"
      },
      "id": "PL87Qi4jAi9K"
    },
    {
      "cell_type": "code",
      "execution_count": 25,
      "metadata": {
        "colab": {
          "base_uri": "https://localhost:8080/"
        },
        "id": "3503c239",
        "outputId": "80286e43-ca98-46ab-a10d-2a7f82a61098"
      },
      "outputs": [
        {
          "output_type": "stream",
          "name": "stderr",
          "text": [
            "[nltk_data] Downloading package stopwords to /root/nltk_data...\n",
            "[nltk_data]   Package stopwords is already up-to-date!\n",
            "[nltk_data] Downloading package wordnet to /root/nltk_data...\n",
            "[nltk_data]   Package wordnet is already up-to-date!\n"
          ]
        }
      ],
      "source": [
        "nltk.download('stopwords')\n",
        "nltk.download('wordnet')\n",
        "\n",
        "stop_words = set(stopwords.words('english'))\n",
        "lemmatizer = WordNetLemmatizer()\n",
        "\n",
        "def remove_emails(x):\n",
        "     return re.sub(r'([a-z0-9+._-]+@[a-z0-9+._-]+\\.[a-z0-9+_-]+)',\"\", x)\n",
        "\n",
        "def remove_urls(x):\n",
        "    return re.sub(r'(http|https|ftp|ssh)://([\\w_-]+(?:(?:\\.[\\w_-]+)+))([\\w.,@?^=%&:/~+#-]*[\\w@?^=%&/~+#-])?', '' , x)\n",
        "\n",
        "def remove_special_chars(x):\n",
        "    x = re.sub(r'[^a-zA-Z0-9@;:\\s]', '', x)\n",
        "    x = ' '.join(x.split())\n",
        "    return x\n",
        "\n",
        "def remove_control_characters(x):\n",
        "    pattern = re.compile(r'[\\n\\t\\r\\\\\\'\\\"]')\n",
        "    return re.sub(pattern, '', x)\n",
        "\n",
        "def remove_accented_chars(x):\n",
        "    x = unicodedata.normalize('NFKD', x).encode('ascii', 'ignore').decode('utf-8', 'ignore')\n",
        "    return x\n",
        "\n",
        "def remove_stopwords(x, stop_words=stop_words):\n",
        "    return ' '.join([t for t in x.split() if t not in stop_words])\n",
        "\n",
        "def remove_bch_adress(x):\n",
        "    return re.sub(r'0x[0-9a-zA-Z]+', '', x).strip()\n",
        "\n",
        "def remove_words_starting_with_at(x):\n",
        "    return re.sub(r'@\\w+\\s*', '', x)\n",
        "\n",
        "def lemmatize_text(x, lemmatizer=lemmatizer):\n",
        "    return ' '.join([lemmatizer.lemmatize(w) for w in x.split()])"
      ],
      "id": "3503c239"
    },
    {
      "cell_type": "code",
      "execution_count": 26,
      "metadata": {
        "id": "59cb8d07"
      },
      "outputs": [],
      "source": [
        "col_name = 'text_clean'\n",
        "df[col_name] = df['text'].apply(lambda x: remove_emails(x)) # убрать адреса email\n",
        "df[col_name] = df[col_name].apply(lambda x: remove_urls(x)) # убрать urls\n",
        "df[col_name] = df[col_name].apply(lambda x: remove_bch_adress(x)) # убрать адреса биткойн кошелька\n",
        "df[col_name] = df[col_name].apply(lambda x: remove_control_characters(x)) # убрать симолы контроля строки\n",
        "df[col_name] = df[col_name].apply(lambda x: remove_words_starting_with_at(x)) # убрать ссылки на акаунты начинающиеся с @\n",
        "df[col_name] = df[col_name].apply(lambda x: remove_special_chars(x)) # убрать все специальные символы кроме букв и цифр\n",
        "df[col_name] = df[col_name].apply(lambda x: remove_stopwords(x)) # убрать все стоп слова\n",
        "df[col_name] = df[col_name].apply(lambda x: lemmatize_text(x)) # убрать лематезировать текст\n",
        "df[col_name] = df[col_name].apply(lambda x: x.lower()) # привести к нижнему регистру"
      ],
      "id": "59cb8d07"
    },
    {
      "cell_type": "code",
      "source": [
        "df['text_clean'][0]"
      ],
      "metadata": {
        "colab": {
          "base_uri": "https://localhost:8080/",
          "height": 53
        },
        "id": "ICIkY7ZNHSP9",
        "outputId": "f9ce55ea-27a8-4f01-b564-007e8e92cbfb"
      },
      "id": "ICIkY7ZNHSP9",
      "execution_count": 27,
      "outputs": [
        {
          "output_type": "execute_result",
          "data": {
            "text/plain": [
              "'the mines dalarnia update 14: rechained live this new version reintroduces previous blockchain feature along new one bsc mainnet including: 1 offchain onchain crafting 2 new competition mode 3 spacehop 4 new monster'"
            ],
            "application/vnd.google.colaboratory.intrinsic+json": {
              "type": "string"
            }
          },
          "metadata": {},
          "execution_count": 27
        }
      ]
    },
    {
      "cell_type": "markdown",
      "metadata": {
        "id": "8a14f307"
      },
      "source": [
        "#### Посмотрим самые частые слова после преобразований и до"
      ],
      "id": "8a14f307"
    },
    {
      "cell_type": "code",
      "execution_count": 28,
      "metadata": {
        "colab": {
          "base_uri": "https://localhost:8080/"
        },
        "id": "ce57eab2",
        "outputId": "daaf3f3d-1848-43e8-d86a-08716f84ef19"
      },
      "outputs": [
        {
          "output_type": "execute_result",
          "data": {
            "text/plain": [
              "the            143\n",
              "tweet          132\n",
              "new            113\n",
              "announce       100\n",
              "we              98\n",
              "partnership     91\n",
              "web3            88\n",
              "mainnet         79\n",
              "ecosystem       74\n",
              "launch          74\n",
              "network         73\n",
              "were            73\n",
              "token           67\n",
              "blockchain      62\n",
              "news            61\n",
              "user            60\n",
              "join            56\n",
              "thrilled        56\n",
              "platform        56\n",
              "first           54\n",
              "protocol        53\n",
              "live            53\n",
              "support         53\n",
              "this            52\n",
              "june            50\n",
              "partner         50\n",
              "learn           50\n",
              "exciting        49\n",
              "coming          49\n",
              "excited         48\n",
              "dtype: int64"
            ]
          },
          "metadata": {},
          "execution_count": 28
        }
      ],
      "source": [
        "count_words(df['text_clean']) # отчищенный текст"
      ],
      "id": "ce57eab2"
    },
    {
      "cell_type": "code",
      "source": [
        "count_words(df['text']) # исходный текст"
      ],
      "metadata": {
        "colab": {
          "base_uri": "https://localhost:8080/"
        },
        "id": "pY2pgzr_Cc4t",
        "outputId": "84d522e1-b67d-4ed9-e4cd-6dce6615b978"
      },
      "id": "pY2pgzr_Cc4t",
      "execution_count": 29,
      "outputs": [
        {
          "output_type": "execute_result",
          "data": {
            "text/plain": [
              "the         1167\n",
              "to           948\n",
              "and          566\n",
              "of           481\n",
              "on           441\n",
              "with         385\n",
              "for          367\n",
              "is           306\n",
              "in           298\n",
              "we           295\n",
              "from         216\n",
              "our          180\n",
              "more         147\n",
              "are          133\n",
              "this         133\n",
              "tweet        132\n",
              "now          131\n",
              "quoting      131\n",
              "will         129\n",
              "that         119\n",
              "be           119\n",
              "as           117\n",
              "you          114\n",
              "new          114\n",
              "tier10k      112\n",
              "re           104\n",
              "has          103\n",
              "it           102\n",
              "announce     100\n",
              "by            98\n",
              "dtype: int64"
            ]
          },
          "metadata": {},
          "execution_count": 29
        }
      ]
    },
    {
      "cell_type": "markdown",
      "source": [
        "Видно, что в исходном тексте было несколько очень частотных слов таких как the, to,and, ....   \n",
        "Их удаление не всегда сильно влияет на результат, а для трансформеров лучше вообщем использовать исходные данные.  \n",
        "Попробуем несколько вариантов в дальнейшем."
      ],
      "metadata": {
        "id": "aFc0z_oDCf7u"
      },
      "id": "aFc0z_oDCf7u"
    },
    {
      "cell_type": "markdown",
      "metadata": {
        "id": "a6cdb9ee"
      },
      "source": [
        "### Разделим данные на train, val и test"
      ],
      "id": "a6cdb9ee"
    },
    {
      "cell_type": "markdown",
      "source": [
        "Разделим данные на 3 группы: обучающая, валидационная и тестовая.  \n",
        "На обучающей и валидационной выберем модель или модели.  \n",
        "На тестовой протестируем полученное решение.  \n",
        "\n",
        "Т.к. данных мало и классы сильно не сбалансированны, то будем использовать стратификацию."
      ],
      "metadata": {
        "id": "lDYaCxvgECUp"
      },
      "id": "lDYaCxvgECUp"
    },
    {
      "cell_type": "code",
      "execution_count": 30,
      "metadata": {
        "id": "7f740108"
      },
      "outputs": [],
      "source": [
        "train_val, test, target_train_val, target_test = train_test_split(df['text'],\n",
        "                                                                  df['labels_token'].values,\n",
        "                                                                  test_size=0.15,\n",
        "                                                                  stratify=df['labels_token'],\n",
        "                                                                  random_state=42)"
      ],
      "id": "7f740108"
    },
    {
      "cell_type": "code",
      "source": [
        "train, val, target_train, target_val = train_test_split(train_val,\n",
        "                                                        target_train_val,\n",
        "                                                        test_size=0.2,\n",
        "                                                        stratify=target_train_val,\n",
        "                                                        random_state=42)"
      ],
      "metadata": {
        "id": "9WrsB6TltTSO"
      },
      "id": "9WrsB6TltTSO",
      "execution_count": 31,
      "outputs": []
    },
    {
      "cell_type": "markdown",
      "source": [
        "Также разобъем очищенную выборку"
      ],
      "metadata": {
        "id": "zbSiRCU9wkF4"
      },
      "id": "zbSiRCU9wkF4"
    },
    {
      "cell_type": "code",
      "source": [
        "train_val_clean, test_clean, target_train_val_clean, target_test_clean = train_test_split(df['text_clean'],\n",
        "                                                                                          df['labels_token'].values,\n",
        "                                                                                          test_size=0.15,\n",
        "                                                                                          stratify=df['labels_token'],\n",
        "                                                                                          random_state=42)"
      ],
      "metadata": {
        "id": "_magfhOCv2Ep"
      },
      "id": "_magfhOCv2Ep",
      "execution_count": 32,
      "outputs": []
    },
    {
      "cell_type": "code",
      "source": [
        "train_clean, val_clean, target_train_clean, target_val_clean = train_test_split(train_val_clean,\n",
        "                                                                                target_train_val_clean,\n",
        "                                                                                test_size=0.2,\n",
        "                                                                                stratify=target_train_val_clean,\n",
        "                                                                                random_state=42)"
      ],
      "metadata": {
        "id": "SmulkxLvv2II"
      },
      "id": "SmulkxLvv2II",
      "execution_count": 33,
      "outputs": []
    },
    {
      "cell_type": "code",
      "source": [
        "print(f'train: {train.shape}')\n",
        "print(f'val: {val.shape}')\n",
        "print(f'test: {test.shape}')"
      ],
      "metadata": {
        "colab": {
          "base_uri": "https://localhost:8080/"
        },
        "id": "fvDyBchltlcL",
        "outputId": "b1764c17-8f08-4064-e60b-2010e34799b7"
      },
      "id": "fvDyBchltlcL",
      "execution_count": 34,
      "outputs": [
        {
          "output_type": "stream",
          "name": "stdout",
          "text": [
            "train: (547,)\n",
            "val: (137,)\n",
            "test: (121,)\n"
          ]
        }
      ]
    },
    {
      "cell_type": "code",
      "execution_count": 35,
      "metadata": {
        "colab": {
          "base_uri": "https://localhost:8080/",
          "height": 1000
        },
        "id": "72575488",
        "outputId": "7bcb7f2b-b1ec-4bbe-9c5f-c96e1839de3e"
      },
      "outputs": [
        {
          "output_type": "display_data",
          "data": {
            "text/plain": [
              "<Figure size 640x480 with 1 Axes>"
            ],
            "image/png": "[encoded data removed]"
          },
          "metadata": {}
        },
        {
          "output_type": "display_data",
          "data": {
            "text/plain": [
              "<Figure size 640x480 with 1 Axes>"
            ],
            "image/png": "[encoded data removed]"
          },
          "metadata": {}
        },
        {
          "output_type": "display_data",
          "data": {
            "text/plain": [
              "<Figure size 640x480 with 1 Axes>"
            ],
            "image/png": "[encoded data removed]"
          },
          "metadata": {}
        }
      ],
      "source": [
        "plt.hist(target_train, bins=12)\n",
        "plt.show()\n",
        "plt.hist(target_val, bins=12)\n",
        "plt.show()\n",
        "plt.hist(target_test, bins=12)\n",
        "plt.show()"
      ],
      "id": "72575488"
    },
    {
      "cell_type": "markdown",
      "metadata": {
        "id": "df6082d5"
      },
      "source": [
        "данные разделены пропорционально по каждому классу, распределение классов не изменилось."
      ],
      "id": "df6082d5"
    },
    {
      "cell_type": "markdown",
      "source": [
        "### Выбор модели"
      ],
      "metadata": {
        "id": "D9VM1qX8FB3y"
      },
      "id": "D9VM1qX8FB3y"
    },
    {
      "cell_type": "markdown",
      "source": [
        "При дальнейшем выборе моделей будем следовать такому плану.\n",
        "Извлечем признаки из текста двумя способами.  \n",
        "1. Применим TFIDF\n",
        "2. Применим предобученный BERT и возьмем эмебединг предложения на последнем слое\n",
        "3. Сожмем в PCA\n",
        "4. Передадим в LogReg или Catboost\n",
        "\n",
        "Оцениваем качество моделей будем оценивать используя f1-macro.  \n",
        "Эта метрика равноценно учитывает классы, поэтому ошибки в минорных классах будут \"стоить дорого\"."
      ],
      "metadata": {
        "id": "Oi9j87KuFKCa"
      },
      "id": "Oi9j87KuFKCa"
    },
    {
      "cell_type": "code",
      "execution_count": 36,
      "metadata": {
        "id": "6hT4ec2oIgjh"
      },
      "outputs": [],
      "source": [
        "if torch.cuda.is_available() == True:\n",
        "    device = torch.device('cuda')\n",
        "else:\n",
        "    device = torch.device('cpu')"
      ],
      "id": "6hT4ec2oIgjh"
    },
    {
      "cell_type": "markdown",
      "source": [
        "В качестве модели для токенизации возьмем ProsusAI/finbert, обученную на определение тональности экономических новостей.  \n",
        "https://huggingface.co/ProsusAI/finbert  \n",
        "\n",
        "Идея в том, что TFIDF должен дать нам понимание о составе текста, а BERT добавит информацию о тональности."
      ],
      "metadata": {
        "id": "JA1_u7CSM19r"
      },
      "id": "JA1_u7CSM19r"
    },
    {
      "cell_type": "code",
      "source": [
        "HF = 'ProsusAI/finbert'\n",
        "\n",
        "tokenizer = AutoTokenizer.from_pretrained(HF, do_lower_case=True)\n",
        "\n",
        "model = AutoModel.from_pretrained(HF)\n",
        "model.to(device)\n",
        "\n",
        "pca_model = PCA(random_state=42)\n",
        "\n",
        "vectorizer = TfidfVectorizer(stop_words='english', lowercase=True, max_features=38000, ngram_range=(1, 4))\n",
        "\n",
        "scores = []\n",
        "\n",
        "cv_stratified = StratifiedKFold(n_splits=7, shuffle=True, random_state=42)\n",
        "\n",
        "logit = LogisticRegression(class_weight='balanced',\n",
        "                           max_iter=150,\n",
        "                           C=1,\n",
        "                           solver='lbfgs',\n",
        "                           multi_class='multinomial',\n",
        "                           random_state=42,\n",
        "                           n_jobs=4)"
      ],
      "metadata": {
        "id": "C9kh8eq9zQwt"
      },
      "id": "C9kh8eq9zQwt",
      "execution_count": 37,
      "outputs": []
    },
    {
      "cell_type": "markdown",
      "source": [
        "Т.к. данные имеют сильный дисбаланс и при этом выборка небольшая, то возьмем 7 сплитов данных, чтобы лучше оценить качество."
      ],
      "metadata": {
        "id": "Mwvt0VnmNyBQ"
      },
      "id": "Mwvt0VnmNyBQ"
    },
    {
      "cell_type": "markdown",
      "source": [
        "### На исходных (неочищенных) данных"
      ],
      "metadata": {
        "id": "n8CF6eRnx0oD"
      },
      "id": "n8CF6eRnx0oD"
    },
    {
      "cell_type": "markdown",
      "source": [
        "Оценим качество модели логистической регрессии на **кросс-валидации** обучающей+валидационной выборке **с TF-IDF** и **без BERT**."
      ],
      "metadata": {
        "id": "eW7BPWVgONIX"
      },
      "id": "eW7BPWVgONIX"
    },
    {
      "cell_type": "code",
      "source": [
        "def train_model(logit, pca, tfidf, tokenizer_bert, model_bert, cv_stratified, device):\n",
        "  model_out = []\n",
        "  scores = []\n",
        "  pca_out = []\n",
        "  tfidf_out = []\n",
        "\n",
        "  for index_train, index_val in cv_stratified.split(train_val, target_train_val):\n",
        "\n",
        "      X_train, X_val, y_train, y_val, pca, tfidf = dataset_pipeline(train_val.values,\n",
        "                                                                    target_train_val,\n",
        "                                                                    tokenizer_bert=tokenizer,\n",
        "                                                                    model_bert=model,\n",
        "                                                                    pca=pca_model,\n",
        "                                                                    tfidf=vectorizer,\n",
        "                                                                    index_train=index_train,\n",
        "                                                                    index_val=index_val,\n",
        "                                                                    device=device)\n",
        "\n",
        "\n",
        "      logit.fit(X_train, y_train)\n",
        "      y_pred = logit.predict(X_val)\n",
        "      score = f1_score(y_val, y_pred, average='macro')\n",
        "\n",
        "\n",
        "      scores_wo_bert.append(score)\n",
        "      model_out = logit\n",
        "      pca_out = pca\n",
        "      tfidf_out = tfidf\n",
        "\n",
        "  print(f'mean_score: {np.mean(scores_wo_bert)}')\n",
        "  print(f'mean_score: {np.std(scores_wo_bert)}')\n",
        "\n",
        "  return model_out, pca_out, tfidf_out, scores_wo_bert"
      ],
      "metadata": {
        "id": "QFDwyydMr0CP"
      },
      "id": "QFDwyydMr0CP",
      "execution_count": null,
      "outputs": []
    },
    {
      "cell_type": "code",
      "source": [
        "model_wo_bert, pca_wo_bert, tfidf_wo_bert, scores_wo_bert = train_model(logit = LogisticRegression(class_weight='balanced',\n",
        "                                                                              max_iter=150,\n",
        "                                                                              C=1,\n",
        "                                                                              solver='lbfgs',\n",
        "                                                                              multi_class='multinomial',\n",
        "                                                                              random_state=42,\n",
        "                                                                              n_jobs=4),\n",
        "                                                                        pca = PCA(random_state=42),\n",
        "                                                                        tfidf = TfidfVectorizer(stop_words='english', lowercase=True, max_features=38000, ngram_range=(1, 4)),\n",
        "                                                                        tokenizer_bert = AutoTokenizer.from_pretrained(HF, do_lower_case=True),\n",
        "                                                                        model_bert = AutoModel.from_pretrained(HF).to(device),\n",
        "                                                                        cv_stratified = StratifiedKFold(n_splits=7, shuffle=True, random_state=42),\n",
        "                                                                        device=device)"
      ],
      "metadata": {
        "id": "HZCMdKSfs5RP"
      },
      "id": "HZCMdKSfs5RP",
      "execution_count": null,
      "outputs": []
    },
    {
      "cell_type": "code",
      "source": [
        "model_wo_bert = []\n",
        "scores_wo_bert = []\n",
        "pca_wo_bert = []\n",
        "tfidf_wo_bert = []\n",
        "\n",
        "for index_train, index_val in cv_stratified.split(train_val, target_train_val):\n",
        "    X_train, X_val, y_train, y_val, pca, tfidf = dataset_pipeline(train_val.values,\n",
        "                                                                  target_train_val,\n",
        "                                                                  tokenizer_bert=tokenizer,\n",
        "                                                                  model_bert=model,\n",
        "                                                                  pca=pca_model,\n",
        "                                                                  tfidf=vectorizer,\n",
        "                                                                  index_train=index_train,\n",
        "                                                                  index_val=index_val,\n",
        "                                                                  device=device)\n",
        "\n",
        "\n",
        "    logit.fit(X_train, y_train)\n",
        "    y_pred = logit.predict(X_val)\n",
        "    score = f1_score(y_val, y_pred, average='macro')\n",
        "\n",
        "    model_wo_bert.append(logit)\n",
        "    scores_wo_bert.append(score)\n",
        "    pca_wo_bert.append(pca)\n",
        "    tfidf_wo_bert.append(tfidf)\n",
        "\n",
        "print(f'mean_score: {np.mean(scores_wo_bert)}')\n",
        "print(f'mean_score: {np.std(scores_wo_bert)}')\n"
      ],
      "metadata": {
        "id": "DZzWa8fRJciw",
        "colab": {
          "base_uri": "https://localhost:8080/"
        },
        "outputId": "649c0bd0-aa42-407f-cb4e-0018daabae0d"
      },
      "id": "DZzWa8fRJciw",
      "execution_count": 38,
      "outputs": [
        {
          "output_type": "stream",
          "name": "stdout",
          "text": [
            "mean_score: 0.5401048260937618\n",
            "mean_score: 0.08221644758170096\n"
          ]
        }
      ]
    },
    {
      "cell_type": "markdown",
      "source": [
        "Оценим качество модели логистической регрессии на **кросс-валидации** обучающей+валидационной выборке **с TF-IDF** и **с BERT**."
      ],
      "metadata": {
        "id": "vMwYyuetOpHK"
      },
      "id": "vMwYyuetOpHK"
    },
    {
      "cell_type": "code",
      "source": [
        "model_w_bert = []\n",
        "scores_w_bert = []\n",
        "pca_w_bert = []\n",
        "tfidf_w_bert = []\n",
        "\n",
        "for index_train, index_val in cv_stratified.split(train_val, target_train_val):\n",
        "    X_train, X_val, y_train, y_val, pca, tfidf = dataset_pipeline(train_val.values,\n",
        "                                                                  target_train_val,\n",
        "                                                                  tokenizer_bert=tokenizer,\n",
        "                                                                  model_bert=model,\n",
        "                                                                  pca=pca_model,\n",
        "                                                                  tfidf=vectorizer,\n",
        "                                                                  index_train=index_train,\n",
        "                                                                  index_val=index_val,\n",
        "                                                                  bert=True,\n",
        "                                                                  device=device)\n",
        "\n",
        "    logit.fit(X_train, y_train)\n",
        "    y_pred = logit.predict(X_val)\n",
        "    score = f1_score(y_val, y_pred, average='macro')\n",
        "\n",
        "    model_w_bert.append(logit)\n",
        "    scores_w_bert.append(score)\n",
        "    pca_w_bert.append(pca)\n",
        "    tfidf_w_bert.append(tfidf)\n",
        "\n",
        "print(f'mean_score: {np.mean(scores_w_bert)}')\n",
        "print(f'std_score: {np.std(scores_w_bert)}')\n",
        "\n"
      ],
      "metadata": {
        "id": "idezcq9y4zxV",
        "colab": {
          "base_uri": "https://localhost:8080/"
        },
        "outputId": "1b86ac0e-f924-46c0-aea9-9acc0a656485"
      },
      "id": "idezcq9y4zxV",
      "execution_count": 39,
      "outputs": [
        {
          "output_type": "stream",
          "name": "stdout",
          "text": [
            "mean_score: 0.47072828036799735\n",
            "std_score: 0.08781478791291004\n"
          ]
        }
      ]
    },
    {
      "cell_type": "markdown",
      "source": [
        "### На очищенных данных"
      ],
      "metadata": {
        "id": "U78cW-yyxnSg"
      },
      "id": "U78cW-yyxnSg"
    },
    {
      "cell_type": "markdown",
      "source": [
        "Оценим качество модели логистической регрессии на **кросс-валидации** обучающей+валидационной выборке **с TF-IDF** и без **BERT**."
      ],
      "metadata": {
        "id": "v9IFKmOZyoV9"
      },
      "id": "v9IFKmOZyoV9"
    },
    {
      "cell_type": "code",
      "source": [
        "model_wo_bert_clean = []\n",
        "scores_wo_bert_clean = []\n",
        "pca_wo_bert_clean = []\n",
        "tfidf_wo_bert_clean = []\n",
        "\n",
        "for index_train, index_val in cv_stratified.split(train_val_clean, target_train_val_clean):\n",
        "    X_train, X_val, y_train, y_val, pca, tfidf = dataset_pipeline(train_val_clean.values,\n",
        "                                                                  target_train_val_clean,\n",
        "                                                                  tokenizer_bert=tokenizer,\n",
        "                                                                  model_bert=model,\n",
        "                                                                  pca=pca_model,\n",
        "                                                                  tfidf=vectorizer,\n",
        "                                                                  index_train=index_train,\n",
        "                                                                  index_val=index_val,\n",
        "                                                                  device=device)\n",
        "\n",
        "\n",
        "    logit.fit(X_train, y_train)\n",
        "    y_pred = logit.predict(X_val)\n",
        "    score = f1_score(y_val, y_pred, average='macro')\n",
        "\n",
        "    model_wo_bert_clean.append(logit)\n",
        "    scores_wo_bert_clean.append(score)\n",
        "    pca_wo_bert_clean.append(pca)\n",
        "    tfidf_wo_bert_clean.append(tfidf)\n",
        "\n",
        "print(f'mean_score: {np.mean(scores_wo_bert_clean)}')\n",
        "print(f'mean_score: {np.std(scores_wo_bert_clean)}')\n"
      ],
      "metadata": {
        "id": "HIwrnuCexsAM",
        "colab": {
          "base_uri": "https://localhost:8080/"
        },
        "outputId": "95b00cd0-0d5c-4a7b-b4ff-b0b08199d97e"
      },
      "id": "HIwrnuCexsAM",
      "execution_count": 40,
      "outputs": [
        {
          "output_type": "stream",
          "name": "stdout",
          "text": [
            "mean_score: 0.4579885729291037\n",
            "mean_score: 0.08862538109978872\n"
          ]
        }
      ]
    },
    {
      "cell_type": "markdown",
      "source": [
        "Оценим качество модели логистической регрессии на **кросс-валидации** обучающей+валидационной выборке **с TF-IDF** и **с BERT**."
      ],
      "metadata": {
        "id": "f4yCWO6fyprM"
      },
      "id": "f4yCWO6fyprM"
    },
    {
      "cell_type": "code",
      "source": [
        "model_w_bert_clean = []\n",
        "scores_w_bert_clean = []\n",
        "pca_w_bert_clean = []\n",
        "tfidf_w_bert_clean = []\n",
        "\n",
        "for index_train, index_val in cv_stratified.split(train_val_clean, target_train_val_clean):\n",
        "\n",
        "    X_train, X_val, y_train, y_val, pca, tfidf = dataset_pipeline(train_val_clean.values,\n",
        "                                                                  target_train_val_clean,\n",
        "                                                                  tokenizer_bert=tokenizer,\n",
        "                                                                  model_bert=model,\n",
        "                                                                  pca=pca_model,\n",
        "                                                                  tfidf=vectorizer,\n",
        "                                                                  index_train=index_train,\n",
        "                                                                  index_val=index_val,\n",
        "                                                                  bert=True,\n",
        "                                                                  device=device)\n",
        "\n",
        "\n",
        "    logit.fit(X_train, y_train)\n",
        "    y_pred = logit.predict(X_val)\n",
        "    score = f1_score(y_val, y_pred, average='macro')\n",
        "\n",
        "    model_w_bert_clean.append(logit)\n",
        "    scores_w_bert_clean.append(score)\n",
        "    pca_w_bert_clean.append(pca)\n",
        "    tfidf_w_bert_clean.append(tfidf)\n",
        "\n",
        "print(f'mean_score: {np.mean(scores_w_bert_clean)}')\n",
        "print(f'mean_score: {np.std(scores_w_bert_clean)}')"
      ],
      "metadata": {
        "id": "4WOHQStux86o",
        "colab": {
          "base_uri": "https://localhost:8080/"
        },
        "outputId": "ed300f7e-2123-47aa-8ab0-26315b94e386"
      },
      "id": "4WOHQStux86o",
      "execution_count": 41,
      "outputs": [
        {
          "output_type": "stream",
          "name": "stdout",
          "text": [
            "mean_score: 0.424441661060646\n",
            "mean_score: 0.08449825488305704\n"
          ]
        }
      ]
    },
    {
      "cell_type": "markdown",
      "source": [
        "Как видим, модели обученные на очищенных данных показывают хуже результаты, чем \"сырые\".\n",
        "\n",
        "В дальнейшем будем использовать модели обученные на сырых данных.\n",
        "\n"
      ],
      "metadata": {
        "id": "Ssz3yeVa9DDY"
      },
      "id": "Ssz3yeVa9DDY"
    },
    {
      "cell_type": "markdown",
      "source": [
        "Оценим качество модели логистической регрессии на **обучающей и валидационной** выборке **с TF-IDF** и **без BERT**."
      ],
      "metadata": {
        "id": "ZFk1fRF7PFjx"
      },
      "id": "ZFk1fRF7PFjx"
    },
    {
      "cell_type": "code",
      "source": [
        "scores_full = []\n",
        "pred_prob_full = []\n",
        "\n",
        "X_train, X_val, y_train, y_val, pca, tfidf = dataset_pipeline((train, val),\n",
        "                                                              (target_train, target_val),\n",
        "                                                              tokenizer_bert=tokenizer,\n",
        "                                                              model_bert=model,\n",
        "                                                              pca=pca_model,\n",
        "                                                              tfidf=vectorizer,\n",
        "                                                              index_train=None,\n",
        "                                                              index_val=None,\n",
        "                                                              bert=False,\n",
        "                                                              cv=False)\n",
        "\n",
        "logit.fit(X_train, y_train)\n",
        "y_pred = logit.predict(X_val)\n",
        "y_pred_prob = logit.predict_proba(X_val)\n",
        "score = f1_score(y_val, y_pred, average='macro')\n",
        "\n",
        "scores_full.append(score)\n",
        "pred_prob_full.append(y_pred_prob)\n",
        "model_full = deepcopy(logit)\n",
        "pca_full = deepcopy(pca)\n",
        "tfidf_full = deepcopy(tfidf)\n",
        "\n",
        "print(f'mean_score: {np.mean(scores_full)}')\n",
        "print(classification_report(y_val, y_pred, zero_division=0))\n",
        "sns.heatmap(confusion_matrix(y_val, y_pred), annot=True)\n"
      ],
      "metadata": {
        "id": "RUlIDNNXEOYI",
        "colab": {
          "base_uri": "https://localhost:8080/",
          "height": 795
        },
        "outputId": "622b7100-bc74-43b1-b5eb-991db8054908"
      },
      "id": "RUlIDNNXEOYI",
      "execution_count": 42,
      "outputs": [
        {
          "output_type": "stream",
          "name": "stdout",
          "text": [
            "mean_score: 0.43966262747863877\n",
            "              precision    recall  f1-score   support\n",
            "\n",
            "           0       0.64      0.57      0.61        47\n",
            "           1       0.75      0.89      0.81        44\n",
            "           2       0.36      0.40      0.38        10\n",
            "           3       0.29      0.40      0.33        10\n",
            "           4       0.83      1.00      0.91         5\n",
            "           5       0.71      1.00      0.83         5\n",
            "           6       0.00      0.00      0.00         4\n",
            "           7       0.00      0.00      0.00         3\n",
            "           8       0.50      0.33      0.40         3\n",
            "           9       1.00      1.00      1.00         2\n",
            "          10       0.00      0.00      0.00         2\n",
            "          11       0.00      0.00      0.00         2\n",
            "\n",
            "    accuracy                           0.64       137\n",
            "   macro avg       0.42      0.47      0.44       137\n",
            "weighted avg       0.59      0.64      0.61       137\n",
            "\n"
          ]
        },
        {
          "output_type": "execute_result",
          "data": {
            "text/plain": [
              "<Axes: >"
            ]
          },
          "metadata": {},
          "execution_count": 42
        },
        {
          "output_type": "display_data",
          "data": {
            "text/plain": [
              "<Figure size 640x480 with 2 Axes>"
            ],
            "image/png": "[encoded data removed]"
          },
          "metadata": {}
        }
      ]
    },
    {
      "cell_type": "markdown",
      "source": [
        "Оценим качество модели логистической регрессии на **обучающей и валидационной** выборки **с TF-IDF** и **с BERT**."
      ],
      "metadata": {
        "id": "jfzGJaRoP6jv"
      },
      "id": "jfzGJaRoP6jv"
    },
    {
      "cell_type": "code",
      "source": [
        "scores_full_w_bert = []\n",
        "pred_prob_full_w_bert = []\n",
        "\n",
        "X_train, X_val, y_train, y_val, pca, tfidf = dataset_pipeline((train, val),\n",
        "                                                              (target_train, target_val),\n",
        "                                                              tokenizer_bert = tokenizer,\n",
        "                                                              model_bert = model,\n",
        "                                                              pca = pca_model,\n",
        "                                                              tfidf = vectorizer,\n",
        "                                                              index_train = index_train,\n",
        "                                                              index_val = index_val,\n",
        "                                                              bert=True,\n",
        "                                                              cv=False,\n",
        "                                                              device=device)\n",
        "\n",
        "logit.fit(X_train, y_train)\n",
        "y_pred = logit.predict(X_val)\n",
        "y_pred_prob = logit.predict_proba(X_val)\n",
        "score = f1_score(y_val, y_pred, average='macro')\n",
        "\n",
        "scores_full_w_bert.append(score)\n",
        "pred_prob_full_w_bert.append(y_pred_prob)\n",
        "model_full_w_bert = deepcopy(logit)\n",
        "pca_full_w_bert = deepcopy(pca)\n",
        "tfidf_full_w_bert = deepcopy(tfidf)\n",
        "\n",
        "print(f'mean_score: {np.mean(scores_full_w_bert)}')\n",
        "print(classification_report(y_val, y_pred, zero_division=0))\n",
        "sns.heatmap(confusion_matrix(y_val, y_pred), annot=True)\n"
      ],
      "metadata": {
        "id": "oaASjk8uHyyn",
        "colab": {
          "base_uri": "https://localhost:8080/",
          "height": 795
        },
        "outputId": "13688066-c102-4259-8404-2427f86f9125"
      },
      "id": "oaASjk8uHyyn",
      "execution_count": 43,
      "outputs": [
        {
          "output_type": "stream",
          "name": "stdout",
          "text": [
            "mean_score: 0.36139699367253547\n",
            "              precision    recall  f1-score   support\n",
            "\n",
            "           0       0.48      0.26      0.33        47\n",
            "           1       0.59      0.59      0.59        44\n",
            "           2       0.33      0.30      0.32        10\n",
            "           3       0.17      0.70      0.27        10\n",
            "           4       1.00      0.80      0.89         5\n",
            "           5       0.40      0.80      0.53         5\n",
            "           6       1.00      0.25      0.40         4\n",
            "           7       0.00      0.00      0.00         3\n",
            "           8       0.00      0.00      0.00         3\n",
            "           9       1.00      1.00      1.00         2\n",
            "          10       0.00      0.00      0.00         2\n",
            "          11       0.00      0.00      0.00         2\n",
            "\n",
            "    accuracy                           0.43       137\n",
            "   macro avg       0.41      0.39      0.36       137\n",
            "weighted avg       0.49      0.43      0.43       137\n",
            "\n"
          ]
        },
        {
          "output_type": "execute_result",
          "data": {
            "text/plain": [
              "<Axes: >"
            ]
          },
          "metadata": {},
          "execution_count": 43
        },
        {
          "output_type": "display_data",
          "data": {
            "text/plain": [
              "<Figure size 640x480 with 2 Axes>"
            ],
            "image/png": "[encoded data removed]"
          },
          "metadata": {}
        }
      ]
    },
    {
      "cell_type": "markdown",
      "source": [
        "### Выводы"
      ],
      "metadata": {
        "id": "9qpFtLKaVAOo"
      },
      "id": "9qpFtLKaVAOo"
    },
    {
      "cell_type": "markdown",
      "source": [
        "На сырых данных модель показала лучше результат, чем на обработанных.   \n"
      ],
      "metadata": {
        "id": "pdK6WXZM9cmZ"
      },
      "id": "pdK6WXZM9cmZ"
    },
    {
      "cell_type": "markdown",
      "source": [
        "Судя по матрице ошибок, линейная модель хорошо определяет классы с большими числом объектов, хуже классы с маленьким числом объектов.\n",
        "\n",
        "При этом из-за использования **f1-macro** в качестве целевой метрики получаем сильный штраф за ошибки в минорных классах, в то время как ошибки в мажорных классах менее критичны.\n"
      ],
      "metadata": {
        "id": "DdfnFednThE0"
      },
      "id": "DdfnFednThE0"
    },
    {
      "cell_type": "markdown",
      "source": [
        "Кросс-валидация показывает, что модель у которой датасет включается в себя TF-IDF имет средний скор выше модели обученой на TFIDF и BERT.\n"
      ],
      "metadata": {
        "id": "r1865dtbBmd9"
      },
      "id": "r1865dtbBmd9"
    },
    {
      "cell_type": "markdown",
      "source": [
        "### CatBoost"
      ],
      "metadata": {
        "id": "sUT7k-xjMDPT"
      },
      "id": "sUT7k-xjMDPT"
    },
    {
      "cell_type": "markdown",
      "source": [
        "LogReg показала хороший результат на TF-IDF + EMB.  \n",
        "\n",
        "Гипотеза:\n",
        "- Бустингом можно выжать больше пользы из данных, найти новые зависимости.  \n",
        "\n",
        "Проблемы:\n",
        "- Бустинги не всегда хорошо работают, если есть сильная линейная связь\n",
        "- В бустинги надо аккуратно настраивать гиперпараметры\n",
        "\n",
        "Решение:\n",
        "- Возьмем CatBoost, он \"из коробки\" показывает хорошие результаты, если будет похоже на лучший результат, чем LogReg, то можно подобрать гиперпараметры, если нет, то нет."
      ],
      "metadata": {
        "id": "uEO_Z_fq1zBG"
      },
      "id": "uEO_Z_fq1zBG"
    },
    {
      "cell_type": "code",
      "source": [
        "cb = CatBoostClassifier(task_type=\"GPU\",\n",
        "                        auto_class_weights='Balanced',\n",
        "                        loss_function='MultiClass',\n",
        "                        verbose=True)"
      ],
      "metadata": {
        "id": "EbpkSq7nRehQ"
      },
      "id": "EbpkSq7nRehQ",
      "execution_count": 44,
      "outputs": []
    },
    {
      "cell_type": "markdown",
      "source": [
        "Оценим качество модели Catboost на **кросс-валидации** обучающей+валидационной выборке **с TF-IDF** и **с BERT**."
      ],
      "metadata": {
        "id": "bwXyXb1lRPFq"
      },
      "id": "bwXyXb1lRPFq"
    },
    {
      "cell_type": "code",
      "source": [
        "cb_model_w_bert = []\n",
        "cb_scores_w_bert = []\n",
        "for index_train, index_val in cv_stratified.split(train_val, target_train_val):\n",
        "    X_train, X_val, y_train, y_val, _, _ = dataset_pipeline(train_val.values,\n",
        "                                                      target_train_val,\n",
        "                                                      tokenizer_bert=tokenizer,\n",
        "                                                      model_bert=model,\n",
        "                                                      pca=pca_model,\n",
        "                                                      tfidf=vectorizer,\n",
        "                                                      index_train=index_train,\n",
        "                                                      index_val=index_val,\n",
        "                                                      bert=True,\n",
        "                                                      cv=True,\n",
        "                                                      device=device)\n",
        "\n",
        "    text_pool = Pool(data=X_train, label=y_train)\n",
        "    eval_pool = Pool(data=X_val, label=y_val)\n",
        "\n",
        "    cb.fit(text_pool, eval_set=eval_pool, verbose=False)\n",
        "    y_pred = cb.predict(eval_pool)\n",
        "    score = f1_score(y_val, y_pred, average='macro')\n",
        "\n",
        "    cb_scores_w_bert.append(score)\n",
        "    cb_model_w_bert.append(cb)\n",
        "\n",
        "print(np.mean(cb_scores_w_bert))\n",
        "print(np.std(cb_scores_w_bert))\n"
      ],
      "metadata": {
        "id": "xRlZdg-DMINE",
        "colab": {
          "base_uri": "https://localhost:8080/"
        },
        "outputId": "de2e76c1-ac73-4590-ee49-cdcd27911cfc"
      },
      "id": "xRlZdg-DMINE",
      "execution_count": 48,
      "outputs": [
        {
          "output_type": "stream",
          "name": "stdout",
          "text": [
            "0.40763424436528484\n",
            "0.08224868928364143\n"
          ]
        }
      ]
    },
    {
      "cell_type": "code",
      "source": [
        "cb_scores_w_bert"
      ],
      "metadata": {
        "id": "Q7a5O5c2N7nI",
        "colab": {
          "base_uri": "https://localhost:8080/"
        },
        "outputId": "b963c51b-9203-4355-9915-419c8ca03af7"
      },
      "id": "Q7a5O5c2N7nI",
      "execution_count": 49,
      "outputs": [
        {
          "output_type": "execute_result",
          "data": {
            "text/plain": [
              "[0.4297771672771673,\n",
              " 0.2708763918929744,\n",
              " 0.40074131658638706,\n",
              " 0.5050856550856552,\n",
              " 0.38475724991854027,\n",
              " 0.5232744107744108,\n",
              " 0.33892751902185864]"
            ]
          },
          "metadata": {},
          "execution_count": 49
        }
      ]
    },
    {
      "cell_type": "markdown",
      "source": [
        "Оценим качество модели Catboost на **обучающей и валидационной** выборки **с TF-IDF** и **с BERT**."
      ],
      "metadata": {
        "id": "PPaWKoWSRoTE"
      },
      "id": "PPaWKoWSRoTE"
    },
    {
      "cell_type": "code",
      "source": [
        "cb_scores_full = []\n",
        "cb_model_full = []\n",
        "\n",
        "X_train, X_val, y_train, y_val, _, _ = dataset_pipeline((train, val),\n",
        "                                                        (target_train, target_val),\n",
        "                                                        tokenizer_bert=tokenizer,\n",
        "                                                        model_bert=model,\n",
        "                                                        pca=pca_model,\n",
        "                                                        tfidf=vectorizer,\n",
        "                                                        index_train=index_train,\n",
        "                                                        index_val=index_val,\n",
        "                                                        bert=True,\n",
        "                                                        cv=False,\n",
        "                                                        device=device)\n",
        "\n",
        "text_pool = Pool(data=X_train, label=y_train)\n",
        "eval_pool = Pool(data=X_val, label=y_val)\n",
        "\n",
        "cb.fit(text_pool, eval_set=eval_pool, verbose=False)\n",
        "y_pred = cb.predict(eval_pool)\n",
        "score = f1_score(y_val, y_pred, average='macro')\n",
        "\n",
        "cb_scores_full.append(score)\n",
        "cb_model_full.append(cb)\n",
        "\n",
        "print(np.mean(cb_scores_full))\n",
        "print(classification_report(y_val, y_pred, zero_division=0))\n",
        "sns.heatmap(confusion_matrix(y_val, y_pred), annot=True)"
      ],
      "metadata": {
        "id": "a0D2ajw6Nkgi",
        "colab": {
          "base_uri": "https://localhost:8080/",
          "height": 795
        },
        "outputId": "e2e7915d-604e-453a-a309-65b717c2cd64"
      },
      "id": "a0D2ajw6Nkgi",
      "execution_count": 50,
      "outputs": [
        {
          "output_type": "stream",
          "name": "stdout",
          "text": [
            "0.3223864226069727\n",
            "              precision    recall  f1-score   support\n",
            "\n",
            "           0       0.54      0.40      0.46        47\n",
            "           1       0.68      0.77      0.72        44\n",
            "           2       0.14      0.20      0.17        10\n",
            "           3       0.17      0.20      0.18        10\n",
            "           4       0.80      0.80      0.80         5\n",
            "           5       0.40      0.80      0.53         5\n",
            "           6       0.00      0.00      0.00         4\n",
            "           7       0.00      0.00      0.00         3\n",
            "           8       0.00      0.00      0.00         3\n",
            "           9       1.00      1.00      1.00         2\n",
            "          10       0.00      0.00      0.00         2\n",
            "          11       0.00      0.00      0.00         2\n",
            "\n",
            "    accuracy                           0.49       137\n",
            "   macro avg       0.31      0.35      0.32       137\n",
            "weighted avg       0.49      0.49      0.48       137\n",
            "\n"
          ]
        },
        {
          "output_type": "execute_result",
          "data": {
            "text/plain": [
              "<Axes: >"
            ]
          },
          "metadata": {},
          "execution_count": 50
        },
        {
          "output_type": "display_data",
          "data": {
            "text/plain": [
              "<Figure size 640x480 with 2 Axes>"
            ],
            "image/png": "[encoded data removed]"
          },
          "metadata": {}
        }
      ]
    },
    {
      "cell_type": "code",
      "source": [
        "cb_scores_full"
      ],
      "metadata": {
        "id": "HpLu_clbOaLy",
        "colab": {
          "base_uri": "https://localhost:8080/"
        },
        "outputId": "a6333fb2-c719-4773-d044-994658344601"
      },
      "id": "HpLu_clbOaLy",
      "execution_count": 57,
      "outputs": [
        {
          "output_type": "execute_result",
          "data": {
            "text/plain": [
              "[0.3223864226069727]"
            ]
          },
          "metadata": {},
          "execution_count": 57
        }
      ]
    },
    {
      "cell_type": "markdown",
      "source": [
        "Catboost с использованием TFIDF и CV показал лучше результат, чем c TFIDF и BERT.  \n",
        "Но лучшая метрика CatBoost хуже LogReg  "
      ],
      "metadata": {
        "id": "yws_OMGM3O8J"
      },
      "id": "yws_OMGM3O8J"
    },
    {
      "cell_type": "markdown",
      "source": [
        "Остановим свой выбора на LogReg на сырых данных"
      ],
      "metadata": {
        "id": "Wby3WYkwJUx8"
      },
      "id": "Wby3WYkwJUx8"
    },
    {
      "cell_type": "markdown",
      "source": [
        "### BERT"
      ],
      "metadata": {
        "id": "v4KTWQgfYDot"
      },
      "id": "v4KTWQgfYDot"
    },
    {
      "cell_type": "markdown",
      "source": [
        "Т.к. датасет маленький, классов много, дисбаланс большой, то можно предположить следующие гипотезы, в которых BERT может быть полезен:  \n",
        "1. В качестве признаков для модели (реализовано ранее с линейной регрессией, показало эффективность)\n",
        "2. Самостоятельная модель, которую можно дообучить на данных и получить одну модель способную эффективно определять классы.  \n",
        "Тут проблем несколько:\n",
        "- Модель требует все-таки большую выборку для дообучения, чтобы показать значитенльный результат. На мальенком кол-ве данных сложные зависимости она просто не сможет достать.\n",
        "- Модель скорее настроена на определения \"смысла\" текста, нежели на схожесть по словам. А судя по датасету и результатам TF-IDF, да и в целом задачи классификации текстов, частотность слов является хорошим предиктором для большинства задачи.  \n",
        "3. Что успел попробовать?  \n",
        "- Попытки обучить самостоятельную модель не показали результатов превышающих LogReg.  Пробовал разные предобученные модели, надстраивал \"головы\", дообучал блоки внимания, потратил много часов GPU в Colab, но лучше LogReg не получилось сделать.  \n",
        "\n",
        "**Решение**  \n",
        "Попробовать объединить результаты LogReg обученной на TFIDF и BERT, используя взвешенную сумму уверенносте (вероятностей) моделей.  \n",
        "Смысл в том, что TF-IDF ориентируется на конструкцию текста, а BERT на \"смысла\" текста. (очень упрощённо)"
      ],
      "metadata": {
        "id": "79X3TZrJwp_A"
      },
      "id": "79X3TZrJwp_A"
    },
    {
      "cell_type": "markdown",
      "source": [
        "Предобученная модель BERT"
      ],
      "metadata": {
        "id": "qok2Yg1s1VY6"
      },
      "id": "qok2Yg1s1VY6"
    },
    {
      "cell_type": "code",
      "source": [
        "HF = 'ProsusAI/finbert'"
      ],
      "metadata": {
        "id": "apBgiuL5YdDj"
      },
      "id": "apBgiuL5YdDj",
      "execution_count": 58,
      "outputs": []
    },
    {
      "cell_type": "markdown",
      "source": [
        "Подготовим данные   \n",
        "\n",
        "Т.к. CV на таких моделях проводить слишком трудозатратно и не особо эффективно, то дообучим модель на train и val."
      ],
      "metadata": {
        "id": "VWCYjgm74JWB"
      },
      "id": "VWCYjgm74JWB"
    },
    {
      "cell_type": "code",
      "source": [
        "tokenizer = AutoTokenizer.from_pretrained(HF, do_lower_case=True)\n",
        "train_dataloader, val_dataloader, test_dataloader = dataset(train, val, test, tokenizer, target_train, target_val, target_test, batch_size=50)"
      ],
      "metadata": {
        "id": "Li12M-DTOkLJ"
      },
      "id": "Li12M-DTOkLJ",
      "execution_count": 59,
      "outputs": []
    },
    {
      "cell_type": "code",
      "source": [
        "# сбор и отчистка мусора перед обучением\n",
        "import gc\n",
        "gc.collect()\n",
        "torch.cuda.empty_cache()"
      ],
      "metadata": {
        "id": "Y3Zw-5SPvHwU"
      },
      "id": "Y3Zw-5SPvHwU",
      "execution_count": 60,
      "outputs": []
    },
    {
      "cell_type": "code",
      "source": [
        "# PATH_MODEL='./data/bert_multiclass1.pt'\n",
        "# epochs = 50\n",
        "\n",
        "# model = AutoModelForSequenceClassification.from_pretrained(HF, num_labels=len(set(target_train_val)), ignore_mismatched_sizes=True)\n",
        "# model.to(device)\n",
        "\n",
        "# optimizer = AdamW(model.parameters(), lr=1e-5)\n",
        "\n",
        "# total_steps = len(train_dataloader) * epochs\n",
        "# scheduler = get_linear_schedule_with_warmup(optimizer,num_warmup_steps=3, num_training_steps=total_steps)\n",
        "\n",
        "# class_weights = compute_class_weight(class_weight='balanced', classes=np.unique(target_train), y=target_train)\n",
        "# class_weights = (class_weights / class_weights.sum())\n",
        "# class_weights = torch.tensor(class_weights).float().to(device)\n",
        "\n",
        "# criterion = nn.CrossEntropyLoss(weight=class_weights)\n",
        "\n",
        "# _, _, _ = trainer_pipeline(epochs=epochs,\n",
        "#                 PATH_MODEL=PATH_MODEL,\n",
        "#                 model = model,\n",
        "#                 HF = HF,\n",
        "#                 optimizer = optimizer,\n",
        "#                 scheduler = scheduler,\n",
        "#                 criterion = criterion,\n",
        "#                 train_dataloader = train_dataloader,\n",
        "#                 val_dataloader = val_dataloader,\n",
        "#                 device=device)"
      ],
      "metadata": {
        "id": "b5GAfYjPm24B"
      },
      "id": "b5GAfYjPm24B",
      "execution_count": 61,
      "outputs": []
    },
    {
      "cell_type": "code",
      "source": [
        "class_weights = compute_class_weight(class_weight='balanced', classes=np.unique(target_train), y=target_train)\n",
        "class_weights = (class_weights / class_weights.sum())\n",
        "class_weights = torch.tensor(class_weights).float().to(device)\n",
        "\n",
        "criterion = nn.CrossEntropyLoss(weight=class_weights)\n",
        "\n",
        "PATH_MODEL='./data/bert_multiclass1.pt'\n",
        "model = AutoModelForSequenceClassification.from_pretrained(HF, num_labels=len(set(target_train)), ignore_mismatched_sizes=True)\n",
        "model.load_state_dict(torch.load(PATH_MODEL, map_location=device))\n",
        "model.to(device)\n",
        "valid_loss, valid_pred, valid_labels = evaluate(model, criterion, val_dataloader, device=device)\n",
        "\n",
        "print(classification_report(valid_labels, np.argmax(valid_pred, axis=1).flatten(), zero_division=0))\n",
        "sns.heatmap(confusion_matrix(valid_labels, np.argmax(valid_pred, axis=1).flatten()), annot=True)"
      ],
      "metadata": {
        "id": "XicGPzq-kbQP",
        "colab": {
          "base_uri": "https://localhost:8080/",
          "height": 899,
          "referenced_widgets": [
            "673ae1714b284e83b7e7c25084ebc561",
            "09803d387f3046ecbeee8a4ab8461cc6",
            "d3e358cd24ad4b48bce69a9067205526",
            "ee891889fe624521b6d86f26eb6d2613",
            "9ff9107ddfeb454daad2d9fea37b9265",
            "eb0aa9b4dc1f4ae185af01cfd138e8b0",
            "93dda4eb885c458592f61e33e22f4a89",
            "79962038b678417f9da9e32d8ac8aab8",
            "f13d1cf59dd74b4199192c5f296a8614",
            "9b1d6b545f1a4216abf7f3b540e3b012",
            "959bd89280a74cf8a9fc64b65d424e85"
          ]
        },
        "outputId": "1091c54f-7e9f-4015-d391-9fc35aa74f79"
      },
      "id": "XicGPzq-kbQP",
      "execution_count": 62,
      "outputs": [
        {
          "output_type": "stream",
          "name": "stderr",
          "text": [
            "Some weights of BertForSequenceClassification were not initialized from the model checkpoint at ProsusAI/finbert and are newly initialized because the shapes did not match:\n",
            "- classifier.weight: found shape torch.Size([3, 768]) in the checkpoint and torch.Size([12, 768]) in the model instantiated\n",
            "- classifier.bias: found shape torch.Size([3]) in the checkpoint and torch.Size([12]) in the model instantiated\n",
            "You should probably TRAIN this model on a down-stream task to be able to use it for predictions and inference.\n"
          ]
        },
        {
          "output_type": "display_data",
          "data": {
            "text/plain": [
              "  0%|          | 0/3 [00:00<?, ?it/s]"
            ],
            "application/vnd.jupyter.widget-view+json": {
              "version_major": 2,
              "version_minor": 0,
              "model_id": "673ae1714b284e83b7e7c25084ebc561"
            }
          },
          "metadata": {}
        },
        {
          "output_type": "stream",
          "name": "stdout",
          "text": [
            "              precision    recall  f1-score   support\n",
            "\n",
            "           0       0.25      0.02      0.04        47\n",
            "           1       0.58      0.75      0.65        44\n",
            "           2       0.30      0.30      0.30        10\n",
            "           3       0.18      0.60      0.28        10\n",
            "           4       0.50      0.80      0.62         5\n",
            "           5       0.17      0.20      0.18         5\n",
            "           6       0.17      0.25      0.20         4\n",
            "           7       0.00      0.00      0.00         3\n",
            "           8       0.33      0.67      0.44         3\n",
            "           9       0.00      0.00      0.00         2\n",
            "          10       0.00      0.00      0.00         2\n",
            "          11       0.00      0.00      0.00         2\n",
            "\n",
            "    accuracy                           0.37       137\n",
            "   macro avg       0.21      0.30      0.23       137\n",
            "weighted avg       0.34      0.37      0.31       137\n",
            "\n"
          ]
        },
        {
          "output_type": "execute_result",
          "data": {
            "text/plain": [
              "<Axes: >"
            ]
          },
          "metadata": {},
          "execution_count": 62
        },
        {
          "output_type": "display_data",
          "data": {
            "text/plain": [
              "<Figure size 640x480 with 2 Axes>"
            ],
            "image/png": "[encoded data removed]"
          },
          "metadata": {}
        }
      ]
    },
    {
      "cell_type": "markdown",
      "source": [
        "Эта модель показывает лучший скор на меньшем размере батча, причем различие значительное.  "
      ],
      "metadata": {
        "id": "vMSzIHaD-qEo"
      },
      "id": "vMSzIHaD-qEo"
    },
    {
      "cell_type": "markdown",
      "source": [
        "### BERT + TEXT GEN"
      ],
      "metadata": {
        "id": "kmRsqkorGRt8"
      },
      "id": "kmRsqkorGRt8"
    },
    {
      "cell_type": "markdown",
      "source": [
        "Посмотрим на результаты модели при сбалансированной выборке при помощи аугументации.   \n",
        "Будет заменять слова на синонимы."
      ],
      "metadata": {
        "id": "k4UdI9u7ugDO"
      },
      "id": "k4UdI9u7ugDO"
    },
    {
      "cell_type": "code",
      "source": [
        "aug = naw.SynonymAug(aug_src='wordnet')\n",
        "unique, counts = np.unique(target_train, return_counts=True)\n",
        "\n",
        "add_train = train.to_list()\n",
        "add_target_train = list(target_train)\n",
        "\n",
        "max_count = max(counts)\n",
        "\n",
        "for idx, n in enumerate(unique):\n",
        "  features_num = max_count - counts[idx]\n",
        "  examples = np.random.choice(np.array(train.to_list())[target_train == n], features_num, replace=True)\n",
        "\n",
        "  for sentance in examples:\n",
        "    add_train.extend(aug.augment(sentance))\n",
        "  add_target_train.extend([n]*features_num)"
      ],
      "metadata": {
        "id": "bVB4WCZLpP-t"
      },
      "id": "bVB4WCZLpP-t",
      "execution_count": 63,
      "outputs": []
    },
    {
      "cell_type": "code",
      "source": [
        "len(add_train)"
      ],
      "metadata": {
        "id": "xv_GBHq21y_j",
        "colab": {
          "base_uri": "https://localhost:8080/"
        },
        "outputId": "476c83ce-2d47-44d8-adac-a19c7f89e5c2"
      },
      "id": "xv_GBHq21y_j",
      "execution_count": 64,
      "outputs": [
        {
          "output_type": "execute_result",
          "data": {
            "text/plain": [
              "2256"
            ]
          },
          "metadata": {},
          "execution_count": 64
        }
      ]
    },
    {
      "cell_type": "code",
      "source": [
        "len(add_target_train)"
      ],
      "metadata": {
        "id": "eoQ_T2sn14FT",
        "colab": {
          "base_uri": "https://localhost:8080/"
        },
        "outputId": "87ff9503-2196-407d-83f2-4512a1f2bf9d"
      },
      "id": "eoQ_T2sn14FT",
      "execution_count": 65,
      "outputs": [
        {
          "output_type": "execute_result",
          "data": {
            "text/plain": [
              "2256"
            ]
          },
          "metadata": {},
          "execution_count": 65
        }
      ]
    },
    {
      "cell_type": "code",
      "source": [
        "train_dataloader, val_dataloader, test_dataloader = dataset(add_train, val, test, tokenizer, add_target_train, target_val, target_test, batch_size=150)"
      ],
      "metadata": {
        "id": "wWNM_iQwnosj"
      },
      "id": "wWNM_iQwnosj",
      "execution_count": 66,
      "outputs": []
    },
    {
      "cell_type": "code",
      "source": [
        "# PATH_MODEL_BALANCED = 'bert_multiclass_balanced11.pt'\n",
        "# epochs = 100\n",
        "\n",
        "# model = AutoModelForSequenceClassification.from_pretrained(HF, num_labels=len(set(target_train_val)), ignore_mismatched_sizes=True)\n",
        "\n",
        "# optimizer = AdamW(model.parameters(), lr=1e-5)\n",
        "\n",
        "# total_steps = len(train_dataloader) * epochs\n",
        "# optimizer = AdamW(model.parameters(), lr=1e-5)\n",
        "\n",
        "# scheduler = get_linear_schedule_with_warmup(optimizer,num_warmup_steps=3, num_training_steps=total_steps)\n",
        "\n",
        "# criterion = nn.CrossEntropyLoss()\n",
        "\n",
        "# _, _, _ = trainer_pipeline(epochs=epochs,\n",
        "#                           PATH_MODEL=PATH_MODEL,\n",
        "#                           model = model,\n",
        "#                           HF = HF,\n",
        "#                           optimizer = optimizer,\n",
        "#                           scheduler = scheduler,\n",
        "#                           criterion = criterion,\n",
        "#                           train_dataloader = train_dataloader,\n",
        "#                           val_dataloader = val_dataloader,\n",
        "#                           device=device)"
      ],
      "metadata": {
        "id": "g2lev1elnoxO"
      },
      "id": "g2lev1elnoxO",
      "execution_count": 67,
      "outputs": []
    },
    {
      "cell_type": "code",
      "source": [
        "criterion = nn.CrossEntropyLoss()\n",
        "PATH_MODEL_BALANCED = './data/bert_multiclass_balanced11.pt'\n",
        "\n",
        "model = AutoModelForSequenceClassification.from_pretrained(HF, num_labels=len(set(target_train)), ignore_mismatched_sizes=True)\n",
        "model.load_state_dict(torch.load(PATH_MODEL_BALANCED, map_location=device))\n",
        "model.to(device)\n",
        "add_valid_loss, add_valid_pred, add_valid_labels = evaluate(model, criterion, val_dataloader, device=device)\n",
        "\n",
        "print(classification_report(add_valid_labels, np.argmax(add_valid_pred, axis=1).flatten(), zero_division=0))\n",
        "sns.heatmap(confusion_matrix(add_valid_labels, np.argmax(add_valid_pred, axis=1).flatten()), annot=True)"
      ],
      "metadata": {
        "id": "HQgrl_hPuWW_",
        "colab": {
          "base_uri": "https://localhost:8080/",
          "height": 899,
          "referenced_widgets": [
            "16bdb107c1be4a3096ebbb35c4050f30",
            "acfc4912dd63410fa56ce17b63778473",
            "a114558215cd4618a51c260725ba54b7",
            "0320abea574e49c7a07952e1613e40f1",
            "e13a88aa86f14b1d80c3678ff886dd42",
            "5603d5fe8d5941c886b92ea8fdc0545b",
            "794b3d9fe4764f6e896cf944285fff1a",
            "ceb773315a6e4d5da513850609626985",
            "8e01ee34853947f0a30061eadc8c22ea",
            "da065bb0add345a7b822ff8169a6af19",
            "4405cb639811425eabf93eea26b2f2ea"
          ]
        },
        "outputId": "a8d0b184-2c51-44f1-80dc-6bf96a3ee289"
      },
      "id": "HQgrl_hPuWW_",
      "execution_count": 68,
      "outputs": [
        {
          "output_type": "stream",
          "name": "stderr",
          "text": [
            "Some weights of BertForSequenceClassification were not initialized from the model checkpoint at ProsusAI/finbert and are newly initialized because the shapes did not match:\n",
            "- classifier.weight: found shape torch.Size([3, 768]) in the checkpoint and torch.Size([12, 768]) in the model instantiated\n",
            "- classifier.bias: found shape torch.Size([3]) in the checkpoint and torch.Size([12]) in the model instantiated\n",
            "You should probably TRAIN this model on a down-stream task to be able to use it for predictions and inference.\n"
          ]
        },
        {
          "output_type": "display_data",
          "data": {
            "text/plain": [
              "  0%|          | 0/1 [00:00<?, ?it/s]"
            ],
            "application/vnd.jupyter.widget-view+json": {
              "version_major": 2,
              "version_minor": 0,
              "model_id": "16bdb107c1be4a3096ebbb35c4050f30"
            }
          },
          "metadata": {}
        },
        {
          "output_type": "stream",
          "name": "stdout",
          "text": [
            "              precision    recall  f1-score   support\n",
            "\n",
            "           0       0.74      0.60      0.66        47\n",
            "           1       0.78      0.82      0.80        44\n",
            "           2       0.56      0.50      0.53        10\n",
            "           3       0.55      0.60      0.57        10\n",
            "           4       0.62      1.00      0.77         5\n",
            "           5       0.36      0.80      0.50         5\n",
            "           6       0.50      0.50      0.50         4\n",
            "           7       0.40      0.67      0.50         3\n",
            "           8       0.50      0.33      0.40         3\n",
            "           9       0.00      0.00      0.00         2\n",
            "          10       0.33      0.50      0.40         2\n",
            "          11       0.00      0.00      0.00         2\n",
            "\n",
            "    accuracy                           0.66       137\n",
            "   macro avg       0.45      0.53      0.47       137\n",
            "weighted avg       0.66      0.66      0.65       137\n",
            "\n"
          ]
        },
        {
          "output_type": "execute_result",
          "data": {
            "text/plain": [
              "<Axes: >"
            ]
          },
          "metadata": {},
          "execution_count": 68
        },
        {
          "output_type": "display_data",
          "data": {
            "text/plain": [
              "<Figure size 640x480 with 2 Axes>"
            ],
            "image/png": "[encoded data removed]"
          },
          "metadata": {}
        }
      ]
    },
    {
      "cell_type": "markdown",
      "source": [
        "Как видим модель BERT обученная на аугументированных данных показывает лучший результат по сравнению с моделью использующей балансировку функции потерь."
      ],
      "metadata": {
        "id": "R4NSju1tQaHk"
      },
      "id": "R4NSju1tQaHk"
    },
    {
      "cell_type": "markdown",
      "source": [
        "### Blending"
      ],
      "metadata": {
        "id": "wF09f8xQ_Nzn"
      },
      "id": "wF09f8xQ_Nzn"
    },
    {
      "cell_type": "markdown",
      "source": [
        "Подберем коэффициент для смешивания предсказания моделей.  \n",
        "Для этого возьмем предсказания LogReg модели обученной только на TDIDF и BERT и подберем коэф, при котороом их сумма максимальная.  \n",
        "( скорее всего это не самый объектиыный способ подбора, можно попробовать кросс-валидации и тп.)"
      ],
      "metadata": {
        "id": "TMQLFnyBLQTW"
      },
      "id": "TMQLFnyBLQTW"
    },
    {
      "cell_type": "code",
      "source": [
        "bert_pred = F.softmax(torch.tensor(add_valid_pred)).detach().cpu().numpy()"
      ],
      "metadata": {
        "id": "c6TwGlVXLWv5",
        "colab": {
          "base_uri": "https://localhost:8080/"
        },
        "outputId": "115ff179-7b16-465f-f6ef-72fe4e260774"
      },
      "id": "c6TwGlVXLWv5",
      "execution_count": 69,
      "outputs": [
        {
          "output_type": "stream",
          "name": "stderr",
          "text": [
            "<ipython-input-69-78678ce0047d>:1: UserWarning: Implicit dimension choice for softmax has been deprecated. Change the call to include dim=X as an argument.\n",
            "  bert_pred = F.softmax(torch.tensor(add_valid_pred)).detach().cpu().numpy()\n"
          ]
        }
      ]
    },
    {
      "cell_type": "code",
      "source": [
        "lr_pred = pred_prob_full[0]"
      ],
      "metadata": {
        "id": "jGgvpJnkMQ7d"
      },
      "id": "jGgvpJnkMQ7d",
      "execution_count": 70,
      "outputs": []
    },
    {
      "cell_type": "markdown",
      "source": [
        "Найдем оптимальный порог \"trsh\".  \n",
        "Для этого выберем такой порог, при котором среднее взвешенное вероятностей дает максимальную метрику f1-macro."
      ],
      "metadata": {
        "id": "fWyVgGpvMl_I"
      },
      "id": "fWyVgGpvMl_I"
    },
    {
      "cell_type": "code",
      "source": [
        "res_score = {}\n",
        "\n",
        "for i in range(0, 100, 1):\n",
        "  i = i / 100\n",
        "  y_pred_blend = np.argmax(bert_pred * (1 - i) + lr_pred * i, axis=1)\n",
        "  score = f1_score(target_val, y_pred_blend, average='macro')\n",
        "  res_score[i] = score\n",
        "\n",
        "for key, value in res_score.items():\n",
        "  if value == max(res_score.values()):\n",
        "    trsh = key\n",
        "print(f'trsh: {trsh}')"
      ],
      "metadata": {
        "id": "cEmKL3_a9HwR",
        "colab": {
          "base_uri": "https://localhost:8080/"
        },
        "outputId": "44833759-924e-469e-addf-ecc6e7ea7c68"
      },
      "id": "cEmKL3_a9HwR",
      "execution_count": 71,
      "outputs": [
        {
          "output_type": "stream",
          "name": "stdout",
          "text": [
            "trsh: 0.92\n"
          ]
        }
      ]
    },
    {
      "cell_type": "markdown",
      "source": [
        "Смешаем и предскажем"
      ],
      "metadata": {
        "id": "ZDRcEnOlMxCX"
      },
      "id": "ZDRcEnOlMxCX"
    },
    {
      "cell_type": "code",
      "source": [
        "y_pred_blend = np.argmax(bert_pred*(1 - trsh) + lr_pred*trsh, axis=1)"
      ],
      "metadata": {
        "id": "F_AH8n8FpstH"
      },
      "id": "F_AH8n8FpstH",
      "execution_count": 72,
      "outputs": []
    },
    {
      "cell_type": "code",
      "source": [
        "print(classification_report(target_val, y_pred_blend, zero_division=0))\n",
        "sns.heatmap(confusion_matrix(target_val, y_pred_blend), annot=True)"
      ],
      "metadata": {
        "id": "ckYqcKybp9Wb",
        "colab": {
          "base_uri": "https://localhost:8080/",
          "height": 777
        },
        "outputId": "d5c1bd99-d904-4ad0-edc2-eb595b41ef3f"
      },
      "id": "ckYqcKybp9Wb",
      "execution_count": 73,
      "outputs": [
        {
          "output_type": "stream",
          "name": "stdout",
          "text": [
            "              precision    recall  f1-score   support\n",
            "\n",
            "           0       0.73      0.68      0.70        47\n",
            "           1       0.89      0.89      0.89        44\n",
            "           2       0.56      0.50      0.53        10\n",
            "           3       0.47      0.70      0.56        10\n",
            "           4       0.83      1.00      0.91         5\n",
            "           5       0.56      1.00      0.71         5\n",
            "           6       1.00      0.50      0.67         4\n",
            "           7       1.00      0.67      0.80         3\n",
            "           8       0.50      0.33      0.40         3\n",
            "           9       1.00      1.00      1.00         2\n",
            "          10       0.50      0.50      0.50         2\n",
            "          11       0.00      0.00      0.00         2\n",
            "\n",
            "    accuracy                           0.74       137\n",
            "   macro avg       0.67      0.65      0.64       137\n",
            "weighted avg       0.74      0.74      0.73       137\n",
            "\n"
          ]
        },
        {
          "output_type": "execute_result",
          "data": {
            "text/plain": [
              "<Axes: >"
            ]
          },
          "metadata": {},
          "execution_count": 73
        },
        {
          "output_type": "display_data",
          "data": {
            "text/plain": [
              "<Figure size 640x480 with 2 Axes>"
            ],
            "image/png": "[encoded data removed]"
          },
          "metadata": {}
        }
      ]
    },
    {
      "cell_type": "markdown",
      "source": [
        "Как видим смешивание результатов работы логистической регрессии и BERT показывает превосходящий все предыдущие варианты.  \n",
        "Протестируем данную комбинацию."
      ],
      "metadata": {
        "id": "_wNvftzElhul"
      },
      "id": "_wNvftzElhul"
    },
    {
      "cell_type": "markdown",
      "source": [
        "### Test"
      ],
      "metadata": {
        "id": "1a1n_udxCvEb"
      },
      "id": "1a1n_udxCvEb"
    },
    {
      "cell_type": "markdown",
      "source": [
        "Выше мы сделали два основных вывода:  \n",
        "1. LogReg с TFIDF показала лучшее качество.  \n",
        "2. Смешивание результатов прогноза LogReg на TFIDF и BERT дообученного на train дает маленький, но прирост в метрике.  \n",
        "\n",
        "Проверим модель на отложенной выборке test"
      ],
      "metadata": {
        "id": "DBphV70ZC1BF"
      },
      "id": "DBphV70ZC1BF"
    },
    {
      "cell_type": "code",
      "source": [
        "X_train, X_val, y_train, y_val, _, _ = dataset_pipeline(test,\n",
        "                                                        target_test,\n",
        "                                                        tokenizer_bert = AutoTokenizer.from_pretrained(HF, do_lower_case=True),\n",
        "                                                        model_bert = AutoModel.from_pretrained(HF),\n",
        "                                                        pca = pca_full,\n",
        "                                                        tfidf = tfidf_full,\n",
        "                                                        index_train = index_train,\n",
        "                                                        index_val = index_val,\n",
        "                                                        bert=False,\n",
        "                                                        cv=False,\n",
        "                                                        is_test=True,\n",
        "                                                        device=device)\n",
        "\n",
        "logit = model_full\n",
        "y_pred = logit.predict(X_val)\n",
        "y_pred_proba = logit.predict_proba(X_val)\n",
        "score = f1_score(target_test, y_pred, average='macro')\n",
        "\n",
        "print(f'score: {score}')\n",
        "print(classification_report(target_test, y_pred, zero_division=0))\n",
        "sns.heatmap(confusion_matrix(target_test, y_pred), annot=True)\n"
      ],
      "metadata": {
        "id": "_thJxVvtHiXa",
        "colab": {
          "base_uri": "https://localhost:8080/",
          "height": 795
        },
        "outputId": "573e3fb8-9522-4e81-fd53-075a8feeb98a"
      },
      "id": "_thJxVvtHiXa",
      "execution_count": 74,
      "outputs": [
        {
          "output_type": "stream",
          "name": "stdout",
          "text": [
            "score: 0.6656178001807513\n",
            "              precision    recall  f1-score   support\n",
            "\n",
            "           0       0.72      0.80      0.76        41\n",
            "           1       0.72      0.87      0.79        39\n",
            "           2       0.67      0.22      0.33         9\n",
            "           3       0.64      0.78      0.70         9\n",
            "           4       1.00      0.40      0.57         5\n",
            "           5       1.00      1.00      1.00         5\n",
            "           6       1.00      0.33      0.50         3\n",
            "           7       0.00      0.00      0.00         2\n",
            "           8       1.00      0.50      0.67         2\n",
            "           9       1.00      1.00      1.00         2\n",
            "          10       1.00      0.50      0.67         2\n",
            "          11       1.00      1.00      1.00         2\n",
            "\n",
            "    accuracy                           0.74       121\n",
            "   macro avg       0.81      0.62      0.67       121\n",
            "weighted avg       0.75      0.74      0.72       121\n",
            "\n"
          ]
        },
        {
          "output_type": "execute_result",
          "data": {
            "text/plain": [
              "<Axes: >"
            ]
          },
          "metadata": {},
          "execution_count": 74
        },
        {
          "output_type": "display_data",
          "data": {
            "text/plain": [
              "<Figure size 640x480 with 2 Axes>"
            ],
            "image/png": "[encoded data removed]"
          },
          "metadata": {}
        }
      ]
    },
    {
      "cell_type": "code",
      "source": [
        "PATH_MODEL_BALANCED = './data/bert_multiclass_balanced11.pt'\n",
        "\n",
        "model = AutoModelForSequenceClassification.from_pretrained(HF, num_labels=len(set(target_train_val)), ignore_mismatched_sizes=True)\n",
        "model.load_state_dict(torch.load(PATH_MODEL_BALANCED, map_location=device))\n",
        "model.to(device)\n",
        "model.eval()\n",
        "\n",
        "criterion = nn.CrossEntropyLoss()\n",
        "\n",
        "test_loss, test_pred, test_labels = evaluate(model, criterion, test_dataloader, device=device)\n",
        "logist_softmax = F.softmax(torch.tensor(test_pred)).detach().cpu().numpy()\n",
        "\n",
        "test_pred_concat = np.argmax(logist_softmax*(1 - trsh) + y_pred_proba*trsh, axis=1)"
      ],
      "metadata": {
        "id": "0frLkQ8nQa5N",
        "colab": {
          "base_uri": "https://localhost:8080/",
          "height": 173,
          "referenced_widgets": [
            "ba3f24f8afb0475dbdae0ad75f182196",
            "89e587a0203f45afbda0ba46539b8bfc",
            "bb57eec3ba404d2d9fe393e6086487da",
            "9fe21e54dd6043228eba41c0edd32db1",
            "6df1202d53de46f295362121009b396a",
            "710fee0d770d46679e5b3a0a751828b0",
            "ca4c9c0c396c4fe7a34c6a4b8703ad79",
            "6e3bd67aed434c0d90d206192863e2c5",
            "af0d694ce4e9412897fb70f2373f32ca",
            "049e3d38ad4a4d8bb2e5d43bead0c018",
            "946e1aa8502f4020b13d5eadf7487800"
          ]
        },
        "outputId": "465016b8-4d35-4939-a803-519cae4e7e68"
      },
      "id": "0frLkQ8nQa5N",
      "execution_count": 75,
      "outputs": [
        {
          "output_type": "stream",
          "name": "stderr",
          "text": [
            "Some weights of BertForSequenceClassification were not initialized from the model checkpoint at ProsusAI/finbert and are newly initialized because the shapes did not match:\n",
            "- classifier.weight: found shape torch.Size([3, 768]) in the checkpoint and torch.Size([12, 768]) in the model instantiated\n",
            "- classifier.bias: found shape torch.Size([3]) in the checkpoint and torch.Size([12]) in the model instantiated\n",
            "You should probably TRAIN this model on a down-stream task to be able to use it for predictions and inference.\n"
          ]
        },
        {
          "output_type": "display_data",
          "data": {
            "text/plain": [
              "  0%|          | 0/1 [00:00<?, ?it/s]"
            ],
            "application/vnd.jupyter.widget-view+json": {
              "version_major": 2,
              "version_minor": 0,
              "model_id": "ba3f24f8afb0475dbdae0ad75f182196"
            }
          },
          "metadata": {}
        },
        {
          "output_type": "stream",
          "name": "stderr",
          "text": [
            "<ipython-input-75-d2c548af17d8>:11: UserWarning: Implicit dimension choice for softmax has been deprecated. Change the call to include dim=X as an argument.\n",
            "  logist_softmax = F.softmax(torch.tensor(test_pred)).detach().cpu().numpy()\n"
          ]
        }
      ]
    },
    {
      "cell_type": "code",
      "source": [],
      "metadata": {
        "id": "l_wlfi37NZyr"
      },
      "id": "l_wlfi37NZyr",
      "execution_count": 75,
      "outputs": []
    },
    {
      "cell_type": "code",
      "source": [
        "print(classification_report(test_labels, test_pred_concat, zero_division=0))\n",
        "sns.heatmap(confusion_matrix(test_labels, test_pred_concat), annot=True)"
      ],
      "metadata": {
        "id": "Bv6Dy6MNCuld",
        "colab": {
          "base_uri": "https://localhost:8080/",
          "height": 777
        },
        "outputId": "9a8ac069-ac59-4c4c-818a-e6fcc5f65472"
      },
      "id": "Bv6Dy6MNCuld",
      "execution_count": 76,
      "outputs": [
        {
          "output_type": "stream",
          "name": "stdout",
          "text": [
            "              precision    recall  f1-score   support\n",
            "\n",
            "           0       0.73      0.80      0.77        41\n",
            "           1       0.77      0.87      0.82        39\n",
            "           2       0.67      0.22      0.33         9\n",
            "           3       0.82      1.00      0.90         9\n",
            "           4       0.75      0.60      0.67         5\n",
            "           5       1.00      1.00      1.00         5\n",
            "           6       1.00      0.33      0.50         3\n",
            "           7       0.00      0.00      0.00         2\n",
            "           8       1.00      1.00      1.00         2\n",
            "           9       1.00      1.00      1.00         2\n",
            "          10       1.00      0.50      0.67         2\n",
            "          11       1.00      1.00      1.00         2\n",
            "\n",
            "    accuracy                           0.78       121\n",
            "   macro avg       0.81      0.69      0.72       121\n",
            "weighted avg       0.77      0.78      0.76       121\n",
            "\n"
          ]
        },
        {
          "output_type": "execute_result",
          "data": {
            "text/plain": [
              "<Axes: >"
            ]
          },
          "metadata": {},
          "execution_count": 76
        },
        {
          "output_type": "display_data",
          "data": {
            "text/plain": [
              "<Figure size 640x480 with 2 Axes>"
            ],
            "image/png": "[encoded data removed]"
          },
          "metadata": {}
        }
      ]
    },
    {
      "cell_type": "markdown",
      "source": [
        "По результатам работы модели учета оценки как LR, так и BERT видим, что совместная оценка превосходит одинучную LR.  "
      ],
      "metadata": {
        "id": "ETHek9aMvdlZ"
      },
      "id": "ETHek9aMvdlZ"
    },
    {
      "cell_type": "markdown",
      "source": [
        "### Inference"
      ],
      "metadata": {
        "id": "O4bcSyr5Q0o3"
      },
      "id": "O4bcSyr5Q0o3"
    },
    {
      "cell_type": "code",
      "source": [
        "lable2token"
      ],
      "metadata": {
        "id": "kQyanLRVkOsu",
        "colab": {
          "base_uri": "https://localhost:8080/"
        },
        "outputId": "e741a415-ad37-43ac-cda9-ad3a18e76d66"
      },
      "id": "kQyanLRVkOsu",
      "execution_count": 79,
      "outputs": [
        {
          "output_type": "execute_result",
          "data": {
            "text/plain": [
              "{'development, specified': 0,\n",
              " 'partnership, non-crypto': 1,\n",
              " 'development': 2,\n",
              " 'announcement promise': 3,\n",
              " 'start of burn/buyback': 4,\n",
              " 'legal, negative': 5,\n",
              " 'legal, positive': 6,\n",
              " 'raise': 7,\n",
              " 'exploit': 8,\n",
              " 'negative': 9,\n",
              " 'selling': 10,\n",
              " 'ripple': 11}"
            ]
          },
          "metadata": {},
          "execution_count": 79
        }
      ]
    },
    {
      "cell_type": "code",
      "source": [
        "text_to_classify = [\"This is an example sentence for classification.\"]\n",
        "\n",
        "PATH_MODEL_BALANCED = './data/bert_multiclass_balanced11.pt'\n",
        "tokenizer = AutoTokenizer.from_pretrained(HF, do_lower_case=True)\n",
        "\n",
        "lable, name = inference(text=pd.Series(text_to_classify),\n",
        "                        PATH_MODEL=PATH_MODEL,\n",
        "                        pca=pca_full,\n",
        "                        tfidf=tfidf_full,\n",
        "                        model_lr=model_full,\n",
        "                        HF=HF,\n",
        "                        tokenizer=tokenizer,\n",
        "                        trsh=trsh,\n",
        "                        lable2token=lable2token)\n",
        "print(f\"_____lable: {lable}, name: {name}_____\")"
      ],
      "metadata": {
        "id": "r0PNbYjrl06U",
        "colab": {
          "base_uri": "https://localhost:8080/"
        },
        "outputId": "a073077a-939f-44ae-9186-fccf7f967689"
      },
      "id": "r0PNbYjrl06U",
      "execution_count": 81,
      "outputs": [
        {
          "output_type": "stream",
          "name": "stderr",
          "text": [
            "Some weights of BertForSequenceClassification were not initialized from the model checkpoint at ProsusAI/finbert and are newly initialized because the shapes did not match:\n",
            "- classifier.weight: found shape torch.Size([3, 768]) in the checkpoint and torch.Size([12, 768]) in the model instantiated\n",
            "- classifier.bias: found shape torch.Size([3]) in the checkpoint and torch.Size([12]) in the model instantiated\n",
            "You should probably TRAIN this model on a down-stream task to be able to use it for predictions and inference.\n"
          ]
        },
        {
          "output_type": "stream",
          "name": "stdout",
          "text": [
            "_____lable: [0], name: ['development, specified']_____\n"
          ]
        },
        {
          "output_type": "stream",
          "name": "stderr",
          "text": [
            "/content/src/functions_bert.py:329: UserWarning: To copy construct from a tensor, it is recommended to use sourceTensor.clone().detach() or sourceTensor.clone().detach().requires_grad_(True), rather than torch.tensor(sourceTensor).\n",
            "  logist_softmax = F.softmax(torch.tensor(logits)).detach().cpu().numpy()\n",
            "/content/src/functions_bert.py:329: UserWarning: Implicit dimension choice for softmax has been deprecated. Change the call to include dim=X as an argument.\n",
            "  logist_softmax = F.softmax(torch.tensor(logits)).detach().cpu().numpy()\n"
          ]
        }
      ]
    },
    {
      "cell_type": "markdown",
      "source": [
        "## Итого"
      ],
      "metadata": {
        "id": "E5RhQCyuOWXI"
      },
      "id": "E5RhQCyuOWXI"
    },
    {
      "cell_type": "markdown",
      "source": [
        "Изучили данные, отчистили от малых классов и дубликатов.  \n",
        "Проверили ряд гипотез таких как:\n",
        "1. Объединение признаков TFIDF и эмбедингов BERT может дать прирост в качестве.  \n",
        "Гипотеза не оправдалась.\n",
        "2. CatBoost может дать лучшее качество на данных TFIDF.\n",
        "Гипотеза не опрадвалась\n",
        "3. Можно обучить один большой BERT и она даст лучшее качетво.\n",
        "Гипотеза не оправдалась.\n",
        "4. Можно взять лучшую линейную модель и BERT дообученный на наших данных, взять среднее взвешенное предсказаний и это считать вероятностью класса.\n",
        "Гипотеза в целом оправдалась, получилось добиться более высокого качества на валидационной выборке.  \n",
        "\n",
        "При этом аугументация текста используя замену слов на синонимы дала значительный прирост качества BERT по сравнению с моделью, где дисбаланс решался весами.  \n",
        "\n",
        "TO DO  \n",
        "Можно пытаться обучать BERT на комбинации аугументаций  \n",
        "Можно настроить гиперпараметры градинтного бустинга и попробовать получить качество выше чем LogReg  \n",
        "Можно попытаться обучить ряд моделей OnevsAll, чтобы определять таким образом проблемыные классы. Мои попытки так сделать эффекта не принесли.  \n",
        "Можно подумать над извлечением дополнительных фичей из текста и добавления их в модели.\n"
      ],
      "metadata": {
        "id": "sbks0upcOWZ1"
      },
      "id": "sbks0upcOWZ1"
    }
  ],
  "metadata": {
    "colab": {
      "provenance": [],
      "gpuType": "T4",
      "toc_visible": true
    },
    "kernelspec": {
      "display_name": "Python 3",
      "name": "python3"
    },
    "language_info": {
      "codemirror_mode": {
        "name": "ipython",
        "version": 3
      },
      "file_extension": ".py",
      "mimetype": "text/x-python",
      "name": "python",
      "nbconvert_exporter": "python",
      "pygments_lexer": "ipython3",
      "version": "3.8.10"
    },
    "accelerator": "GPU",
    "widgets": {
      "application/vnd.jupyter.widget-state+json": {
        "673ae1714b284e83b7e7c25084ebc561": {
          "model_module": "@jupyter-widgets/controls",
          "model_name": "HBoxModel",
          "model_module_version": "1.5.0",
          "state": {
            "_dom_classes": [],
            "_model_module": "@jupyter-widgets/controls",
            "_model_module_version": "1.5.0",
            "_model_name": "HBoxModel",
            "_view_count": null,
            "_view_module": "@jupyter-widgets/controls",
            "_view_module_version": "1.5.0",
            "_view_name": "HBoxView",
            "box_style": "",
            "children": [
              "IPY_MODEL_09803d387f3046ecbeee8a4ab8461cc6",
              "IPY_MODEL_d3e358cd24ad4b48bce69a9067205526",
              "IPY_MODEL_ee891889fe624521b6d86f26eb6d2613"
            ],
            "layout": "IPY_MODEL_9ff9107ddfeb454daad2d9fea37b9265"
          }
        },
        "09803d387f3046ecbeee8a4ab8461cc6": {
          "model_module": "@jupyter-widgets/controls",
          "model_name": "HTMLModel",
          "model_module_version": "1.5.0",
          "state": {
            "_dom_classes": [],
            "_model_module": "@jupyter-widgets/controls",
            "_model_module_version": "1.5.0",
            "_model_name": "HTMLModel",
            "_view_count": null,
            "_view_module": "@jupyter-widgets/controls",
            "_view_module_version": "1.5.0",
            "_view_name": "HTMLView",
            "description": "",
            "description_tooltip": null,
            "layout": "IPY_MODEL_eb0aa9b4dc1f4ae185af01cfd138e8b0",
            "placeholder": "​",
            "style": "IPY_MODEL_93dda4eb885c458592f61e33e22f4a89",
            "value": "100%"
          }
        },
        "d3e358cd24ad4b48bce69a9067205526": {
          "model_module": "@jupyter-widgets/controls",
          "model_name": "FloatProgressModel",
          "model_module_version": "1.5.0",
          "state": {
            "_dom_classes": [],
            "_model_module": "@jupyter-widgets/controls",
            "_model_module_version": "1.5.0",
            "_model_name": "FloatProgressModel",
            "_view_count": null,
            "_view_module": "@jupyter-widgets/controls",
            "_view_module_version": "1.5.0",
            "_view_name": "ProgressView",
            "bar_style": "success",
            "description": "",
            "description_tooltip": null,
            "layout": "IPY_MODEL_79962038b678417f9da9e32d8ac8aab8",
            "max": 3,
            "min": 0,
            "orientation": "horizontal",
            "style": "IPY_MODEL_f13d1cf59dd74b4199192c5f296a8614",
            "value": 3
          }
        },
        "ee891889fe624521b6d86f26eb6d2613": {
          "model_module": "@jupyter-widgets/controls",
          "model_name": "HTMLModel",
          "model_module_version": "1.5.0",
          "state": {
            "_dom_classes": [],
            "_model_module": "@jupyter-widgets/controls",
            "_model_module_version": "1.5.0",
            "_model_name": "HTMLModel",
            "_view_count": null,
            "_view_module": "@jupyter-widgets/controls",
            "_view_module_version": "1.5.0",
            "_view_name": "HTMLView",
            "description": "",
            "description_tooltip": null,
            "layout": "IPY_MODEL_9b1d6b545f1a4216abf7f3b540e3b012",
            "placeholder": "​",
            "style": "IPY_MODEL_959bd89280a74cf8a9fc64b65d424e85",
            "value": " 3/3 [00:01&lt;00:00,  1.98it/s]"
          }
        },
        "9ff9107ddfeb454daad2d9fea37b9265": {
          "model_module": "@jupyter-widgets/base",
          "model_name": "LayoutModel",
          "model_module_version": "1.2.0",
          "state": {
            "_model_module": "@jupyter-widgets/base",
            "_model_module_version": "1.2.0",
            "_model_name": "LayoutModel",
            "_view_count": null,
            "_view_module": "@jupyter-widgets/base",
            "_view_module_version": "1.2.0",
            "_view_name": "LayoutView",
            "align_content": null,
            "align_items": null,
            "align_self": null,
            "border": null,
            "bottom": null,
            "display": null,
            "flex": null,
            "flex_flow": null,
            "grid_area": null,
            "grid_auto_columns": null,
            "grid_auto_flow": null,
            "grid_auto_rows": null,
            "grid_column": null,
            "grid_gap": null,
            "grid_row": null,
            "grid_template_areas": null,
            "grid_template_columns": null,
            "grid_template_rows": null,
            "height": null,
            "justify_content": null,
            "justify_items": null,
            "left": null,
            "margin": null,
            "max_height": null,
            "max_width": null,
            "min_height": null,
            "min_width": null,
            "object_fit": null,
            "object_position": null,
            "order": null,
            "overflow": null,
            "overflow_x": null,
            "overflow_y": null,
            "padding": null,
            "right": null,
            "top": null,
            "visibility": null,
            "width": null
          }
        },
        "eb0aa9b4dc1f4ae185af01cfd138e8b0": {
          "model_module": "@jupyter-widgets/base",
          "model_name": "LayoutModel",
          "model_module_version": "1.2.0",
          "state": {
            "_model_module": "@jupyter-widgets/base",
            "_model_module_version": "1.2.0",
            "_model_name": "LayoutModel",
            "_view_count": null,
            "_view_module": "@jupyter-widgets/base",
            "_view_module_version": "1.2.0",
            "_view_name": "LayoutView",
            "align_content": null,
            "align_items": null,
            "align_self": null,
            "border": null,
            "bottom": null,
            "display": null,
            "flex": null,
            "flex_flow": null,
            "grid_area": null,
            "grid_auto_columns": null,
            "grid_auto_flow": null,
            "grid_auto_rows": null,
            "grid_column": null,
            "grid_gap": null,
            "grid_row": null,
            "grid_template_areas": null,
            "grid_template_columns": null,
            "grid_template_rows": null,
            "height": null,
            "justify_content": null,
            "justify_items": null,
            "left": null,
            "margin": null,
            "max_height": null,
            "max_width": null,
            "min_height": null,
            "min_width": null,
            "object_fit": null,
            "object_position": null,
            "order": null,
            "overflow": null,
            "overflow_x": null,
            "overflow_y": null,
            "padding": null,
            "right": null,
            "top": null,
            "visibility": null,
            "width": null
          }
        },
        "93dda4eb885c458592f61e33e22f4a89": {
          "model_module": "@jupyter-widgets/controls",
          "model_name": "DescriptionStyleModel",
          "model_module_version": "1.5.0",
          "state": {
            "_model_module": "@jupyter-widgets/controls",
            "_model_module_version": "1.5.0",
            "_model_name": "DescriptionStyleModel",
            "_view_count": null,
            "_view_module": "@jupyter-widgets/base",
            "_view_module_version": "1.2.0",
            "_view_name": "StyleView",
            "description_width": ""
          }
        },
        "79962038b678417f9da9e32d8ac8aab8": {
          "model_module": "@jupyter-widgets/base",
          "model_name": "LayoutModel",
          "model_module_version": "1.2.0",
          "state": {
            "_model_module": "@jupyter-widgets/base",
            "_model_module_version": "1.2.0",
            "_model_name": "LayoutModel",
            "_view_count": null,
            "_view_module": "@jupyter-widgets/base",
            "_view_module_version": "1.2.0",
            "_view_name": "LayoutView",
            "align_content": null,
            "align_items": null,
            "align_self": null,
            "border": null,
            "bottom": null,
            "display": null,
            "flex": null,
            "flex_flow": null,
            "grid_area": null,
            "grid_auto_columns": null,
            "grid_auto_flow": null,
            "grid_auto_rows": null,
            "grid_column": null,
            "grid_gap": null,
            "grid_row": null,
            "grid_template_areas": null,
            "grid_template_columns": null,
            "grid_template_rows": null,
            "height": null,
            "justify_content": null,
            "justify_items": null,
            "left": null,
            "margin": null,
            "max_height": null,
            "max_width": null,
            "min_height": null,
            "min_width": null,
            "object_fit": null,
            "object_position": null,
            "order": null,
            "overflow": null,
            "overflow_x": null,
            "overflow_y": null,
            "padding": null,
            "right": null,
            "top": null,
            "visibility": null,
            "width": null
          }
        },
        "f13d1cf59dd74b4199192c5f296a8614": {
          "model_module": "@jupyter-widgets/controls",
          "model_name": "ProgressStyleModel",
          "model_module_version": "1.5.0",
          "state": {
            "_model_module": "@jupyter-widgets/controls",
            "_model_module_version": "1.5.0",
            "_model_name": "ProgressStyleModel",
            "_view_count": null,
            "_view_module": "@jupyter-widgets/base",
            "_view_module_version": "1.2.0",
            "_view_name": "StyleView",
            "bar_color": null,
            "description_width": ""
          }
        },
        "9b1d6b545f1a4216abf7f3b540e3b012": {
          "model_module": "@jupyter-widgets/base",
          "model_name": "LayoutModel",
          "model_module_version": "1.2.0",
          "state": {
            "_model_module": "@jupyter-widgets/base",
            "_model_module_version": "1.2.0",
            "_model_name": "LayoutModel",
            "_view_count": null,
            "_view_module": "@jupyter-widgets/base",
            "_view_module_version": "1.2.0",
            "_view_name": "LayoutView",
            "align_content": null,
            "align_items": null,
            "align_self": null,
            "border": null,
            "bottom": null,
            "display": null,
            "flex": null,
            "flex_flow": null,
            "grid_area": null,
            "grid_auto_columns": null,
            "grid_auto_flow": null,
            "grid_auto_rows": null,
            "grid_column": null,
            "grid_gap": null,
            "grid_row": null,
            "grid_template_areas": null,
            "grid_template_columns": null,
            "grid_template_rows": null,
            "height": null,
            "justify_content": null,
            "justify_items": null,
            "left": null,
            "margin": null,
            "max_height": null,
            "max_width": null,
            "min_height": null,
            "min_width": null,
            "object_fit": null,
            "object_position": null,
            "order": null,
            "overflow": null,
            "overflow_x": null,
            "overflow_y": null,
            "padding": null,
            "right": null,
            "top": null,
            "visibility": null,
            "width": null
          }
        },
        "959bd89280a74cf8a9fc64b65d424e85": {
          "model_module": "@jupyter-widgets/controls",
          "model_name": "DescriptionStyleModel",
          "model_module_version": "1.5.0",
          "state": {
            "_model_module": "@jupyter-widgets/controls",
            "_model_module_version": "1.5.0",
            "_model_name": "DescriptionStyleModel",
            "_view_count": null,
            "_view_module": "@jupyter-widgets/base",
            "_view_module_version": "1.2.0",
            "_view_name": "StyleView",
            "description_width": ""
          }
        },
        "16bdb107c1be4a3096ebbb35c4050f30": {
          "model_module": "@jupyter-widgets/controls",
          "model_name": "HBoxModel",
          "model_module_version": "1.5.0",
          "state": {
            "_dom_classes": [],
            "_model_module": "@jupyter-widgets/controls",
            "_model_module_version": "1.5.0",
            "_model_name": "HBoxModel",
            "_view_count": null,
            "_view_module": "@jupyter-widgets/controls",
            "_view_module_version": "1.5.0",
            "_view_name": "HBoxView",
            "box_style": "",
            "children": [
              "IPY_MODEL_acfc4912dd63410fa56ce17b63778473",
              "IPY_MODEL_a114558215cd4618a51c260725ba54b7",
              "IPY_MODEL_0320abea574e49c7a07952e1613e40f1"
            ],
            "layout": "IPY_MODEL_e13a88aa86f14b1d80c3678ff886dd42"
          }
        },
        "acfc4912dd63410fa56ce17b63778473": {
          "model_module": "@jupyter-widgets/controls",
          "model_name": "HTMLModel",
          "model_module_version": "1.5.0",
          "state": {
            "_dom_classes": [],
            "_model_module": "@jupyter-widgets/controls",
            "_model_module_version": "1.5.0",
            "_model_name": "HTMLModel",
            "_view_count": null,
            "_view_module": "@jupyter-widgets/controls",
            "_view_module_version": "1.5.0",
            "_view_name": "HTMLView",
            "description": "",
            "description_tooltip": null,
            "layout": "IPY_MODEL_5603d5fe8d5941c886b92ea8fdc0545b",
            "placeholder": "​",
            "style": "IPY_MODEL_794b3d9fe4764f6e896cf944285fff1a",
            "value": "100%"
          }
        },
        "a114558215cd4618a51c260725ba54b7": {
          "model_module": "@jupyter-widgets/controls",
          "model_name": "FloatProgressModel",
          "model_module_version": "1.5.0",
          "state": {
            "_dom_classes": [],
            "_model_module": "@jupyter-widgets/controls",
            "_model_module_version": "1.5.0",
            "_model_name": "FloatProgressModel",
            "_view_count": null,
            "_view_module": "@jupyter-widgets/controls",
            "_view_module_version": "1.5.0",
            "_view_name": "ProgressView",
            "bar_style": "success",
            "description": "",
            "description_tooltip": null,
            "layout": "IPY_MODEL_ceb773315a6e4d5da513850609626985",
            "max": 1,
            "min": 0,
            "orientation": "horizontal",
            "style": "IPY_MODEL_8e01ee34853947f0a30061eadc8c22ea",
            "value": 1
          }
        },
        "0320abea574e49c7a07952e1613e40f1": {
          "model_module": "@jupyter-widgets/controls",
          "model_name": "HTMLModel",
          "model_module_version": "1.5.0",
          "state": {
            "_dom_classes": [],
            "_model_module": "@jupyter-widgets/controls",
            "_model_module_version": "1.5.0",
            "_model_name": "HTMLModel",
            "_view_count": null,
            "_view_module": "@jupyter-widgets/controls",
            "_view_module_version": "1.5.0",
            "_view_name": "HTMLView",
            "description": "",
            "description_tooltip": null,
            "layout": "IPY_MODEL_da065bb0add345a7b822ff8169a6af19",
            "placeholder": "​",
            "style": "IPY_MODEL_4405cb639811425eabf93eea26b2f2ea",
            "value": " 1/1 [00:01&lt;00:00,  1.60s/it]"
          }
        },
        "e13a88aa86f14b1d80c3678ff886dd42": {
          "model_module": "@jupyter-widgets/base",
          "model_name": "LayoutModel",
          "model_module_version": "1.2.0",
          "state": {
            "_model_module": "@jupyter-widgets/base",
            "_model_module_version": "1.2.0",
            "_model_name": "LayoutModel",
            "_view_count": null,
            "_view_module": "@jupyter-widgets/base",
            "_view_module_version": "1.2.0",
            "_view_name": "LayoutView",
            "align_content": null,
            "align_items": null,
            "align_self": null,
            "border": null,
            "bottom": null,
            "display": null,
            "flex": null,
            "flex_flow": null,
            "grid_area": null,
            "grid_auto_columns": null,
            "grid_auto_flow": null,
            "grid_auto_rows": null,
            "grid_column": null,
            "grid_gap": null,
            "grid_row": null,
            "grid_template_areas": null,
            "grid_template_columns": null,
            "grid_template_rows": null,
            "height": null,
            "justify_content": null,
            "justify_items": null,
            "left": null,
            "margin": null,
            "max_height": null,
            "max_width": null,
            "min_height": null,
            "min_width": null,
            "object_fit": null,
            "object_position": null,
            "order": null,
            "overflow": null,
            "overflow_x": null,
            "overflow_y": null,
            "padding": null,
            "right": null,
            "top": null,
            "visibility": null,
            "width": null
          }
        },
        "5603d5fe8d5941c886b92ea8fdc0545b": {
          "model_module": "@jupyter-widgets/base",
          "model_name": "LayoutModel",
          "model_module_version": "1.2.0",
          "state": {
            "_model_module": "@jupyter-widgets/base",
            "_model_module_version": "1.2.0",
            "_model_name": "LayoutModel",
            "_view_count": null,
            "_view_module": "@jupyter-widgets/base",
            "_view_module_version": "1.2.0",
            "_view_name": "LayoutView",
            "align_content": null,
            "align_items": null,
            "align_self": null,
            "border": null,
            "bottom": null,
            "display": null,
            "flex": null,
            "flex_flow": null,
            "grid_area": null,
            "grid_auto_columns": null,
            "grid_auto_flow": null,
            "grid_auto_rows": null,
            "grid_column": null,
            "grid_gap": null,
            "grid_row": null,
            "grid_template_areas": null,
            "grid_template_columns": null,
            "grid_template_rows": null,
            "height": null,
            "justify_content": null,
            "justify_items": null,
            "left": null,
            "margin": null,
            "max_height": null,
            "max_width": null,
            "min_height": null,
            "min_width": null,
            "object_fit": null,
            "object_position": null,
            "order": null,
            "overflow": null,
            "overflow_x": null,
            "overflow_y": null,
            "padding": null,
            "right": null,
            "top": null,
            "visibility": null,
            "width": null
          }
        },
        "794b3d9fe4764f6e896cf944285fff1a": {
          "model_module": "@jupyter-widgets/controls",
          "model_name": "DescriptionStyleModel",
          "model_module_version": "1.5.0",
          "state": {
            "_model_module": "@jupyter-widgets/controls",
            "_model_module_version": "1.5.0",
            "_model_name": "DescriptionStyleModel",
            "_view_count": null,
            "_view_module": "@jupyter-widgets/base",
            "_view_module_version": "1.2.0",
            "_view_name": "StyleView",
            "description_width": ""
          }
        },
        "ceb773315a6e4d5da513850609626985": {
          "model_module": "@jupyter-widgets/base",
          "model_name": "LayoutModel",
          "model_module_version": "1.2.0",
          "state": {
            "_model_module": "@jupyter-widgets/base",
            "_model_module_version": "1.2.0",
            "_model_name": "LayoutModel",
            "_view_count": null,
            "_view_module": "@jupyter-widgets/base",
            "_view_module_version": "1.2.0",
            "_view_name": "LayoutView",
            "align_content": null,
            "align_items": null,
            "align_self": null,
            "border": null,
            "bottom": null,
            "display": null,
            "flex": null,
            "flex_flow": null,
            "grid_area": null,
            "grid_auto_columns": null,
            "grid_auto_flow": null,
            "grid_auto_rows": null,
            "grid_column": null,
            "grid_gap": null,
            "grid_row": null,
            "grid_template_areas": null,
            "grid_template_columns": null,
            "grid_template_rows": null,
            "height": null,
            "justify_content": null,
            "justify_items": null,
            "left": null,
            "margin": null,
            "max_height": null,
            "max_width": null,
            "min_height": null,
            "min_width": null,
            "object_fit": null,
            "object_position": null,
            "order": null,
            "overflow": null,
            "overflow_x": null,
            "overflow_y": null,
            "padding": null,
            "right": null,
            "top": null,
            "visibility": null,
            "width": null
          }
        },
        "8e01ee34853947f0a30061eadc8c22ea": {
          "model_module": "@jupyter-widgets/controls",
          "model_name": "ProgressStyleModel",
          "model_module_version": "1.5.0",
          "state": {
            "_model_module": "@jupyter-widgets/controls",
            "_model_module_version": "1.5.0",
            "_model_name": "ProgressStyleModel",
            "_view_count": null,
            "_view_module": "@jupyter-widgets/base",
            "_view_module_version": "1.2.0",
            "_view_name": "StyleView",
            "bar_color": null,
            "description_width": ""
          }
        },
        "da065bb0add345a7b822ff8169a6af19": {
          "model_module": "@jupyter-widgets/base",
          "model_name": "LayoutModel",
          "model_module_version": "1.2.0",
          "state": {
            "_model_module": "@jupyter-widgets/base",
            "_model_module_version": "1.2.0",
            "_model_name": "LayoutModel",
            "_view_count": null,
            "_view_module": "@jupyter-widgets/base",
            "_view_module_version": "1.2.0",
            "_view_name": "LayoutView",
            "align_content": null,
            "align_items": null,
            "align_self": null,
            "border": null,
            "bottom": null,
            "display": null,
            "flex": null,
            "flex_flow": null,
            "grid_area": null,
            "grid_auto_columns": null,
            "grid_auto_flow": null,
            "grid_auto_rows": null,
            "grid_column": null,
            "grid_gap": null,
            "grid_row": null,
            "grid_template_areas": null,
            "grid_template_columns": null,
            "grid_template_rows": null,
            "height": null,
            "justify_content": null,
            "justify_items": null,
            "left": null,
            "margin": null,
            "max_height": null,
            "max_width": null,
            "min_height": null,
            "min_width": null,
            "object_fit": null,
            "object_position": null,
            "order": null,
            "overflow": null,
            "overflow_x": null,
            "overflow_y": null,
            "padding": null,
            "right": null,
            "top": null,
            "visibility": null,
            "width": null
          }
        },
        "4405cb639811425eabf93eea26b2f2ea": {
          "model_module": "@jupyter-widgets/controls",
          "model_name": "DescriptionStyleModel",
          "model_module_version": "1.5.0",
          "state": {
            "_model_module": "@jupyter-widgets/controls",
            "_model_module_version": "1.5.0",
            "_model_name": "DescriptionStyleModel",
            "_view_count": null,
            "_view_module": "@jupyter-widgets/base",
            "_view_module_version": "1.2.0",
            "_view_name": "StyleView",
            "description_width": ""
          }
        },
        "ba3f24f8afb0475dbdae0ad75f182196": {
          "model_module": "@jupyter-widgets/controls",
          "model_name": "HBoxModel",
          "model_module_version": "1.5.0",
          "state": {
            "_dom_classes": [],
            "_model_module": "@jupyter-widgets/controls",
            "_model_module_version": "1.5.0",
            "_model_name": "HBoxModel",
            "_view_count": null,
            "_view_module": "@jupyter-widgets/controls",
            "_view_module_version": "1.5.0",
            "_view_name": "HBoxView",
            "box_style": "",
            "children": [
              "IPY_MODEL_89e587a0203f45afbda0ba46539b8bfc",
              "IPY_MODEL_bb57eec3ba404d2d9fe393e6086487da",
              "IPY_MODEL_9fe21e54dd6043228eba41c0edd32db1"
            ],
            "layout": "IPY_MODEL_6df1202d53de46f295362121009b396a"
          }
        },
        "89e587a0203f45afbda0ba46539b8bfc": {
          "model_module": "@jupyter-widgets/controls",
          "model_name": "HTMLModel",
          "model_module_version": "1.5.0",
          "state": {
            "_dom_classes": [],
            "_model_module": "@jupyter-widgets/controls",
            "_model_module_version": "1.5.0",
            "_model_name": "HTMLModel",
            "_view_count": null,
            "_view_module": "@jupyter-widgets/controls",
            "_view_module_version": "1.5.0",
            "_view_name": "HTMLView",
            "description": "",
            "description_tooltip": null,
            "layout": "IPY_MODEL_710fee0d770d46679e5b3a0a751828b0",
            "placeholder": "​",
            "style": "IPY_MODEL_ca4c9c0c396c4fe7a34c6a4b8703ad79",
            "value": "100%"
          }
        },
        "bb57eec3ba404d2d9fe393e6086487da": {
          "model_module": "@jupyter-widgets/controls",
          "model_name": "FloatProgressModel",
          "model_module_version": "1.5.0",
          "state": {
            "_dom_classes": [],
            "_model_module": "@jupyter-widgets/controls",
            "_model_module_version": "1.5.0",
            "_model_name": "FloatProgressModel",
            "_view_count": null,
            "_view_module": "@jupyter-widgets/controls",
            "_view_module_version": "1.5.0",
            "_view_name": "ProgressView",
            "bar_style": "success",
            "description": "",
            "description_tooltip": null,
            "layout": "IPY_MODEL_6e3bd67aed434c0d90d206192863e2c5",
            "max": 1,
            "min": 0,
            "orientation": "horizontal",
            "style": "IPY_MODEL_af0d694ce4e9412897fb70f2373f32ca",
            "value": 1
          }
        },
        "9fe21e54dd6043228eba41c0edd32db1": {
          "model_module": "@jupyter-widgets/controls",
          "model_name": "HTMLModel",
          "model_module_version": "1.5.0",
          "state": {
            "_dom_classes": [],
            "_model_module": "@jupyter-widgets/controls",
            "_model_module_version": "1.5.0",
            "_model_name": "HTMLModel",
            "_view_count": null,
            "_view_module": "@jupyter-widgets/controls",
            "_view_module_version": "1.5.0",
            "_view_name": "HTMLView",
            "description": "",
            "description_tooltip": null,
            "layout": "IPY_MODEL_049e3d38ad4a4d8bb2e5d43bead0c018",
            "placeholder": "​",
            "style": "IPY_MODEL_946e1aa8502f4020b13d5eadf7487800",
            "value": " 1/1 [00:01&lt;00:00,  1.67s/it]"
          }
        },
        "6df1202d53de46f295362121009b396a": {
          "model_module": "@jupyter-widgets/base",
          "model_name": "LayoutModel",
          "model_module_version": "1.2.0",
          "state": {
            "_model_module": "@jupyter-widgets/base",
            "_model_module_version": "1.2.0",
            "_model_name": "LayoutModel",
            "_view_count": null,
            "_view_module": "@jupyter-widgets/base",
            "_view_module_version": "1.2.0",
            "_view_name": "LayoutView",
            "align_content": null,
            "align_items": null,
            "align_self": null,
            "border": null,
            "bottom": null,
            "display": null,
            "flex": null,
            "flex_flow": null,
            "grid_area": null,
            "grid_auto_columns": null,
            "grid_auto_flow": null,
            "grid_auto_rows": null,
            "grid_column": null,
            "grid_gap": null,
            "grid_row": null,
            "grid_template_areas": null,
            "grid_template_columns": null,
            "grid_template_rows": null,
            "height": null,
            "justify_content": null,
            "justify_items": null,
            "left": null,
            "margin": null,
            "max_height": null,
            "max_width": null,
            "min_height": null,
            "min_width": null,
            "object_fit": null,
            "object_position": null,
            "order": null,
            "overflow": null,
            "overflow_x": null,
            "overflow_y": null,
            "padding": null,
            "right": null,
            "top": null,
            "visibility": null,
            "width": null
          }
        },
        "710fee0d770d46679e5b3a0a751828b0": {
          "model_module": "@jupyter-widgets/base",
          "model_name": "LayoutModel",
          "model_module_version": "1.2.0",
          "state": {
            "_model_module": "@jupyter-widgets/base",
            "_model_module_version": "1.2.0",
            "_model_name": "LayoutModel",
            "_view_count": null,
            "_view_module": "@jupyter-widgets/base",
            "_view_module_version": "1.2.0",
            "_view_name": "LayoutView",
            "align_content": null,
            "align_items": null,
            "align_self": null,
            "border": null,
            "bottom": null,
            "display": null,
            "flex": null,
            "flex_flow": null,
            "grid_area": null,
            "grid_auto_columns": null,
            "grid_auto_flow": null,
            "grid_auto_rows": null,
            "grid_column": null,
            "grid_gap": null,
            "grid_row": null,
            "grid_template_areas": null,
            "grid_template_columns": null,
            "grid_template_rows": null,
            "height": null,
            "justify_content": null,
            "justify_items": null,
            "left": null,
            "margin": null,
            "max_height": null,
            "max_width": null,
            "min_height": null,
            "min_width": null,
            "object_fit": null,
            "object_position": null,
            "order": null,
            "overflow": null,
            "overflow_x": null,
            "overflow_y": null,
            "padding": null,
            "right": null,
            "top": null,
            "visibility": null,
            "width": null
          }
        },
        "ca4c9c0c396c4fe7a34c6a4b8703ad79": {
          "model_module": "@jupyter-widgets/controls",
          "model_name": "DescriptionStyleModel",
          "model_module_version": "1.5.0",
          "state": {
            "_model_module": "@jupyter-widgets/controls",
            "_model_module_version": "1.5.0",
            "_model_name": "DescriptionStyleModel",
            "_view_count": null,
            "_view_module": "@jupyter-widgets/base",
            "_view_module_version": "1.2.0",
            "_view_name": "StyleView",
            "description_width": ""
          }
        },
        "6e3bd67aed434c0d90d206192863e2c5": {
          "model_module": "@jupyter-widgets/base",
          "model_name": "LayoutModel",
          "model_module_version": "1.2.0",
          "state": {
            "_model_module": "@jupyter-widgets/base",
            "_model_module_version": "1.2.0",
            "_model_name": "LayoutModel",
            "_view_count": null,
            "_view_module": "@jupyter-widgets/base",
            "_view_module_version": "1.2.0",
            "_view_name": "LayoutView",
            "align_content": null,
            "align_items": null,
            "align_self": null,
            "border": null,
            "bottom": null,
            "display": null,
            "flex": null,
            "flex_flow": null,
            "grid_area": null,
            "grid_auto_columns": null,
            "grid_auto_flow": null,
            "grid_auto_rows": null,
            "grid_column": null,
            "grid_gap": null,
            "grid_row": null,
            "grid_template_areas": null,
            "grid_template_columns": null,
            "grid_template_rows": null,
            "height": null,
            "justify_content": null,
            "justify_items": null,
            "left": null,
            "margin": null,
            "max_height": null,
            "max_width": null,
            "min_height": null,
            "min_width": null,
            "object_fit": null,
            "object_position": null,
            "order": null,
            "overflow": null,
            "overflow_x": null,
            "overflow_y": null,
            "padding": null,
            "right": null,
            "top": null,
            "visibility": null,
            "width": null
          }
        },
        "af0d694ce4e9412897fb70f2373f32ca": {
          "model_module": "@jupyter-widgets/controls",
          "model_name": "ProgressStyleModel",
          "model_module_version": "1.5.0",
          "state": {
            "_model_module": "@jupyter-widgets/controls",
            "_model_module_version": "1.5.0",
            "_model_name": "ProgressStyleModel",
            "_view_count": null,
            "_view_module": "@jupyter-widgets/base",
            "_view_module_version": "1.2.0",
            "_view_name": "StyleView",
            "bar_color": null,
            "description_width": ""
          }
        },
        "049e3d38ad4a4d8bb2e5d43bead0c018": {
          "model_module": "@jupyter-widgets/base",
          "model_name": "LayoutModel",
          "model_module_version": "1.2.0",
          "state": {
            "_model_module": "@jupyter-widgets/base",
            "_model_module_version": "1.2.0",
            "_model_name": "LayoutModel",
            "_view_count": null,
            "_view_module": "@jupyter-widgets/base",
            "_view_module_version": "1.2.0",
            "_view_name": "LayoutView",
            "align_content": null,
            "align_items": null,
            "align_self": null,
            "border": null,
            "bottom": null,
            "display": null,
            "flex": null,
            "flex_flow": null,
            "grid_area": null,
            "grid_auto_columns": null,
            "grid_auto_flow": null,
            "grid_auto_rows": null,
            "grid_column": null,
            "grid_gap": null,
            "grid_row": null,
            "grid_template_areas": null,
            "grid_template_columns": null,
            "grid_template_rows": null,
            "height": null,
            "justify_content": null,
            "justify_items": null,
            "left": null,
            "margin": null,
            "max_height": null,
            "max_width": null,
            "min_height": null,
            "min_width": null,
            "object_fit": null,
            "object_position": null,
            "order": null,
            "overflow": null,
            "overflow_x": null,
            "overflow_y": null,
            "padding": null,
            "right": null,
            "top": null,
            "visibility": null,
            "width": null
          }
        },
        "946e1aa8502f4020b13d5eadf7487800": {
          "model_module": "@jupyter-widgets/controls",
          "model_name": "DescriptionStyleModel",
          "model_module_version": "1.5.0",
          "state": {
            "_model_module": "@jupyter-widgets/controls",
            "_model_module_version": "1.5.0",
            "_model_name": "DescriptionStyleModel",
            "_view_count": null,
            "_view_module": "@jupyter-widgets/base",
            "_view_module_version": "1.2.0",
            "_view_name": "StyleView",
            "description_width": ""
          }
        }
      }
    }
  },
  "nbformat": 4,
  "nbformat_minor": 5
}